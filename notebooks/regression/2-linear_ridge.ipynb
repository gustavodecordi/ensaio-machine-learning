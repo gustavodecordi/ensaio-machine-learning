{
 "cells": [
  {
   "cell_type": "markdown",
   "id": "6d4ada09",
   "metadata": {},
   "source": [
    "# 0.0 - Ridge Linear Regression\n",
    "\n",
    "Os parâmetros utilizados para treinar o algoritmo **Ridge Linear Regression** serão a penalidade de regularização `alpha` e o número máximo de iterações, `max_iter`.</br>Os valores padrão (*default*) nesse caso são **alpha=1.0** e **max_iter=None**, segundo a documentação oficial disponível em:</br></br>https://scikit-learn.org/stable/modules/generated/sklearn.linear_model.Ridge.html"
   ]
  },
  {
   "cell_type": "markdown",
   "id": "0e23e6ff",
   "metadata": {},
   "source": [
    "# 1.0 - Importando bibliotecas"
   ]
  },
  {
   "cell_type": "code",
   "execution_count": 40,
   "id": "136a0f91",
   "metadata": {
    "ExecuteTime": {
     "end_time": "2024-10-11T21:11:34.559844Z",
     "start_time": "2024-10-11T21:11:34.525940Z"
    }
   },
   "outputs": [],
   "source": [
    "import pandas as pd\n",
    "import numpy as np\n",
    "from sklearn import linear_model as lm\n",
    "import matplotlib.pyplot as plt\n",
    "\n",
    "from itertools import product\n",
    "\n",
    "from sklearn.metrics import r2_score, mean_squared_error, root_mean_squared_error, mean_absolute_error, mean_absolute_percentage_error"
   ]
  },
  {
   "cell_type": "markdown",
   "id": "92838867",
   "metadata": {},
   "source": [
    "# 2.0 - Carregando os dados"
   ]
  },
  {
   "cell_type": "code",
   "execution_count": 41,
   "id": "e10d02ef",
   "metadata": {
    "ExecuteTime": {
     "end_time": "2024-10-11T21:11:37.996893Z",
     "start_time": "2024-10-11T21:11:37.644758Z"
    }
   },
   "outputs": [],
   "source": [
    "# Treino\n",
    "X_train = pd.read_csv('train/X_training.csv')\n",
    "y_train = pd.read_csv('train/y_training.csv')\n",
    "\n",
    "# Validação\n",
    "X_val = pd.read_csv('validation/X_validation.csv')\n",
    "y_val = pd.read_csv('validation/y_val.csv')\n",
    "\n",
    "# Teste\n",
    "X_test = pd.read_csv('test/X_test.csv')\n",
    "y_test = pd.read_csv('test/y_test.csv')"
   ]
  },
  {
   "cell_type": "markdown",
   "id": "b3a50c41",
   "metadata": {},
   "source": [
    "# 3.0 - Funções"
   ]
  },
  {
   "cell_type": "code",
   "execution_count": 42,
   "id": "81c4b46c",
   "metadata": {
    "ExecuteTime": {
     "end_time": "2024-10-11T21:11:40.415820Z",
     "start_time": "2024-10-11T21:11:40.390748Z"
    }
   },
   "outputs": [],
   "source": [
    "def metrics(y, y_pred, step, algorithm):\n",
    "    \"\"\"\n",
    "    Calcula várias métricas de avaliação de um modelo de regressão e as retorna em um DataFrame.\n",
    "\n",
    "    Parâmetros:\n",
    "    -----------\n",
    "    y : array-like\n",
    "        Valores da variável resposta.\n",
    "    \n",
    "    y_pred : array-like\n",
    "        Valores preditos pelo modelo.\n",
    "    \n",
    "    step : str\n",
    "        Etapa do processo de modelagem (ex: 'treino', 'validação', 'teste').\n",
    "    \n",
    "    algorithm : str\n",
    "        Nome do algoritmo usado.\n",
    "\n",
    "    Retorno:\n",
    "    --------\n",
    "    df_metrics : pandas.DataFrame\n",
    "        DataFrame contendo as métricas calculadas:\n",
    "        - 'Algorithm': Nome do algoritmo.\n",
    "        - 'Step': Etapa do processo (treino, validação ou teste).\n",
    "        - 'R2': Coeficiente de determinação.\n",
    "        - 'MSE': Erro quadrático médio.\n",
    "        - 'RMSE': Raiz do erro quadrático médio.\n",
    "        - 'MAE': Erro absoluto médio.\n",
    "        - 'MAPE': Erro percentual absoluto médio.\n",
    "    \"\"\"\n",
    "    # Calcula as métricas\n",
    "    r2 = r2_score(y, y_pred)\n",
    "    mse = mean_squared_error(y, y_pred)\n",
    "    rmse = np.sqrt(mse)\n",
    "    mae = mean_absolute_error(y, y_pred)\n",
    "    mape = mean_absolute_percentage_error(y, y_pred)\n",
    "\n",
    "    # Cria o DataFrame com as métricas\n",
    "    df_metrics = pd.DataFrame({   \n",
    "        'Algorithm': [algorithm],\n",
    "        'Step': [step],\n",
    "        'R2': [np.round(r2, 4)],\n",
    "        'MSE': [np.round(mse, 4)],\n",
    "        'RMSE': [np.round(rmse, 4)],\n",
    "        'MAE': [np.round(mae, 4)],\n",
    "        'MAPE': [np.round(mape, 4)]\n",
    "    })\n",
    "    \n",
    "    return df_metrics\n",
    "\n",
    "def exporta_excel(nome_algoritmo):\n",
    "    \"\"\"\n",
    "    Exporta os DataFrames de métricas para arquivos Excel em diferentes pastas.\n",
    "\n",
    "    Args:\n",
    "        nome_algoritmo (str): Nome do algoritmo utilizado.\n",
    "\n",
    "    Returns:\n",
    "        None\n",
    "    \"\"\"\n",
    "    etapas = ['train', 'validation', 'test']\n",
    "    df_list = [df_metrics_train, df_metrics_val, df_metrics_test]\n",
    "\n",
    "    for etapa, df in zip(etapas, df_list):\n",
    "        df.to_excel(f'{etapa}/metrics/metrics_{etapa}_{nome_algoritmo}.xlsx', index=False)"
   ]
  },
  {
   "cell_type": "markdown",
   "id": "dbb3765a",
   "metadata": {},
   "source": [
    "# 4.0 - Ajustando os dados"
   ]
  },
  {
   "cell_type": "code",
   "execution_count": 43,
   "id": "88b2fb9a",
   "metadata": {
    "ExecuteTime": {
     "end_time": "2024-10-11T21:11:44.399641Z",
     "start_time": "2024-10-11T21:11:44.383650Z"
    }
   },
   "outputs": [],
   "source": [
    "# transformação do formato DataFrame para Series, essencialmente um array unidimensional\n",
    "y_train, y_val, y_test = [ df.loc[:, 'song_popularity'] for df in [y_train, y_val, y_test] ]"
   ]
  },
  {
   "cell_type": "markdown",
   "id": "ffbdd6f7",
   "metadata": {},
   "source": [
    "# 5.0 - Desempenho do modelo\n",
    "\n",
    "## 5.1 - Dados de treino"
   ]
  },
  {
   "cell_type": "code",
   "execution_count": 44,
   "id": "08f8d431",
   "metadata": {
    "ExecuteTime": {
     "end_time": "2024-10-11T21:15:25.430446Z",
     "start_time": "2024-10-11T21:15:25.304573Z"
    }
   },
   "outputs": [
    {
     "data": {
      "text/html": [
       "<div>\n",
       "<style scoped>\n",
       "    .dataframe tbody tr th:only-of-type {\n",
       "        vertical-align: middle;\n",
       "    }\n",
       "\n",
       "    .dataframe tbody tr th {\n",
       "        vertical-align: top;\n",
       "    }\n",
       "\n",
       "    .dataframe thead th {\n",
       "        text-align: right;\n",
       "    }\n",
       "</style>\n",
       "<table border=\"1\" class=\"dataframe\">\n",
       "  <thead>\n",
       "    <tr style=\"text-align: right;\">\n",
       "      <th></th>\n",
       "      <th>Algorithm</th>\n",
       "      <th>Step</th>\n",
       "      <th>R2</th>\n",
       "      <th>MSE</th>\n",
       "      <th>RMSE</th>\n",
       "      <th>MAE</th>\n",
       "      <th>MAPE</th>\n",
       "    </tr>\n",
       "  </thead>\n",
       "  <tbody>\n",
       "    <tr>\n",
       "      <th>0</th>\n",
       "      <td>Ridge Linear Regression</td>\n",
       "      <td>Train</td>\n",
       "      <td>0.0461</td>\n",
       "      <td>455.9964</td>\n",
       "      <td>21.3541</td>\n",
       "      <td>16.9983</td>\n",
       "      <td>8.6534</td>\n",
       "    </tr>\n",
       "  </tbody>\n",
       "</table>\n",
       "</div>"
      ],
      "text/plain": [
       "                 Algorithm   Step      R2       MSE     RMSE      MAE    MAPE\n",
       "0  Ridge Linear Regression  Train  0.0461  455.9964  21.3541  16.9983  8.6534"
      ]
     },
     "execution_count": 44,
     "metadata": {},
     "output_type": "execute_result"
    }
   ],
   "source": [
    "# definição do modelo\n",
    "# Ridge - L2 (ameniza os coeficientes da equação linear)\n",
    "ridge_train = lm.Ridge( random_state = 0 )\n",
    "\n",
    "# treinamento do algoritmo.\n",
    "ridge_train.fit( X_train, y_train )\n",
    "\n",
    "# Predição sobre os dados de treino\n",
    "y_pred_train = ridge_train.predict( X_train )\n",
    "\n",
    "# Métricas\n",
    "df_metrics_train = metrics(y_train, y_pred_train, 'Train', 'Ridge Linear Regression')\n",
    "df_metrics_train"
   ]
  },
  {
   "cell_type": "markdown",
   "id": "6a9de39a",
   "metadata": {},
   "source": [
    "## 5.2 - Dados de validação"
   ]
  },
  {
   "cell_type": "code",
   "execution_count": 46,
   "id": "e11f43a5",
   "metadata": {
    "ExecuteTime": {
     "end_time": "2024-10-11T21:16:48.381280Z",
     "start_time": "2024-10-11T21:16:48.361451Z"
    }
   },
   "outputs": [
    {
     "data": {
      "text/html": [
       "<div>\n",
       "<style scoped>\n",
       "    .dataframe tbody tr th:only-of-type {\n",
       "        vertical-align: middle;\n",
       "    }\n",
       "\n",
       "    .dataframe tbody tr th {\n",
       "        vertical-align: top;\n",
       "    }\n",
       "\n",
       "    .dataframe thead th {\n",
       "        text-align: right;\n",
       "    }\n",
       "</style>\n",
       "<table border=\"1\" class=\"dataframe\">\n",
       "  <thead>\n",
       "    <tr style=\"text-align: right;\">\n",
       "      <th></th>\n",
       "      <th>Algorithm</th>\n",
       "      <th>Step</th>\n",
       "      <th>R2</th>\n",
       "      <th>MSE</th>\n",
       "      <th>RMSE</th>\n",
       "      <th>MAE</th>\n",
       "      <th>MAPE</th>\n",
       "    </tr>\n",
       "  </thead>\n",
       "  <tbody>\n",
       "    <tr>\n",
       "      <th>0</th>\n",
       "      <td>Ridge Linear Regression</td>\n",
       "      <td>Validation</td>\n",
       "      <td>0.0399</td>\n",
       "      <td>458.4455</td>\n",
       "      <td>21.4113</td>\n",
       "      <td>17.0395</td>\n",
       "      <td>8.6824</td>\n",
       "    </tr>\n",
       "  </tbody>\n",
       "</table>\n",
       "</div>"
      ],
      "text/plain": [
       "                 Algorithm        Step      R2       MSE     RMSE      MAE   \n",
       "0  Ridge Linear Regression  Validation  0.0399  458.4455  21.4113  17.0395  \\\n",
       "\n",
       "     MAPE  \n",
       "0  8.6824  "
      ]
     },
     "execution_count": 46,
     "metadata": {},
     "output_type": "execute_result"
    }
   ],
   "source": [
    "# definição do modelo\n",
    "ridge_val = lm.Ridge( random_state = 0 )\n",
    "\n",
    "# treinamento do algoritmo. \n",
    "ridge_val.fit(X_train, y_train)\n",
    "\n",
    "# Predição sobre os dados de validacao\n",
    "y_pred_val = ridge_val.predict(X_val)\n",
    "\n",
    "# Métricas\n",
    "df_metrics_val = metrics(y_val, y_pred_val, 'Validation', 'Ridge Linear Regression')\n",
    "df_metrics_val"
   ]
  },
  {
   "cell_type": "markdown",
   "id": "be7ada8b",
   "metadata": {},
   "source": [
    "## 5.3 - Ajuste fino dos hiperparâmetros (Etapa de *Fine Tuning*)"
   ]
  },
  {
   "cell_type": "code",
   "execution_count": 47,
   "id": "b9e78a49",
   "metadata": {
    "ExecuteTime": {
     "end_time": "2024-10-11T21:18:54.796268Z",
     "start_time": "2024-10-11T21:18:54.176537Z"
    }
   },
   "outputs": [],
   "source": [
    "# Definir intervalo de parâmetros\n",
    "alpha_array = np.arange(0.5, 11, 0.5)\n",
    "max_iter_list = [100, 500, 1000, 1500]\n",
    "\n",
    "# Criar DataFrame para armazenar resultados\n",
    "metrics_df = pd.DataFrame(columns=['alpha', 'max_iter', 'R2', 'MSE', 'RMSE', 'MAE', 'MAPE'])\n",
    "\n",
    "# Usar 'itertools.product' para combinar os valores dos hiper-parâmetros\n",
    "for m, n in product(alpha_array, max_iter_list):\n",
    "    # Definir e treinar o modelo \n",
    "    model = lm.Ridge(alpha=m, max_iter=n, random_state=0)\n",
    "    model.fit(X_train, y_train)\n",
    "\n",
    "    # Predição sobre os dados de validação\n",
    "    y_pred = model.predict(X_val)\n",
    "    \n",
    "    # Calcular métricas de performance\n",
    "    r2_tuning  = r2_score( y_val, y_pred )\n",
    "    mse_tuning  = mean_squared_error( y_val, y_pred )\n",
    "    rmse_tuning = root_mean_squared_error( y_val, y_pred )\n",
    "    mae_tuning  = mean_absolute_error( y_val, y_pred )\n",
    "    mape_tuning = mean_absolute_percentage_error( y_val, y_pred )\n",
    "    \n",
    "    # Armazenar os resultados em uma nova linha como DataFrame\n",
    "    new_row = pd.DataFrame({\n",
    "        'alpha': [m],\n",
    "        'max_iter': [n],\n",
    "        'R2': [r2_tuning],\n",
    "        'MSE': [mse_tuning],\n",
    "        'RMSE': [rmse_tuning],\n",
    "        'MAE': [mae_tuning],\n",
    "        'MAPE': [mape_tuning]\n",
    "    })\n",
    "\n",
    "    # Concatenar a nova linha ao DataFrame existente\n",
    "    metrics_df = pd.concat([metrics_df, new_row], ignore_index=True)"
   ]
  },
  {
   "cell_type": "code",
   "execution_count": 48,
   "id": "1c5cfca9",
   "metadata": {
    "ExecuteTime": {
     "end_time": "2024-10-11T21:18:58.830661Z",
     "start_time": "2024-10-11T21:18:58.812643Z"
    }
   },
   "outputs": [
    {
     "data": {
      "text/html": [
       "<div>\n",
       "<style scoped>\n",
       "    .dataframe tbody tr th:only-of-type {\n",
       "        vertical-align: middle;\n",
       "    }\n",
       "\n",
       "    .dataframe tbody tr th {\n",
       "        vertical-align: top;\n",
       "    }\n",
       "\n",
       "    .dataframe thead th {\n",
       "        text-align: right;\n",
       "    }\n",
       "</style>\n",
       "<table border=\"1\" class=\"dataframe\">\n",
       "  <thead>\n",
       "    <tr style=\"text-align: right;\">\n",
       "      <th></th>\n",
       "      <th>alpha</th>\n",
       "      <th>max_iter</th>\n",
       "      <th>R2</th>\n",
       "      <th>MSE</th>\n",
       "      <th>RMSE</th>\n",
       "      <th>MAE</th>\n",
       "      <th>MAPE</th>\n",
       "    </tr>\n",
       "  </thead>\n",
       "  <tbody>\n",
       "    <tr>\n",
       "      <th>0</th>\n",
       "      <td>0.5</td>\n",
       "      <td>100</td>\n",
       "      <td>0.039927</td>\n",
       "      <td>458.446228</td>\n",
       "      <td>21.411357</td>\n",
       "      <td>17.039612</td>\n",
       "      <td>8.682477</td>\n",
       "    </tr>\n",
       "    <tr>\n",
       "      <th>1</th>\n",
       "      <td>0.5</td>\n",
       "      <td>500</td>\n",
       "      <td>0.039927</td>\n",
       "      <td>458.446228</td>\n",
       "      <td>21.411357</td>\n",
       "      <td>17.039612</td>\n",
       "      <td>8.682477</td>\n",
       "    </tr>\n",
       "    <tr>\n",
       "      <th>2</th>\n",
       "      <td>0.5</td>\n",
       "      <td>1000</td>\n",
       "      <td>0.039927</td>\n",
       "      <td>458.446228</td>\n",
       "      <td>21.411357</td>\n",
       "      <td>17.039612</td>\n",
       "      <td>8.682477</td>\n",
       "    </tr>\n",
       "    <tr>\n",
       "      <th>3</th>\n",
       "      <td>0.5</td>\n",
       "      <td>1500</td>\n",
       "      <td>0.039927</td>\n",
       "      <td>458.446228</td>\n",
       "      <td>21.411357</td>\n",
       "      <td>17.039612</td>\n",
       "      <td>8.682477</td>\n",
       "    </tr>\n",
       "    <tr>\n",
       "      <th>4</th>\n",
       "      <td>1.0</td>\n",
       "      <td>100</td>\n",
       "      <td>0.039928</td>\n",
       "      <td>458.445477</td>\n",
       "      <td>21.411340</td>\n",
       "      <td>17.039472</td>\n",
       "      <td>8.682412</td>\n",
       "    </tr>\n",
       "    <tr>\n",
       "      <th>...</th>\n",
       "      <td>...</td>\n",
       "      <td>...</td>\n",
       "      <td>...</td>\n",
       "      <td>...</td>\n",
       "      <td>...</td>\n",
       "      <td>...</td>\n",
       "      <td>...</td>\n",
       "    </tr>\n",
       "    <tr>\n",
       "      <th>79</th>\n",
       "      <td>10.0</td>\n",
       "      <td>1500</td>\n",
       "      <td>0.039937</td>\n",
       "      <td>458.441098</td>\n",
       "      <td>21.411238</td>\n",
       "      <td>17.037610</td>\n",
       "      <td>8.681342</td>\n",
       "    </tr>\n",
       "    <tr>\n",
       "      <th>80</th>\n",
       "      <td>10.5</td>\n",
       "      <td>100</td>\n",
       "      <td>0.039937</td>\n",
       "      <td>458.441309</td>\n",
       "      <td>21.411243</td>\n",
       "      <td>17.037527</td>\n",
       "      <td>8.681287</td>\n",
       "    </tr>\n",
       "    <tr>\n",
       "      <th>81</th>\n",
       "      <td>10.5</td>\n",
       "      <td>500</td>\n",
       "      <td>0.039937</td>\n",
       "      <td>458.441309</td>\n",
       "      <td>21.411243</td>\n",
       "      <td>17.037527</td>\n",
       "      <td>8.681287</td>\n",
       "    </tr>\n",
       "    <tr>\n",
       "      <th>82</th>\n",
       "      <td>10.5</td>\n",
       "      <td>1000</td>\n",
       "      <td>0.039937</td>\n",
       "      <td>458.441309</td>\n",
       "      <td>21.411243</td>\n",
       "      <td>17.037527</td>\n",
       "      <td>8.681287</td>\n",
       "    </tr>\n",
       "    <tr>\n",
       "      <th>83</th>\n",
       "      <td>10.5</td>\n",
       "      <td>1500</td>\n",
       "      <td>0.039937</td>\n",
       "      <td>458.441309</td>\n",
       "      <td>21.411243</td>\n",
       "      <td>17.037527</td>\n",
       "      <td>8.681287</td>\n",
       "    </tr>\n",
       "  </tbody>\n",
       "</table>\n",
       "<p>84 rows × 7 columns</p>\n",
       "</div>"
      ],
      "text/plain": [
       "    alpha max_iter        R2         MSE       RMSE        MAE      MAPE\n",
       "0     0.5      100  0.039927  458.446228  21.411357  17.039612  8.682477\n",
       "1     0.5      500  0.039927  458.446228  21.411357  17.039612  8.682477\n",
       "2     0.5     1000  0.039927  458.446228  21.411357  17.039612  8.682477\n",
       "3     0.5     1500  0.039927  458.446228  21.411357  17.039612  8.682477\n",
       "4     1.0      100  0.039928  458.445477  21.411340  17.039472  8.682412\n",
       "..    ...      ...       ...         ...        ...        ...       ...\n",
       "79   10.0     1500  0.039937  458.441098  21.411238  17.037610  8.681342\n",
       "80   10.5      100  0.039937  458.441309  21.411243  17.037527  8.681287\n",
       "81   10.5      500  0.039937  458.441309  21.411243  17.037527  8.681287\n",
       "82   10.5     1000  0.039937  458.441309  21.411243  17.037527  8.681287\n",
       "83   10.5     1500  0.039937  458.441309  21.411243  17.037527  8.681287\n",
       "\n",
       "[84 rows x 7 columns]"
      ]
     },
     "execution_count": 48,
     "metadata": {},
     "output_type": "execute_result"
    }
   ],
   "source": [
    "# Valores das métricas de performance para diferentes combinações dos hiper-parâmetros \n",
    "metrics_df"
   ]
  },
  {
   "cell_type": "markdown",
   "id": "c80e0007",
   "metadata": {},
   "source": [
    "Em particular, estamos interessados em buscar o conjunto de hiper-parâmetros que minimize a **Raiz do Erro Quadrático Médio (RMSE)**. "
   ]
  },
  {
   "cell_type": "code",
   "execution_count": 49,
   "id": "812b2da0",
   "metadata": {
    "ExecuteTime": {
     "end_time": "2024-10-11T21:19:31.581286Z",
     "start_time": "2024-10-11T21:19:31.543795Z"
    }
   },
   "outputs": [
    {
     "data": {
      "text/html": [
       "<div>\n",
       "<style scoped>\n",
       "    .dataframe tbody tr th:only-of-type {\n",
       "        vertical-align: middle;\n",
       "    }\n",
       "\n",
       "    .dataframe tbody tr th {\n",
       "        vertical-align: top;\n",
       "    }\n",
       "\n",
       "    .dataframe thead th {\n",
       "        text-align: right;\n",
       "    }\n",
       "</style>\n",
       "<table border=\"1\" class=\"dataframe\">\n",
       "  <thead>\n",
       "    <tr style=\"text-align: right;\">\n",
       "      <th></th>\n",
       "      <th>alpha</th>\n",
       "      <th>max_iter</th>\n",
       "      <th>R2</th>\n",
       "      <th>MSE</th>\n",
       "      <th>RMSE</th>\n",
       "      <th>MAE</th>\n",
       "      <th>MAPE</th>\n",
       "    </tr>\n",
       "  </thead>\n",
       "  <tbody>\n",
       "    <tr>\n",
       "      <th>62</th>\n",
       "      <td>8.0</td>\n",
       "      <td>1000</td>\n",
       "      <td>0.039938</td>\n",
       "      <td>458.440703</td>\n",
       "      <td>21.411228</td>\n",
       "      <td>17.037961</td>\n",
       "      <td>8.681568</td>\n",
       "    </tr>\n",
       "    <tr>\n",
       "      <th>60</th>\n",
       "      <td>8.0</td>\n",
       "      <td>100</td>\n",
       "      <td>0.039938</td>\n",
       "      <td>458.440703</td>\n",
       "      <td>21.411228</td>\n",
       "      <td>17.037961</td>\n",
       "      <td>8.681568</td>\n",
       "    </tr>\n",
       "    <tr>\n",
       "      <th>61</th>\n",
       "      <td>8.0</td>\n",
       "      <td>500</td>\n",
       "      <td>0.039938</td>\n",
       "      <td>458.440703</td>\n",
       "      <td>21.411228</td>\n",
       "      <td>17.037961</td>\n",
       "      <td>8.681568</td>\n",
       "    </tr>\n",
       "    <tr>\n",
       "      <th>63</th>\n",
       "      <td>8.0</td>\n",
       "      <td>1500</td>\n",
       "      <td>0.039938</td>\n",
       "      <td>458.440703</td>\n",
       "      <td>21.411228</td>\n",
       "      <td>17.037961</td>\n",
       "      <td>8.681568</td>\n",
       "    </tr>\n",
       "    <tr>\n",
       "      <th>56</th>\n",
       "      <td>7.5</td>\n",
       "      <td>100</td>\n",
       "      <td>0.039938</td>\n",
       "      <td>458.440719</td>\n",
       "      <td>21.411229</td>\n",
       "      <td>17.038050</td>\n",
       "      <td>8.681625</td>\n",
       "    </tr>\n",
       "  </tbody>\n",
       "</table>\n",
       "</div>"
      ],
      "text/plain": [
       "    alpha max_iter        R2         MSE       RMSE        MAE      MAPE\n",
       "62    8.0     1000  0.039938  458.440703  21.411228  17.037961  8.681568\n",
       "60    8.0      100  0.039938  458.440703  21.411228  17.037961  8.681568\n",
       "61    8.0      500  0.039938  458.440703  21.411228  17.037961  8.681568\n",
       "63    8.0     1500  0.039938  458.440703  21.411228  17.037961  8.681568\n",
       "56    7.5      100  0.039938  458.440719  21.411229  17.038050  8.681625"
      ]
     },
     "execution_count": 49,
     "metadata": {},
     "output_type": "execute_result"
    }
   ],
   "source": [
    "# exibe as 5 primeiras linhas do dataset ordenado do menor para o maior RMSE\n",
    "metrics_df.sort_values(['RMSE'], ascending=True)[:5]"
   ]
  },
  {
   "cell_type": "markdown",
   "id": "27ea5bf2",
   "metadata": {},
   "source": [
    "Observe que todas as cinco métricas de performance apresentam valores idênticos para as quatro linhas iniciais do dataset **ordenado**. Nesse caso, dado que o valor de `alpha` é igual à `8.0` para todas, convém escolher o menor `max_iter` (`100`), sem prejuízo da performance. "
   ]
  },
  {
   "cell_type": "code",
   "execution_count": 50,
   "id": "2ace7d2c",
   "metadata": {
    "ExecuteTime": {
     "end_time": "2024-10-11T21:21:48.754628Z",
     "start_time": "2024-10-11T21:21:48.727445Z"
    }
   },
   "outputs": [],
   "source": [
    "# Melhores hiper-parâmetros: `alpha = 8.0` e `max_iter = 100`\n",
    "best_alpha = 8.0\n",
    "best_max_iter = 100"
   ]
  },
  {
   "cell_type": "markdown",
   "id": "18fee5c5",
   "metadata": {},
   "source": [
    "## 5.4 - Desempenho do modelo para os dados de teste"
   ]
  },
  {
   "cell_type": "code",
   "execution_count": 51,
   "id": "53126a5e",
   "metadata": {
    "ExecuteTime": {
     "end_time": "2024-10-11T21:22:52.070294Z",
     "start_time": "2024-10-11T21:22:52.036288Z"
    }
   },
   "outputs": [
    {
     "data": {
      "text/html": [
       "<div>\n",
       "<style scoped>\n",
       "    .dataframe tbody tr th:only-of-type {\n",
       "        vertical-align: middle;\n",
       "    }\n",
       "\n",
       "    .dataframe tbody tr th {\n",
       "        vertical-align: top;\n",
       "    }\n",
       "\n",
       "    .dataframe thead th {\n",
       "        text-align: right;\n",
       "    }\n",
       "</style>\n",
       "<table border=\"1\" class=\"dataframe\">\n",
       "  <thead>\n",
       "    <tr style=\"text-align: right;\">\n",
       "      <th></th>\n",
       "      <th>Algorithm</th>\n",
       "      <th>Step</th>\n",
       "      <th>R2</th>\n",
       "      <th>MSE</th>\n",
       "      <th>RMSE</th>\n",
       "      <th>MAE</th>\n",
       "      <th>MAPE</th>\n",
       "    </tr>\n",
       "  </thead>\n",
       "  <tbody>\n",
       "    <tr>\n",
       "      <th>0</th>\n",
       "      <td>Ridge Linear Regression</td>\n",
       "      <td>Test</td>\n",
       "      <td>0.0511</td>\n",
       "      <td>461.9991</td>\n",
       "      <td>21.4942</td>\n",
       "      <td>17.1427</td>\n",
       "      <td>8.5366</td>\n",
       "    </tr>\n",
       "  </tbody>\n",
       "</table>\n",
       "</div>"
      ],
      "text/plain": [
       "                 Algorithm  Step      R2       MSE     RMSE      MAE    MAPE\n",
       "0  Ridge Linear Regression  Test  0.0511  461.9991  21.4942  17.1427  8.5366"
      ]
     },
     "execution_count": 51,
     "metadata": {},
     "output_type": "execute_result"
    }
   ],
   "source": [
    "# definição do modelo\n",
    "ridge_test = lm.Ridge(alpha=best_alpha, max_iter=best_max_iter, random_state=0)\n",
    "\n",
    "# Juntar os dados de treino e validação\n",
    "ridge_test.fit( pd.concat( [X_train, X_val] ),\n",
    "                pd.concat( [y_train, y_val] ) )\n",
    "\n",
    "# Predição sobre os dados de teste\n",
    "y_pred_test = ridge_test.predict( X_test )\n",
    "\n",
    "# Métricas\n",
    "df_metrics_test = metrics(y_test, y_pred_test, 'Test', 'Ridge Linear Regression')\n",
    "df_metrics_test"
   ]
  },
  {
   "cell_type": "markdown",
   "id": "167a2b90",
   "metadata": {},
   "source": [
    "# 6.0 - Gera as planilhas com os resultados"
   ]
  },
  {
   "cell_type": "code",
   "execution_count": 53,
   "id": "46f99c38",
   "metadata": {
    "ExecuteTime": {
     "end_time": "2024-10-11T21:24:40.437843Z",
     "start_time": "2024-10-11T21:24:40.383437Z"
    }
   },
   "outputs": [],
   "source": [
    "exporta_excel('linear_ridge_regression')"
   ]
  }
 ],
 "metadata": {
  "kernelspec": {
   "display_name": "Python 3 (ipykernel)",
   "language": "python",
   "name": "python3"
  },
  "language_info": {
   "codemirror_mode": {
    "name": "ipython",
    "version": 3
   },
   "file_extension": ".py",
   "mimetype": "text/x-python",
   "name": "python",
   "nbconvert_exporter": "python",
   "pygments_lexer": "ipython3",
   "version": "3.9.12"
  }
 },
 "nbformat": 4,
 "nbformat_minor": 5
}
