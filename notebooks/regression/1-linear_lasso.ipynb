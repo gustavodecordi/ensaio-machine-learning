{
 "cells": [
  {
   "cell_type": "markdown",
   "id": "35422962",
   "metadata": {},
   "source": [
    "# 0.0 - Lasso Linear Regression\n",
    "\n",
    "Os parâmetros utilizados para treinar o algoritmo **Lasso Linear Regression** serão a penalidade de regularização `alpha` e o número máximo de iterações, `max_iter`.</br>Os valores padrão (*default*) nesse caso são **alpha=1.0** e **max_iter=1000**, segundo a documentação oficial, que pode ser conferida em:</br></br>https://scikit-learn.org/stable/modules/generated/sklearn.linear_model.Lasso.html"
   ]
  },
  {
   "cell_type": "markdown",
   "id": "0e23e6ff",
   "metadata": {},
   "source": [
    "# 1.0 - Importando bibliotecas"
   ]
  },
  {
   "cell_type": "code",
   "execution_count": 1,
   "id": "136a0f91",
   "metadata": {
    "ExecuteTime": {
     "end_time": "2024-10-10T21:58:07.524700Z",
     "start_time": "2024-10-10T21:58:04.767170Z"
    }
   },
   "outputs": [],
   "source": [
    "import pandas as pd\n",
    "import numpy as np\n",
    "from sklearn import linear_model as lm\n",
    "import matplotlib.pyplot as plt\n",
    "\n",
    "from itertools import product\n",
    "\n",
    "from sklearn.metrics import r2_score, mean_squared_error, root_mean_squared_error, mean_absolute_error, mean_absolute_percentage_error"
   ]
  },
  {
   "cell_type": "markdown",
   "id": "92838867",
   "metadata": {},
   "source": [
    "# 2.0 - Carregando os dados"
   ]
  },
  {
   "cell_type": "code",
   "execution_count": 2,
   "id": "e10d02ef",
   "metadata": {
    "ExecuteTime": {
     "end_time": "2024-10-10T21:58:10.045640Z",
     "start_time": "2024-10-10T21:58:09.967926Z"
    }
   },
   "outputs": [],
   "source": [
    "# Treino\n",
    "X_train = pd.read_csv('train/X_training.csv')\n",
    "y_train = pd.read_csv('train/y_training.csv')\n",
    "\n",
    "# Validação\n",
    "X_val = pd.read_csv('validation/X_validation.csv')\n",
    "y_val = pd.read_csv('validation/y_val.csv')\n",
    "\n",
    "# Teste\n",
    "X_test = pd.read_csv('test/X_test.csv')\n",
    "y_test = pd.read_csv('test/y_test.csv')"
   ]
  },
  {
   "cell_type": "markdown",
   "id": "fa74c905",
   "metadata": {},
   "source": [
    "# 3.0 - Funções"
   ]
  },
  {
   "cell_type": "code",
   "execution_count": 25,
   "id": "0fdce83a",
   "metadata": {
    "ExecuteTime": {
     "end_time": "2024-10-11T02:13:22.799310Z",
     "start_time": "2024-10-11T02:13:22.786265Z"
    }
   },
   "outputs": [],
   "source": [
    "def metrics(y, y_pred, step, algorithm):\n",
    "    \"\"\"\n",
    "    Calcula várias métricas de avaliação de um modelo de regressão e as retorna em um DataFrame.\n",
    "\n",
    "    Parâmetros:\n",
    "    -----------\n",
    "    y : array-like\n",
    "        Valores da variável resposta.\n",
    "    \n",
    "    y_pred : array-like\n",
    "        Valores preditos pelo modelo.\n",
    "    \n",
    "    step : str\n",
    "        Etapa do processo de modelagem (ex: 'treino', 'validação', 'teste').\n",
    "    \n",
    "    algorithm : str\n",
    "        Nome do algoritmo usado.\n",
    "\n",
    "    Retorno:\n",
    "    --------\n",
    "    df_metrics : pandas.DataFrame\n",
    "        DataFrame contendo as métricas calculadas:\n",
    "        - 'Algorithm': Nome do algoritmo.\n",
    "        - 'Step': Etapa do processo (treino, validação ou teste).\n",
    "        - 'R2': Coeficiente de determinação.\n",
    "        - 'MSE': Erro quadrático médio.\n",
    "        - 'RMSE': Raiz do erro quadrático médio.\n",
    "        - 'MAE': Erro absoluto médio.\n",
    "        - 'MAPE': Erro percentual absoluto médio.\n",
    "    \"\"\"\n",
    "    # Calcula as métricas\n",
    "    r2 = r2_score(y, y_pred)\n",
    "    mse = mean_squared_error(y, y_pred)\n",
    "    rmse = np.sqrt(mse)\n",
    "    mae = mean_absolute_error(y, y_pred)\n",
    "    mape = mean_absolute_percentage_error(y, y_pred)\n",
    "\n",
    "    # Cria o DataFrame com as métricas\n",
    "    df_metrics = pd.DataFrame({   \n",
    "        'Algorithm': [algorithm],\n",
    "        'Step': [step],\n",
    "        'R2': [np.round(r2, 4)],\n",
    "        'MSE': [np.round(mse, 4)],\n",
    "        'RMSE': [np.round(rmse, 4)],\n",
    "        'MAE': [np.round(mae, 4)],\n",
    "        'MAPE': [np.round(mape, 4)]\n",
    "    })\n",
    "    \n",
    "    return df_metrics\n",
    "\n",
    "def exporta_excel(nome_algoritmo):\n",
    "    \"\"\"\n",
    "    Exporta os DataFrames de métricas para arquivos Excel em diferentes pastas.\n",
    "\n",
    "    Args:\n",
    "        nome_algoritmo (str): Nome do algoritmo utilizado.\n",
    "\n",
    "    Returns:\n",
    "        None\n",
    "    \"\"\"\n",
    "    etapas = ['train', 'validation', 'test']\n",
    "    df_list = [df_metrics_train, df_metrics_val, df_metrics_test]\n",
    "\n",
    "    for etapa, df in zip(etapas, df_list):\n",
    "        df.to_excel(f'{etapa}/metrics/metrics_{etapa}_{nome_algoritmo}.xlsx', index=False)"
   ]
  },
  {
   "cell_type": "markdown",
   "id": "9a71ec7e",
   "metadata": {},
   "source": [
    "# 4.0 - Ajustando os dados"
   ]
  },
  {
   "cell_type": "code",
   "execution_count": 4,
   "id": "88b2fb9a",
   "metadata": {
    "ExecuteTime": {
     "end_time": "2024-10-10T21:58:14.436785Z",
     "start_time": "2024-10-10T21:58:14.423546Z"
    }
   },
   "outputs": [],
   "source": [
    "# transformação do formato DataFrame para Series, essencialmente um array unidimensional\n",
    "y_train, y_val, y_test = [ df.loc[:, 'song_popularity'] for df in [y_train, y_val, y_test] ]"
   ]
  },
  {
   "cell_type": "markdown",
   "id": "ffbdd6f7",
   "metadata": {},
   "source": [
    "# 5.0 - Desempenho do modelo\n",
    "\n",
    "## 5.1 - Dados de treino"
   ]
  },
  {
   "cell_type": "code",
   "execution_count": 5,
   "id": "1037dde4",
   "metadata": {
    "ExecuteTime": {
     "end_time": "2024-10-10T21:58:17.572706Z",
     "start_time": "2024-10-10T21:58:17.518904Z"
    }
   },
   "outputs": [
    {
     "data": {
      "text/html": [
       "<div>\n",
       "<style scoped>\n",
       "    .dataframe tbody tr th:only-of-type {\n",
       "        vertical-align: middle;\n",
       "    }\n",
       "\n",
       "    .dataframe tbody tr th {\n",
       "        vertical-align: top;\n",
       "    }\n",
       "\n",
       "    .dataframe thead th {\n",
       "        text-align: right;\n",
       "    }\n",
       "</style>\n",
       "<table border=\"1\" class=\"dataframe\">\n",
       "  <thead>\n",
       "    <tr style=\"text-align: right;\">\n",
       "      <th></th>\n",
       "      <th>Algorithm</th>\n",
       "      <th>Step</th>\n",
       "      <th>R2</th>\n",
       "      <th>MSE</th>\n",
       "      <th>RMSE</th>\n",
       "      <th>MAE</th>\n",
       "      <th>MAPE</th>\n",
       "    </tr>\n",
       "  </thead>\n",
       "  <tbody>\n",
       "    <tr>\n",
       "      <th>0</th>\n",
       "      <td>Lasso Linear Regression</td>\n",
       "      <td>Train</td>\n",
       "      <td>0.0074</td>\n",
       "      <td>474.4748</td>\n",
       "      <td>21.7824</td>\n",
       "      <td>17.3055</td>\n",
       "      <td>8.7367</td>\n",
       "    </tr>\n",
       "  </tbody>\n",
       "</table>\n",
       "</div>"
      ],
      "text/plain": [
       "                 Algorithm   Step      R2       MSE     RMSE      MAE    MAPE\n",
       "0  Lasso Linear Regression  Train  0.0074  474.4748  21.7824  17.3055  8.7367"
      ]
     },
     "execution_count": 5,
     "metadata": {},
     "output_type": "execute_result"
    }
   ],
   "source": [
    "# definição do modelo\n",
    "# Lasso - L1 (tende a zerar os coeficientes da equação linear)\n",
    "lasso_train = lm.Lasso( random_state = 0 )\n",
    "\n",
    "# treinamento do algoritmo.\n",
    "lasso_train.fit( X_train, y_train )\n",
    "\n",
    "# Predição sobre os dados de treino\n",
    "y_pred_train = lasso_train.predict( X_train )\n",
    "\n",
    "# Métricas\n",
    "df_metrics_train = metrics(y_train, y_pred_train, 'Train', 'Lasso Linear Regression')\n",
    "df_metrics_train"
   ]
  },
  {
   "cell_type": "markdown",
   "id": "6a9de39a",
   "metadata": {},
   "source": [
    "## 5.2 - Dados de validação"
   ]
  },
  {
   "cell_type": "code",
   "execution_count": 7,
   "id": "e11f43a5",
   "metadata": {
    "ExecuteTime": {
     "end_time": "2024-10-10T22:00:26.251473Z",
     "start_time": "2024-10-10T22:00:26.207327Z"
    }
   },
   "outputs": [
    {
     "data": {
      "text/html": [
       "<div>\n",
       "<style scoped>\n",
       "    .dataframe tbody tr th:only-of-type {\n",
       "        vertical-align: middle;\n",
       "    }\n",
       "\n",
       "    .dataframe tbody tr th {\n",
       "        vertical-align: top;\n",
       "    }\n",
       "\n",
       "    .dataframe thead th {\n",
       "        text-align: right;\n",
       "    }\n",
       "</style>\n",
       "<table border=\"1\" class=\"dataframe\">\n",
       "  <thead>\n",
       "    <tr style=\"text-align: right;\">\n",
       "      <th></th>\n",
       "      <th>Algorithm</th>\n",
       "      <th>Step</th>\n",
       "      <th>R2</th>\n",
       "      <th>MSE</th>\n",
       "      <th>RMSE</th>\n",
       "      <th>MAE</th>\n",
       "      <th>MAPE</th>\n",
       "    </tr>\n",
       "  </thead>\n",
       "  <tbody>\n",
       "    <tr>\n",
       "      <th>0</th>\n",
       "      <td>Lasso Linear Regression</td>\n",
       "      <td>Validation</td>\n",
       "      <td>0.0079</td>\n",
       "      <td>473.7471</td>\n",
       "      <td>21.7657</td>\n",
       "      <td>17.2649</td>\n",
       "      <td>8.6958</td>\n",
       "    </tr>\n",
       "  </tbody>\n",
       "</table>\n",
       "</div>"
      ],
      "text/plain": [
       "                 Algorithm        Step      R2       MSE     RMSE      MAE   \n",
       "0  Lasso Linear Regression  Validation  0.0079  473.7471  21.7657  17.2649  \\\n",
       "\n",
       "     MAPE  \n",
       "0  8.6958  "
      ]
     },
     "execution_count": 7,
     "metadata": {},
     "output_type": "execute_result"
    }
   ],
   "source": [
    "# definição do modelo\n",
    "lasso_val = lm.Lasso( random_state = 0 )\n",
    "\n",
    "# treinamento do algoritmo. \n",
    "lasso_val.fit(X_train, y_train)\n",
    "\n",
    "# Predição sobre os dados de validação\n",
    "y_pred_val = lasso_val.predict(X_val)\n",
    "\n",
    "# Métricas\n",
    "df_metrics_val = metrics(y_val, y_pred_val, 'Validation', 'Lasso Linear Regression')\n",
    "df_metrics_val"
   ]
  },
  {
   "cell_type": "markdown",
   "id": "be7ada8b",
   "metadata": {},
   "source": [
    "## 5.3 - Ajuste fino dos hiperparâmetros (Etapa de *Fine Tuning*)"
   ]
  },
  {
   "cell_type": "code",
   "execution_count": 10,
   "id": "b9e78a49",
   "metadata": {
    "ExecuteTime": {
     "end_time": "2024-10-10T22:13:41.234809Z",
     "start_time": "2024-10-10T22:13:40.579187Z"
    }
   },
   "outputs": [],
   "source": [
    "# Definir intervalo de parâmetros\n",
    "alpha_array = np.arange(0.5, 11, 0.5)\n",
    "max_iter_list = [100, 500, 1000, 1500]\n",
    "\n",
    "# Criar DataFrame para armazenar resultados\n",
    "metrics_df = pd.DataFrame(columns=['alpha', 'max_iter', 'R2', 'MSE', 'RMSE', 'MAE', 'MAPE'])\n",
    "\n",
    "# Usar 'itertools.product' para combinar os valores dos hiper-parâmetros\n",
    "for m, n in product(alpha_array, max_iter_list):\n",
    "    # Definir e treinar o modelo \n",
    "    model = lm.Lasso(alpha=m, max_iter=n, random_state=0)\n",
    "    model.fit(X_train, y_train)\n",
    "\n",
    "    # Predição sobre os dados de validação\n",
    "    y_pred = model.predict(X_val)\n",
    "    \n",
    "    # Calcular métricas de performance\n",
    "    r2_tuning  = r2_score( y_val, y_pred )\n",
    "    mse_tuning  = mean_squared_error( y_val, y_pred )\n",
    "    rmse_tuning = root_mean_squared_error( y_val, y_pred )\n",
    "    mae_tuning  = mean_absolute_error( y_val, y_pred )\n",
    "    mape_tuning = mean_absolute_percentage_error( y_val, y_pred )\n",
    "    \n",
    "    # Armazenar os resultados em uma nova linha como DataFrame\n",
    "    new_row = pd.DataFrame({\n",
    "        'alpha': [m],\n",
    "        'max_iter': [n],\n",
    "        'R2': [r2_tuning],\n",
    "        'MSE': [mse_tuning],\n",
    "        'RMSE': [rmse_tuning],\n",
    "        'MAE': [mae_tuning],\n",
    "        'MAPE': [mape_tuning]\n",
    "    })\n",
    "\n",
    "    # Concatenar a nova linha ao DataFrame existente\n",
    "    metrics_df = pd.concat([metrics_df, new_row], ignore_index=True)"
   ]
  },
  {
   "cell_type": "code",
   "execution_count": 11,
   "id": "1c5cfca9",
   "metadata": {
    "ExecuteTime": {
     "end_time": "2024-10-10T22:13:42.504604Z",
     "start_time": "2024-10-10T22:13:42.477333Z"
    }
   },
   "outputs": [
    {
     "data": {
      "text/html": [
       "<div>\n",
       "<style scoped>\n",
       "    .dataframe tbody tr th:only-of-type {\n",
       "        vertical-align: middle;\n",
       "    }\n",
       "\n",
       "    .dataframe tbody tr th {\n",
       "        vertical-align: top;\n",
       "    }\n",
       "\n",
       "    .dataframe thead th {\n",
       "        text-align: right;\n",
       "    }\n",
       "</style>\n",
       "<table border=\"1\" class=\"dataframe\">\n",
       "  <thead>\n",
       "    <tr style=\"text-align: right;\">\n",
       "      <th></th>\n",
       "      <th>alpha</th>\n",
       "      <th>max_iter</th>\n",
       "      <th>R2</th>\n",
       "      <th>MSE</th>\n",
       "      <th>RMSE</th>\n",
       "      <th>MAE</th>\n",
       "      <th>MAPE</th>\n",
       "    </tr>\n",
       "  </thead>\n",
       "  <tbody>\n",
       "    <tr>\n",
       "      <th>0</th>\n",
       "      <td>0.5</td>\n",
       "      <td>100</td>\n",
       "      <td>1.036415e-02</td>\n",
       "      <td>472.562608</td>\n",
       "      <td>21.738505</td>\n",
       "      <td>17.238259</td>\n",
       "      <td>8.702693</td>\n",
       "    </tr>\n",
       "    <tr>\n",
       "      <th>1</th>\n",
       "      <td>0.5</td>\n",
       "      <td>500</td>\n",
       "      <td>1.036415e-02</td>\n",
       "      <td>472.562608</td>\n",
       "      <td>21.738505</td>\n",
       "      <td>17.238259</td>\n",
       "      <td>8.702693</td>\n",
       "    </tr>\n",
       "    <tr>\n",
       "      <th>2</th>\n",
       "      <td>0.5</td>\n",
       "      <td>1000</td>\n",
       "      <td>1.036415e-02</td>\n",
       "      <td>472.562608</td>\n",
       "      <td>21.738505</td>\n",
       "      <td>17.238259</td>\n",
       "      <td>8.702693</td>\n",
       "    </tr>\n",
       "    <tr>\n",
       "      <th>3</th>\n",
       "      <td>0.5</td>\n",
       "      <td>1500</td>\n",
       "      <td>1.036415e-02</td>\n",
       "      <td>472.562608</td>\n",
       "      <td>21.738505</td>\n",
       "      <td>17.238259</td>\n",
       "      <td>8.702693</td>\n",
       "    </tr>\n",
       "    <tr>\n",
       "      <th>4</th>\n",
       "      <td>1.0</td>\n",
       "      <td>100</td>\n",
       "      <td>7.883643e-03</td>\n",
       "      <td>473.747081</td>\n",
       "      <td>21.765732</td>\n",
       "      <td>17.264922</td>\n",
       "      <td>8.695808</td>\n",
       "    </tr>\n",
       "    <tr>\n",
       "      <th>...</th>\n",
       "      <td>...</td>\n",
       "      <td>...</td>\n",
       "      <td>...</td>\n",
       "      <td>...</td>\n",
       "      <td>...</td>\n",
       "      <td>...</td>\n",
       "      <td>...</td>\n",
       "    </tr>\n",
       "    <tr>\n",
       "      <th>79</th>\n",
       "      <td>10.0</td>\n",
       "      <td>1500</td>\n",
       "      <td>-7.197077e-07</td>\n",
       "      <td>477.511956</td>\n",
       "      <td>21.852047</td>\n",
       "      <td>17.352836</td>\n",
       "      <td>8.678722</td>\n",
       "    </tr>\n",
       "    <tr>\n",
       "      <th>80</th>\n",
       "      <td>10.5</td>\n",
       "      <td>100</td>\n",
       "      <td>-7.197077e-07</td>\n",
       "      <td>477.511956</td>\n",
       "      <td>21.852047</td>\n",
       "      <td>17.352836</td>\n",
       "      <td>8.678722</td>\n",
       "    </tr>\n",
       "    <tr>\n",
       "      <th>81</th>\n",
       "      <td>10.5</td>\n",
       "      <td>500</td>\n",
       "      <td>-7.197077e-07</td>\n",
       "      <td>477.511956</td>\n",
       "      <td>21.852047</td>\n",
       "      <td>17.352836</td>\n",
       "      <td>8.678722</td>\n",
       "    </tr>\n",
       "    <tr>\n",
       "      <th>82</th>\n",
       "      <td>10.5</td>\n",
       "      <td>1000</td>\n",
       "      <td>-7.197077e-07</td>\n",
       "      <td>477.511956</td>\n",
       "      <td>21.852047</td>\n",
       "      <td>17.352836</td>\n",
       "      <td>8.678722</td>\n",
       "    </tr>\n",
       "    <tr>\n",
       "      <th>83</th>\n",
       "      <td>10.5</td>\n",
       "      <td>1500</td>\n",
       "      <td>-7.197077e-07</td>\n",
       "      <td>477.511956</td>\n",
       "      <td>21.852047</td>\n",
       "      <td>17.352836</td>\n",
       "      <td>8.678722</td>\n",
       "    </tr>\n",
       "  </tbody>\n",
       "</table>\n",
       "<p>84 rows × 7 columns</p>\n",
       "</div>"
      ],
      "text/plain": [
       "    alpha max_iter            R2         MSE       RMSE        MAE      MAPE\n",
       "0     0.5      100  1.036415e-02  472.562608  21.738505  17.238259  8.702693\n",
       "1     0.5      500  1.036415e-02  472.562608  21.738505  17.238259  8.702693\n",
       "2     0.5     1000  1.036415e-02  472.562608  21.738505  17.238259  8.702693\n",
       "3     0.5     1500  1.036415e-02  472.562608  21.738505  17.238259  8.702693\n",
       "4     1.0      100  7.883643e-03  473.747081  21.765732  17.264922  8.695808\n",
       "..    ...      ...           ...         ...        ...        ...       ...\n",
       "79   10.0     1500 -7.197077e-07  477.511956  21.852047  17.352836  8.678722\n",
       "80   10.5      100 -7.197077e-07  477.511956  21.852047  17.352836  8.678722\n",
       "81   10.5      500 -7.197077e-07  477.511956  21.852047  17.352836  8.678722\n",
       "82   10.5     1000 -7.197077e-07  477.511956  21.852047  17.352836  8.678722\n",
       "83   10.5     1500 -7.197077e-07  477.511956  21.852047  17.352836  8.678722\n",
       "\n",
       "[84 rows x 7 columns]"
      ]
     },
     "execution_count": 11,
     "metadata": {},
     "output_type": "execute_result"
    }
   ],
   "source": [
    "# Valores das métricas de performance para diferentes combinações dos hiper-parâmetros \n",
    "metrics_df"
   ]
  },
  {
   "cell_type": "markdown",
   "id": "5679ebfc",
   "metadata": {},
   "source": [
    "Em particular, estamos interessados em buscar o conjunto de hiper-parâmetros que minimize a **Raiz do Erro Quadrático Médio (RMSE)**. "
   ]
  },
  {
   "cell_type": "code",
   "execution_count": 22,
   "id": "812b2da0",
   "metadata": {
    "ExecuteTime": {
     "end_time": "2024-10-11T01:57:02.138787Z",
     "start_time": "2024-10-11T01:57:02.088267Z"
    }
   },
   "outputs": [
    {
     "data": {
      "text/html": [
       "<div>\n",
       "<style scoped>\n",
       "    .dataframe tbody tr th:only-of-type {\n",
       "        vertical-align: middle;\n",
       "    }\n",
       "\n",
       "    .dataframe tbody tr th {\n",
       "        vertical-align: top;\n",
       "    }\n",
       "\n",
       "    .dataframe thead th {\n",
       "        text-align: right;\n",
       "    }\n",
       "</style>\n",
       "<table border=\"1\" class=\"dataframe\">\n",
       "  <thead>\n",
       "    <tr style=\"text-align: right;\">\n",
       "      <th></th>\n",
       "      <th>alpha</th>\n",
       "      <th>max_iter</th>\n",
       "      <th>R2</th>\n",
       "      <th>MSE</th>\n",
       "      <th>RMSE</th>\n",
       "      <th>MAE</th>\n",
       "      <th>MAPE</th>\n",
       "    </tr>\n",
       "  </thead>\n",
       "  <tbody>\n",
       "    <tr>\n",
       "      <th>0</th>\n",
       "      <td>0.5</td>\n",
       "      <td>100</td>\n",
       "      <td>0.010364</td>\n",
       "      <td>472.562608</td>\n",
       "      <td>21.738505</td>\n",
       "      <td>17.238259</td>\n",
       "      <td>8.702693</td>\n",
       "    </tr>\n",
       "    <tr>\n",
       "      <th>1</th>\n",
       "      <td>0.5</td>\n",
       "      <td>500</td>\n",
       "      <td>0.010364</td>\n",
       "      <td>472.562608</td>\n",
       "      <td>21.738505</td>\n",
       "      <td>17.238259</td>\n",
       "      <td>8.702693</td>\n",
       "    </tr>\n",
       "    <tr>\n",
       "      <th>2</th>\n",
       "      <td>0.5</td>\n",
       "      <td>1000</td>\n",
       "      <td>0.010364</td>\n",
       "      <td>472.562608</td>\n",
       "      <td>21.738505</td>\n",
       "      <td>17.238259</td>\n",
       "      <td>8.702693</td>\n",
       "    </tr>\n",
       "    <tr>\n",
       "      <th>3</th>\n",
       "      <td>0.5</td>\n",
       "      <td>1500</td>\n",
       "      <td>0.010364</td>\n",
       "      <td>472.562608</td>\n",
       "      <td>21.738505</td>\n",
       "      <td>17.238259</td>\n",
       "      <td>8.702693</td>\n",
       "    </tr>\n",
       "    <tr>\n",
       "      <th>4</th>\n",
       "      <td>1.0</td>\n",
       "      <td>100</td>\n",
       "      <td>0.007884</td>\n",
       "      <td>473.747081</td>\n",
       "      <td>21.765732</td>\n",
       "      <td>17.264922</td>\n",
       "      <td>8.695808</td>\n",
       "    </tr>\n",
       "  </tbody>\n",
       "</table>\n",
       "</div>"
      ],
      "text/plain": [
       "   alpha max_iter        R2         MSE       RMSE        MAE      MAPE\n",
       "0    0.5      100  0.010364  472.562608  21.738505  17.238259  8.702693\n",
       "1    0.5      500  0.010364  472.562608  21.738505  17.238259  8.702693\n",
       "2    0.5     1000  0.010364  472.562608  21.738505  17.238259  8.702693\n",
       "3    0.5     1500  0.010364  472.562608  21.738505  17.238259  8.702693\n",
       "4    1.0      100  0.007884  473.747081  21.765732  17.264922  8.695808"
      ]
     },
     "execution_count": 22,
     "metadata": {},
     "output_type": "execute_result"
    }
   ],
   "source": [
    "# exibe as 5 primeiras linhas do dataset ordenado do menor para o maior RMSE\n",
    "metrics_df.sort_values(['RMSE'], ascending=True)[:5]"
   ]
  },
  {
   "cell_type": "markdown",
   "id": "ece9fdc6",
   "metadata": {},
   "source": [
    "Observe que todas as cinco métricas de performance apresentam valores idênticos para as quatro linhas iniciais do dataset **ordenado**. Nesse caso, dado que o valor de `alpha` é igual à `0.5` para todas, convém escolher o menor `max_iter` (`100`), sem prejuízo da performance. "
   ]
  },
  {
   "cell_type": "code",
   "execution_count": 23,
   "id": "2ace7d2c",
   "metadata": {
    "ExecuteTime": {
     "end_time": "2024-10-11T02:03:49.155504Z",
     "start_time": "2024-10-11T02:03:49.135997Z"
    }
   },
   "outputs": [],
   "source": [
    "# Melhores hiper-parâmetros: 'alpha' = 0.5 e 'max_iter' = 100\n",
    "best_alpha = 0.5\n",
    "best_max_iter = 100"
   ]
  },
  {
   "cell_type": "markdown",
   "id": "18fee5c5",
   "metadata": {},
   "source": [
    "## 5.4 - Desempenho do modelo para os dados de teste"
   ]
  },
  {
   "cell_type": "code",
   "execution_count": 24,
   "id": "53126a5e",
   "metadata": {
    "ExecuteTime": {
     "end_time": "2024-10-11T02:06:46.075448Z",
     "start_time": "2024-10-11T02:06:46.024471Z"
    }
   },
   "outputs": [
    {
     "data": {
      "text/html": [
       "<div>\n",
       "<style scoped>\n",
       "    .dataframe tbody tr th:only-of-type {\n",
       "        vertical-align: middle;\n",
       "    }\n",
       "\n",
       "    .dataframe tbody tr th {\n",
       "        vertical-align: top;\n",
       "    }\n",
       "\n",
       "    .dataframe thead th {\n",
       "        text-align: right;\n",
       "    }\n",
       "</style>\n",
       "<table border=\"1\" class=\"dataframe\">\n",
       "  <thead>\n",
       "    <tr style=\"text-align: right;\">\n",
       "      <th></th>\n",
       "      <th>Algorithm</th>\n",
       "      <th>Step</th>\n",
       "      <th>R2</th>\n",
       "      <th>MSE</th>\n",
       "      <th>RMSE</th>\n",
       "      <th>MAE</th>\n",
       "      <th>MAPE</th>\n",
       "    </tr>\n",
       "  </thead>\n",
       "  <tbody>\n",
       "    <tr>\n",
       "      <th>0</th>\n",
       "      <td>Lasso Linear Regression</td>\n",
       "      <td>Test</td>\n",
       "      <td>0.0101</td>\n",
       "      <td>482.0063</td>\n",
       "      <td>21.9546</td>\n",
       "      <td>17.4522</td>\n",
       "      <td>8.7614</td>\n",
       "    </tr>\n",
       "  </tbody>\n",
       "</table>\n",
       "</div>"
      ],
      "text/plain": [
       "                 Algorithm  Step      R2       MSE     RMSE      MAE    MAPE\n",
       "0  Lasso Linear Regression  Test  0.0101  482.0063  21.9546  17.4522  8.7614"
      ]
     },
     "execution_count": 24,
     "metadata": {},
     "output_type": "execute_result"
    }
   ],
   "source": [
    "# definição do modelo\n",
    "lasso_test = lm.Lasso(alpha=best_alpha, max_iter=best_max_iter, random_state=0)\n",
    "\n",
    "# Juntar os dados de treino e validação\n",
    "lasso_test.fit( pd.concat( [X_train, X_val] ),\n",
    "                pd.concat( [y_train, y_val] ) )\n",
    "\n",
    "# Predição sobre os dados de teste\n",
    "y_pred_test = lasso_test.predict( X_test )\n",
    "\n",
    "# Métricas\n",
    "df_metrics_test = metrics(y_test, y_pred_test, 'Test', 'Lasso Linear Regression')\n",
    "df_metrics_test"
   ]
  },
  {
   "cell_type": "markdown",
   "id": "fa7184ea",
   "metadata": {},
   "source": [
    "# 6.0 - Gera as planilhas com os resultados"
   ]
  },
  {
   "cell_type": "code",
   "execution_count": 27,
   "id": "46f99c38",
   "metadata": {
    "ExecuteTime": {
     "end_time": "2024-10-11T02:17:19.082326Z",
     "start_time": "2024-10-11T02:17:19.015176Z"
    }
   },
   "outputs": [],
   "source": [
    "exporta_excel('linear_lasso_regression')"
   ]
  },
  {
   "cell_type": "markdown",
   "id": "b04913ae",
   "metadata": {
    "ExecuteTime": {
     "end_time": "2024-10-11T02:45:03.124066Z",
     "start_time": "2024-10-11T02:45:03.101193Z"
    }
   },
   "source": [
    "### Apêndice\n",
    "\n",
    "Neste Apêndice, é oportuno fazer uma observação a respeito dos coeficientes do modelo resultante. Apenas três das treze variáveis preditoras originais modelam de fato a equação de regressão. Como é de praxe, a regressão linear **Lasso** é ótima para lidar com as variáveis que apresentam uma forte colinearidade, presente no *dataset* atual. Essas tiveram os coeficientes zerados."
   ]
  },
  {
   "cell_type": "code",
   "execution_count": 29,
   "id": "bf53cd2e",
   "metadata": {
    "ExecuteTime": {
     "end_time": "2024-10-11T02:36:48.228781Z",
     "start_time": "2024-10-11T02:36:48.211788Z"
    }
   },
   "outputs": [
    {
     "data": {
      "text/plain": [
       "array([-0.00408064, -0.        ,  0.        , -0.        , -0.        ,\n",
       "       -0.        , -0.        ,  1.70324054, -0.        ,  0.        ,\n",
       "       -0.2463182 ,  0.        , -0.        ])"
      ]
     },
     "execution_count": 29,
     "metadata": {},
     "output_type": "execute_result"
    }
   ],
   "source": [
    "lasso_test.coef_"
   ]
  },
  {
   "cell_type": "code",
   "execution_count": 30,
   "id": "4cd53fea",
   "metadata": {
    "ExecuteTime": {
     "end_time": "2024-10-11T02:37:04.613261Z",
     "start_time": "2024-10-11T02:37:04.597217Z"
    }
   },
   "outputs": [
    {
     "data": {
      "text/plain": [
       "Index(['song_duration_ms', 'acousticness', 'danceability', 'energy',\n",
       "       'instrumentalness', 'key', 'liveness', 'loudness', 'audio_mode',\n",
       "       'speechiness', 'tempo', 'time_signature', 'audio_valence'],\n",
       "      dtype='object')"
      ]
     },
     "execution_count": 30,
     "metadata": {},
     "output_type": "execute_result"
    }
   ],
   "source": [
    "X_train.columns"
   ]
  }
 ],
 "metadata": {
  "kernelspec": {
   "display_name": "Python 3 (ipykernel)",
   "language": "python",
   "name": "python3"
  },
  "language_info": {
   "codemirror_mode": {
    "name": "ipython",
    "version": 3
   },
   "file_extension": ".py",
   "mimetype": "text/x-python",
   "name": "python",
   "nbconvert_exporter": "python",
   "pygments_lexer": "ipython3",
   "version": "3.9.12"
  }
 },
 "nbformat": 4,
 "nbformat_minor": 5
}
