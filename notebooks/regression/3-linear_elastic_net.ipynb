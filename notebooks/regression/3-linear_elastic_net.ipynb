{
 "cells": [
  {
   "cell_type": "markdown",
   "id": "b9a4643f",
   "metadata": {},
   "source": [
    "# 0.0 - Elastic Net Linear Regression\n",
    "\n",
    "Os parâmetros utilizados para treinar o algoritmo **Elastic Net Linear Regression** serão a penalidade de regularização `alpha`, a razão `l1_ratio` (é o grau de mistura que determina o balanceamento entre as penalidades **L1 - Lasso** e **L2 - Ridge**) e o número máximo de iterações, `max_iter`.</br>Os valores padrão (*default*) nesse caso são **alpha=1.0**, **l1_ratio=0.5** e **max_iter=1000**, segundo a documentação oficial disponível em:</br></br>https://scikit-learn.org/stable/modules/generated/sklearn.linear_model.ElasticNet.html\n",
    "\n",
    "- `l1_ratio`: the *ElasticNet mixing parameter*, with `0 <= l1_ratio <= 1`.</br>For **l1_ratio = 0** the penalty is an **L2** penalty.</br>For **l1_ratio = 1** it is an **L1** penalty. For **0 < l1_ratio < 1**, the penalty is a **combination** of **L1** and **L2**."
   ]
  },
  {
   "cell_type": "markdown",
   "id": "1fe5ce76",
   "metadata": {},
   "source": [
    "# 1.0 - Importando bibliotecas"
   ]
  },
  {
   "cell_type": "code",
   "execution_count": 1,
   "id": "10c1a82a",
   "metadata": {
    "ExecuteTime": {
     "end_time": "2024-10-12T12:26:06.284167Z",
     "start_time": "2024-10-12T12:26:03.485930Z"
    }
   },
   "outputs": [],
   "source": [
    "import pandas as pd\n",
    "import numpy as np\n",
    "from sklearn import linear_model as lm\n",
    "import matplotlib.pyplot as plt\n",
    "\n",
    "from itertools import product\n",
    "\n",
    "from sklearn.metrics import r2_score, mean_squared_error, root_mean_squared_error, mean_absolute_error, mean_absolute_percentage_error"
   ]
  },
  {
   "cell_type": "markdown",
   "id": "d21b5503",
   "metadata": {},
   "source": [
    "# 2.0 - Carregando os dados"
   ]
  },
  {
   "cell_type": "code",
   "execution_count": 2,
   "id": "54ec0879",
   "metadata": {
    "ExecuteTime": {
     "end_time": "2024-10-12T12:26:25.141191Z",
     "start_time": "2024-10-12T12:26:24.940163Z"
    }
   },
   "outputs": [],
   "source": [
    "# Treino\n",
    "X_train = pd.read_csv('train/X_training.csv')\n",
    "y_train = pd.read_csv('train/y_training.csv')\n",
    "\n",
    "# Validação\n",
    "X_val = pd.read_csv('validation/X_validation.csv')\n",
    "y_val = pd.read_csv('validation/y_val.csv')\n",
    "\n",
    "# Teste\n",
    "X_test = pd.read_csv('test/X_test.csv')\n",
    "y_test = pd.read_csv('test/y_test.csv')"
   ]
  },
  {
   "cell_type": "markdown",
   "id": "37aaef92",
   "metadata": {},
   "source": [
    "# 3.0 - Funções"
   ]
  },
  {
   "cell_type": "code",
   "execution_count": 3,
   "id": "6d43123e",
   "metadata": {
    "ExecuteTime": {
     "end_time": "2024-10-12T12:26:52.241993Z",
     "start_time": "2024-10-12T12:26:52.229059Z"
    }
   },
   "outputs": [],
   "source": [
    "def metrics(y, y_pred, step, algorithm):\n",
    "    \"\"\"\n",
    "    Calcula várias métricas de avaliação de um modelo de regressão e as retorna em um DataFrame.\n",
    "\n",
    "    Parâmetros:\n",
    "    -----------\n",
    "    y : array-like\n",
    "        Valores da variável resposta.\n",
    "    \n",
    "    y_pred : array-like\n",
    "        Valores preditos pelo modelo.\n",
    "    \n",
    "    step : str\n",
    "        Etapa do processo de modelagem (ex: 'treino', 'validação', 'teste').\n",
    "    \n",
    "    algorithm : str\n",
    "        Nome do algoritmo usado.\n",
    "\n",
    "    Retorno:\n",
    "    --------\n",
    "    df_metrics : pandas.DataFrame\n",
    "        DataFrame contendo as métricas calculadas:\n",
    "        - 'Algorithm': Nome do algoritmo.\n",
    "        - 'Step': Etapa do processo (treino, validação ou teste).\n",
    "        - 'R2': Coeficiente de determinação.\n",
    "        - 'MSE': Erro quadrático médio.\n",
    "        - 'RMSE': Raiz do erro quadrático médio.\n",
    "        - 'MAE': Erro absoluto médio.\n",
    "        - 'MAPE': Erro percentual absoluto médio.\n",
    "    \"\"\"\n",
    "    # Calcula as métricas\n",
    "    r2 = r2_score(y, y_pred)\n",
    "    mse = mean_squared_error(y, y_pred)\n",
    "    rmse = np.sqrt(mse)\n",
    "    mae = mean_absolute_error(y, y_pred)\n",
    "    mape = mean_absolute_percentage_error(y, y_pred)\n",
    "\n",
    "    # Cria o DataFrame com as métricas\n",
    "    df_metrics = pd.DataFrame({   \n",
    "        'Algorithm': [algorithm],\n",
    "        'Step': [step],\n",
    "        'R2': [np.round(r2, 4)],\n",
    "        'MSE': [np.round(mse, 4)],\n",
    "        'RMSE': [np.round(rmse, 4)],\n",
    "        'MAE': [np.round(mae, 4)],\n",
    "        'MAPE': [np.round(mape, 4)]\n",
    "    })\n",
    "    \n",
    "    return df_metrics\n",
    "\n",
    "def exporta_excel(nome_algoritmo):\n",
    "    \"\"\"\n",
    "    Exporta os DataFrames de métricas para arquivos Excel em diferentes pastas.\n",
    "\n",
    "    Args:\n",
    "        nome_algoritmo (str): Nome do algoritmo utilizado.\n",
    "\n",
    "    Returns:\n",
    "        None\n",
    "    \"\"\"\n",
    "    etapas = ['train', 'validation', 'test']\n",
    "    df_list = [df_metrics_train, df_metrics_val, df_metrics_test]\n",
    "\n",
    "    for etapa, df in zip(etapas, df_list):\n",
    "        df.to_excel(f'{etapa}/metrics/metrics_{etapa}_{nome_algoritmo}.xlsx', index=False)"
   ]
  },
  {
   "cell_type": "markdown",
   "id": "84e8bb2b",
   "metadata": {},
   "source": [
    "# 4.0 - Ajustando os dados"
   ]
  },
  {
   "cell_type": "code",
   "execution_count": 4,
   "id": "1daad129",
   "metadata": {
    "ExecuteTime": {
     "end_time": "2024-10-12T12:27:09.627115Z",
     "start_time": "2024-10-12T12:27:09.603939Z"
    }
   },
   "outputs": [],
   "source": [
    "# transformação do formato DataFrame para Series, essencialmente um array unidimensional\n",
    "y_train, y_val, y_test = [ df.loc[:, 'song_popularity'] for df in [y_train, y_val, y_test] ]"
   ]
  },
  {
   "cell_type": "markdown",
   "id": "120755b9",
   "metadata": {},
   "source": [
    "# 5.0 - Desempenho do modelo\n",
    "\n",
    "## 5.1 - Dados de treino"
   ]
  },
  {
   "cell_type": "code",
   "execution_count": 5,
   "id": "2059083e",
   "metadata": {
    "ExecuteTime": {
     "end_time": "2024-10-12T12:35:49.359438Z",
     "start_time": "2024-10-12T12:35:49.236500Z"
    }
   },
   "outputs": [
    {
     "data": {
      "text/html": [
       "<div>\n",
       "<style scoped>\n",
       "    .dataframe tbody tr th:only-of-type {\n",
       "        vertical-align: middle;\n",
       "    }\n",
       "\n",
       "    .dataframe tbody tr th {\n",
       "        vertical-align: top;\n",
       "    }\n",
       "\n",
       "    .dataframe thead th {\n",
       "        text-align: right;\n",
       "    }\n",
       "</style>\n",
       "<table border=\"1\" class=\"dataframe\">\n",
       "  <thead>\n",
       "    <tr style=\"text-align: right;\">\n",
       "      <th></th>\n",
       "      <th>Algorithm</th>\n",
       "      <th>Step</th>\n",
       "      <th>R2</th>\n",
       "      <th>MSE</th>\n",
       "      <th>RMSE</th>\n",
       "      <th>MAE</th>\n",
       "      <th>MAPE</th>\n",
       "    </tr>\n",
       "  </thead>\n",
       "  <tbody>\n",
       "    <tr>\n",
       "      <th>0</th>\n",
       "      <td>Elastic Net Linear Regression</td>\n",
       "      <td>Train</td>\n",
       "      <td>0.0078</td>\n",
       "      <td>474.2689</td>\n",
       "      <td>21.7777</td>\n",
       "      <td>17.2995</td>\n",
       "      <td>8.7323</td>\n",
       "    </tr>\n",
       "  </tbody>\n",
       "</table>\n",
       "</div>"
      ],
      "text/plain": [
       "                       Algorithm   Step      R2       MSE     RMSE      MAE   \n",
       "0  Elastic Net Linear Regression  Train  0.0078  474.2689  21.7777  17.2995  \\\n",
       "\n",
       "     MAPE  \n",
       "0  8.7323  "
      ]
     },
     "execution_count": 5,
     "metadata": {},
     "output_type": "execute_result"
    }
   ],
   "source": [
    "# definição do modelo\n",
    "elastic_net_train = lm.ElasticNet( random_state = 0 )\n",
    "\n",
    "# treinamento do algoritmo.\n",
    "elastic_net_train.fit( X_train, y_train )\n",
    "\n",
    "# Predição sobre os dados de treino\n",
    "y_pred_train = elastic_net_train.predict( X_train )\n",
    "\n",
    "# Métricas\n",
    "df_metrics_train = metrics(y_train, y_pred_train, 'Train', 'Elastic Net Linear Regression')\n",
    "df_metrics_train"
   ]
  },
  {
   "cell_type": "markdown",
   "id": "6169ef15",
   "metadata": {},
   "source": [
    "## 5.2 - Dados de validação"
   ]
  },
  {
   "cell_type": "code",
   "execution_count": 6,
   "id": "2a7f0029",
   "metadata": {
    "ExecuteTime": {
     "end_time": "2024-10-12T12:38:05.224230Z",
     "start_time": "2024-10-12T12:38:05.187543Z"
    }
   },
   "outputs": [
    {
     "data": {
      "text/html": [
       "<div>\n",
       "<style scoped>\n",
       "    .dataframe tbody tr th:only-of-type {\n",
       "        vertical-align: middle;\n",
       "    }\n",
       "\n",
       "    .dataframe tbody tr th {\n",
       "        vertical-align: top;\n",
       "    }\n",
       "\n",
       "    .dataframe thead th {\n",
       "        text-align: right;\n",
       "    }\n",
       "</style>\n",
       "<table border=\"1\" class=\"dataframe\">\n",
       "  <thead>\n",
       "    <tr style=\"text-align: right;\">\n",
       "      <th></th>\n",
       "      <th>Algorithm</th>\n",
       "      <th>Step</th>\n",
       "      <th>R2</th>\n",
       "      <th>MSE</th>\n",
       "      <th>RMSE</th>\n",
       "      <th>MAE</th>\n",
       "      <th>MAPE</th>\n",
       "    </tr>\n",
       "  </thead>\n",
       "  <tbody>\n",
       "    <tr>\n",
       "      <th>0</th>\n",
       "      <td>Elastic Net Linear Regression</td>\n",
       "      <td>Validation</td>\n",
       "      <td>0.0081</td>\n",
       "      <td>473.6356</td>\n",
       "      <td>21.7632</td>\n",
       "      <td>17.2629</td>\n",
       "      <td>8.694</td>\n",
       "    </tr>\n",
       "  </tbody>\n",
       "</table>\n",
       "</div>"
      ],
      "text/plain": [
       "                       Algorithm        Step      R2       MSE     RMSE   \n",
       "0  Elastic Net Linear Regression  Validation  0.0081  473.6356  21.7632  \\\n",
       "\n",
       "       MAE   MAPE  \n",
       "0  17.2629  8.694  "
      ]
     },
     "execution_count": 6,
     "metadata": {},
     "output_type": "execute_result"
    }
   ],
   "source": [
    "# definição do modelo\n",
    "elastic_net_val = lm.ElasticNet( random_state = 0 )\n",
    "\n",
    "# treinamento do algoritmo. \n",
    "elastic_net_val.fit(X_train, y_train)\n",
    "\n",
    "# Predição sobre os dados de validação\n",
    "y_pred_val = elastic_net_val.predict(X_val)\n",
    "\n",
    "# Métricas\n",
    "df_metrics_val = metrics(y_val, y_pred_val, 'Validation', 'Elastic Net Linear Regression')\n",
    "df_metrics_val"
   ]
  },
  {
   "cell_type": "markdown",
   "id": "a2e06f5e",
   "metadata": {},
   "source": [
    "## 5.3 - Ajuste fino dos hiperparâmetros (Etapa de *Fine Tuning*)"
   ]
  },
  {
   "cell_type": "code",
   "execution_count": 17,
   "id": "888c9201",
   "metadata": {
    "ExecuteTime": {
     "end_time": "2024-09-15T18:54:37.079854Z",
     "start_time": "2024-09-15T18:54:37.074716Z"
    }
   },
   "outputs": [],
   "source": [
    "from sklearn.preprocessing import StandardScaler"
   ]
  },
  {
   "cell_type": "code",
   "execution_count": 7,
   "id": "1008af02",
   "metadata": {
    "ExecuteTime": {
     "end_time": "2024-10-12T12:49:47.677709Z",
     "start_time": "2024-10-12T12:49:41.323936Z"
    }
   },
   "outputs": [],
   "source": [
    "# Definir intervalo de parâmetros\n",
    "alpha_array = np.arange(0.5, 11, 0.5)\n",
    "l1_ratio_array = np.arange(0.1, 1.00, 0.1)\n",
    "max_iter_list = [100, 500, 1000]\n",
    "\n",
    "# Criar DataFrame para armazenar resultados\n",
    "metrics_df = pd.DataFrame(columns=['alpha', 'l1_ratio', 'max_iter', 'R2', 'MSE', 'RMSE', 'MAE', 'MAPE'])\n",
    "\n",
    "# Usar 'itertools.product' para combinar os valores dos hiper-parâmetros\n",
    "for m, n, o in product(alpha_array, l1_ratio_array, max_iter_list):\n",
    "    # Definir e treinar o modelo\n",
    "    model = lm.ElasticNet(alpha=m, l1_ratio=n, max_iter=o, random_state=0)\n",
    "    model.fit(X_train, y_train)\n",
    "\n",
    "    # Predição sobre os dados de validação\n",
    "    y_pred = model.predict(X_val)\n",
    "    \n",
    "    # Calcular métricas de performance\n",
    "    r2_tuning  = r2_score( y_val, y_pred )\n",
    "    mse_tuning  = mean_squared_error( y_val, y_pred )\n",
    "    rmse_tuning = root_mean_squared_error( y_val, y_pred )\n",
    "    mae_tuning  = mean_absolute_error( y_val, y_pred )\n",
    "    mape_tuning = mean_absolute_percentage_error( y_val, y_pred )\n",
    "    \n",
    "    # Armazenar os resultados em uma nova linha como DataFrame\n",
    "    new_row = pd.DataFrame({\n",
    "        'alpha': [m],\n",
    "        'l1_ratio': [n],\n",
    "        'max_iter': [o],\n",
    "        'R2': [r2_tuning],\n",
    "        'MSE': [mse_tuning],\n",
    "        'RMSE': [rmse_tuning],\n",
    "        'MAE': [mae_tuning],\n",
    "        'MAPE': [mape_tuning]\n",
    "    })\n",
    "\n",
    "    # Concatenar a nova linha ao DataFrame existente\n",
    "    metrics_df = pd.concat([metrics_df, new_row], ignore_index=True)"
   ]
  },
  {
   "cell_type": "code",
   "execution_count": 8,
   "id": "bd081902",
   "metadata": {
    "ExecuteTime": {
     "end_time": "2024-10-12T12:49:59.816242Z",
     "start_time": "2024-10-12T12:49:59.787285Z"
    }
   },
   "outputs": [
    {
     "data": {
      "text/html": [
       "<div>\n",
       "<style scoped>\n",
       "    .dataframe tbody tr th:only-of-type {\n",
       "        vertical-align: middle;\n",
       "    }\n",
       "\n",
       "    .dataframe tbody tr th {\n",
       "        vertical-align: top;\n",
       "    }\n",
       "\n",
       "    .dataframe thead th {\n",
       "        text-align: right;\n",
       "    }\n",
       "</style>\n",
       "<table border=\"1\" class=\"dataframe\">\n",
       "  <thead>\n",
       "    <tr style=\"text-align: right;\">\n",
       "      <th></th>\n",
       "      <th>alpha</th>\n",
       "      <th>l1_ratio</th>\n",
       "      <th>max_iter</th>\n",
       "      <th>R2</th>\n",
       "      <th>MSE</th>\n",
       "      <th>RMSE</th>\n",
       "      <th>MAE</th>\n",
       "      <th>MAPE</th>\n",
       "    </tr>\n",
       "  </thead>\n",
       "  <tbody>\n",
       "    <tr>\n",
       "      <th>0</th>\n",
       "      <td>0.5</td>\n",
       "      <td>0.1</td>\n",
       "      <td>100</td>\n",
       "      <td>1.399549e-02</td>\n",
       "      <td>470.828604</td>\n",
       "      <td>21.698585</td>\n",
       "      <td>17.214639</td>\n",
       "      <td>8.686186</td>\n",
       "    </tr>\n",
       "    <tr>\n",
       "      <th>1</th>\n",
       "      <td>0.5</td>\n",
       "      <td>0.1</td>\n",
       "      <td>500</td>\n",
       "      <td>1.399549e-02</td>\n",
       "      <td>470.828604</td>\n",
       "      <td>21.698585</td>\n",
       "      <td>17.214639</td>\n",
       "      <td>8.686186</td>\n",
       "    </tr>\n",
       "    <tr>\n",
       "      <th>2</th>\n",
       "      <td>0.5</td>\n",
       "      <td>0.1</td>\n",
       "      <td>1000</td>\n",
       "      <td>1.399549e-02</td>\n",
       "      <td>470.828604</td>\n",
       "      <td>21.698585</td>\n",
       "      <td>17.214639</td>\n",
       "      <td>8.686186</td>\n",
       "    </tr>\n",
       "    <tr>\n",
       "      <th>3</th>\n",
       "      <td>0.5</td>\n",
       "      <td>0.2</td>\n",
       "      <td>100</td>\n",
       "      <td>1.365089e-02</td>\n",
       "      <td>470.993154</td>\n",
       "      <td>21.702377</td>\n",
       "      <td>17.216063</td>\n",
       "      <td>8.688429</td>\n",
       "    </tr>\n",
       "    <tr>\n",
       "      <th>4</th>\n",
       "      <td>0.5</td>\n",
       "      <td>0.2</td>\n",
       "      <td>500</td>\n",
       "      <td>1.365089e-02</td>\n",
       "      <td>470.993154</td>\n",
       "      <td>21.702377</td>\n",
       "      <td>17.216063</td>\n",
       "      <td>8.688429</td>\n",
       "    </tr>\n",
       "    <tr>\n",
       "      <th>...</th>\n",
       "      <td>...</td>\n",
       "      <td>...</td>\n",
       "      <td>...</td>\n",
       "      <td>...</td>\n",
       "      <td>...</td>\n",
       "      <td>...</td>\n",
       "      <td>...</td>\n",
       "      <td>...</td>\n",
       "    </tr>\n",
       "    <tr>\n",
       "      <th>562</th>\n",
       "      <td>10.5</td>\n",
       "      <td>0.8</td>\n",
       "      <td>500</td>\n",
       "      <td>-7.197077e-07</td>\n",
       "      <td>477.511956</td>\n",
       "      <td>21.852047</td>\n",
       "      <td>17.352836</td>\n",
       "      <td>8.678722</td>\n",
       "    </tr>\n",
       "    <tr>\n",
       "      <th>563</th>\n",
       "      <td>10.5</td>\n",
       "      <td>0.8</td>\n",
       "      <td>1000</td>\n",
       "      <td>-7.197077e-07</td>\n",
       "      <td>477.511956</td>\n",
       "      <td>21.852047</td>\n",
       "      <td>17.352836</td>\n",
       "      <td>8.678722</td>\n",
       "    </tr>\n",
       "    <tr>\n",
       "      <th>564</th>\n",
       "      <td>10.5</td>\n",
       "      <td>0.9</td>\n",
       "      <td>100</td>\n",
       "      <td>-7.197077e-07</td>\n",
       "      <td>477.511956</td>\n",
       "      <td>21.852047</td>\n",
       "      <td>17.352836</td>\n",
       "      <td>8.678722</td>\n",
       "    </tr>\n",
       "    <tr>\n",
       "      <th>565</th>\n",
       "      <td>10.5</td>\n",
       "      <td>0.9</td>\n",
       "      <td>500</td>\n",
       "      <td>-7.197077e-07</td>\n",
       "      <td>477.511956</td>\n",
       "      <td>21.852047</td>\n",
       "      <td>17.352836</td>\n",
       "      <td>8.678722</td>\n",
       "    </tr>\n",
       "    <tr>\n",
       "      <th>566</th>\n",
       "      <td>10.5</td>\n",
       "      <td>0.9</td>\n",
       "      <td>1000</td>\n",
       "      <td>-7.197077e-07</td>\n",
       "      <td>477.511956</td>\n",
       "      <td>21.852047</td>\n",
       "      <td>17.352836</td>\n",
       "      <td>8.678722</td>\n",
       "    </tr>\n",
       "  </tbody>\n",
       "</table>\n",
       "<p>567 rows × 8 columns</p>\n",
       "</div>"
      ],
      "text/plain": [
       "     alpha  l1_ratio max_iter            R2         MSE       RMSE        MAE   \n",
       "0      0.5       0.1      100  1.399549e-02  470.828604  21.698585  17.214639  \\\n",
       "1      0.5       0.1      500  1.399549e-02  470.828604  21.698585  17.214639   \n",
       "2      0.5       0.1     1000  1.399549e-02  470.828604  21.698585  17.214639   \n",
       "3      0.5       0.2      100  1.365089e-02  470.993154  21.702377  17.216063   \n",
       "4      0.5       0.2      500  1.365089e-02  470.993154  21.702377  17.216063   \n",
       "..     ...       ...      ...           ...         ...        ...        ...   \n",
       "562   10.5       0.8      500 -7.197077e-07  477.511956  21.852047  17.352836   \n",
       "563   10.5       0.8     1000 -7.197077e-07  477.511956  21.852047  17.352836   \n",
       "564   10.5       0.9      100 -7.197077e-07  477.511956  21.852047  17.352836   \n",
       "565   10.5       0.9      500 -7.197077e-07  477.511956  21.852047  17.352836   \n",
       "566   10.5       0.9     1000 -7.197077e-07  477.511956  21.852047  17.352836   \n",
       "\n",
       "         MAPE  \n",
       "0    8.686186  \n",
       "1    8.686186  \n",
       "2    8.686186  \n",
       "3    8.688429  \n",
       "4    8.688429  \n",
       "..        ...  \n",
       "562  8.678722  \n",
       "563  8.678722  \n",
       "564  8.678722  \n",
       "565  8.678722  \n",
       "566  8.678722  \n",
       "\n",
       "[567 rows x 8 columns]"
      ]
     },
     "execution_count": 8,
     "metadata": {},
     "output_type": "execute_result"
    }
   ],
   "source": [
    "# Valores das métricas de performance para diferentes combinações dos hiper-parâmetros \n",
    "metrics_df"
   ]
  },
  {
   "cell_type": "markdown",
   "id": "cec1c9cc",
   "metadata": {},
   "source": [
    "Em particular, estamos interessados em buscar o conjunto de hiper-parâmetros que minimize a **Raiz do Erro Quadrático Médio (RMSE)**. "
   ]
  },
  {
   "cell_type": "code",
   "execution_count": 9,
   "id": "e0a1dd2f",
   "metadata": {
    "ExecuteTime": {
     "end_time": "2024-10-12T12:51:02.888002Z",
     "start_time": "2024-10-12T12:51:02.858934Z"
    }
   },
   "outputs": [
    {
     "data": {
      "text/html": [
       "<div>\n",
       "<style scoped>\n",
       "    .dataframe tbody tr th:only-of-type {\n",
       "        vertical-align: middle;\n",
       "    }\n",
       "\n",
       "    .dataframe tbody tr th {\n",
       "        vertical-align: top;\n",
       "    }\n",
       "\n",
       "    .dataframe thead th {\n",
       "        text-align: right;\n",
       "    }\n",
       "</style>\n",
       "<table border=\"1\" class=\"dataframe\">\n",
       "  <thead>\n",
       "    <tr style=\"text-align: right;\">\n",
       "      <th></th>\n",
       "      <th>alpha</th>\n",
       "      <th>l1_ratio</th>\n",
       "      <th>max_iter</th>\n",
       "      <th>R2</th>\n",
       "      <th>MSE</th>\n",
       "      <th>RMSE</th>\n",
       "      <th>MAE</th>\n",
       "      <th>MAPE</th>\n",
       "    </tr>\n",
       "  </thead>\n",
       "  <tbody>\n",
       "    <tr>\n",
       "      <th>0</th>\n",
       "      <td>0.5</td>\n",
       "      <td>0.1</td>\n",
       "      <td>100</td>\n",
       "      <td>0.013995</td>\n",
       "      <td>470.828604</td>\n",
       "      <td>21.698585</td>\n",
       "      <td>17.214639</td>\n",
       "      <td>8.686186</td>\n",
       "    </tr>\n",
       "    <tr>\n",
       "      <th>1</th>\n",
       "      <td>0.5</td>\n",
       "      <td>0.1</td>\n",
       "      <td>500</td>\n",
       "      <td>0.013995</td>\n",
       "      <td>470.828604</td>\n",
       "      <td>21.698585</td>\n",
       "      <td>17.214639</td>\n",
       "      <td>8.686186</td>\n",
       "    </tr>\n",
       "    <tr>\n",
       "      <th>2</th>\n",
       "      <td>0.5</td>\n",
       "      <td>0.1</td>\n",
       "      <td>1000</td>\n",
       "      <td>0.013995</td>\n",
       "      <td>470.828604</td>\n",
       "      <td>21.698585</td>\n",
       "      <td>17.214639</td>\n",
       "      <td>8.686186</td>\n",
       "    </tr>\n",
       "    <tr>\n",
       "      <th>3</th>\n",
       "      <td>0.5</td>\n",
       "      <td>0.2</td>\n",
       "      <td>100</td>\n",
       "      <td>0.013651</td>\n",
       "      <td>470.993154</td>\n",
       "      <td>21.702377</td>\n",
       "      <td>17.216063</td>\n",
       "      <td>8.688429</td>\n",
       "    </tr>\n",
       "    <tr>\n",
       "      <th>4</th>\n",
       "      <td>0.5</td>\n",
       "      <td>0.2</td>\n",
       "      <td>500</td>\n",
       "      <td>0.013651</td>\n",
       "      <td>470.993154</td>\n",
       "      <td>21.702377</td>\n",
       "      <td>17.216063</td>\n",
       "      <td>8.688429</td>\n",
       "    </tr>\n",
       "  </tbody>\n",
       "</table>\n",
       "</div>"
      ],
      "text/plain": [
       "   alpha  l1_ratio max_iter        R2         MSE       RMSE        MAE   \n",
       "0    0.5       0.1      100  0.013995  470.828604  21.698585  17.214639  \\\n",
       "1    0.5       0.1      500  0.013995  470.828604  21.698585  17.214639   \n",
       "2    0.5       0.1     1000  0.013995  470.828604  21.698585  17.214639   \n",
       "3    0.5       0.2      100  0.013651  470.993154  21.702377  17.216063   \n",
       "4    0.5       0.2      500  0.013651  470.993154  21.702377  17.216063   \n",
       "\n",
       "       MAPE  \n",
       "0  8.686186  \n",
       "1  8.686186  \n",
       "2  8.686186  \n",
       "3  8.688429  \n",
       "4  8.688429  "
      ]
     },
     "execution_count": 9,
     "metadata": {},
     "output_type": "execute_result"
    }
   ],
   "source": [
    "# exibe as 5 primeiras linhas do dataset ordenado do menor para o maior RMSE\n",
    "metrics_df.sort_values(['RMSE'], ascending=True)[:5]"
   ]
  },
  {
   "cell_type": "markdown",
   "id": "6c6edac8",
   "metadata": {},
   "source": [
    "Observe que as três primeiras linhas acima retornam os mesmos valores das métricas de performance. Com efeito, nessa perspectiva, podemos escolher qualquer um dos três conjuntos de hiper-parâmetros para treinar o modelo final. Contudo, é provável que o modelo mais leve seja aquele treinado com `max_iter=100`. Assim:  \n",
    "\n",
    "Melhores hiper-parâmetros: `alpha = 0.5`, `l1_ratio=0.1` e `max_iter = 100`"
   ]
  },
  {
   "cell_type": "code",
   "execution_count": 10,
   "id": "4104869b",
   "metadata": {
    "ExecuteTime": {
     "end_time": "2024-10-12T12:57:26.985795Z",
     "start_time": "2024-10-12T12:57:26.979301Z"
    }
   },
   "outputs": [],
   "source": [
    "best_alpha = 0.5\n",
    "best_l1_ratio = 0.1\n",
    "best_max_iter = 100"
   ]
  },
  {
   "cell_type": "markdown",
   "id": "4f094383",
   "metadata": {},
   "source": [
    "## 5.4 - Desempenho do modelo para os dados de teste"
   ]
  },
  {
   "cell_type": "code",
   "execution_count": 11,
   "id": "23930688",
   "metadata": {
    "ExecuteTime": {
     "end_time": "2024-10-12T12:59:12.783303Z",
     "start_time": "2024-10-12T12:59:12.745198Z"
    }
   },
   "outputs": [
    {
     "data": {
      "text/html": [
       "<div>\n",
       "<style scoped>\n",
       "    .dataframe tbody tr th:only-of-type {\n",
       "        vertical-align: middle;\n",
       "    }\n",
       "\n",
       "    .dataframe tbody tr th {\n",
       "        vertical-align: top;\n",
       "    }\n",
       "\n",
       "    .dataframe thead th {\n",
       "        text-align: right;\n",
       "    }\n",
       "</style>\n",
       "<table border=\"1\" class=\"dataframe\">\n",
       "  <thead>\n",
       "    <tr style=\"text-align: right;\">\n",
       "      <th></th>\n",
       "      <th>Algorithm</th>\n",
       "      <th>Step</th>\n",
       "      <th>R2</th>\n",
       "      <th>MSE</th>\n",
       "      <th>RMSE</th>\n",
       "      <th>MAE</th>\n",
       "      <th>MAPE</th>\n",
       "    </tr>\n",
       "  </thead>\n",
       "  <tbody>\n",
       "    <tr>\n",
       "      <th>0</th>\n",
       "      <td>Elastic Net Linear Regression</td>\n",
       "      <td>Test</td>\n",
       "      <td>0.0141</td>\n",
       "      <td>480.0462</td>\n",
       "      <td>21.91</td>\n",
       "      <td>17.4165</td>\n",
       "      <td>8.7361</td>\n",
       "    </tr>\n",
       "  </tbody>\n",
       "</table>\n",
       "</div>"
      ],
      "text/plain": [
       "                       Algorithm  Step      R2       MSE   RMSE      MAE   \n",
       "0  Elastic Net Linear Regression  Test  0.0141  480.0462  21.91  17.4165  \\\n",
       "\n",
       "     MAPE  \n",
       "0  8.7361  "
      ]
     },
     "execution_count": 11,
     "metadata": {},
     "output_type": "execute_result"
    }
   ],
   "source": [
    "# definição do modelo\n",
    "elastic_net_test = lm.ElasticNet(alpha=best_alpha, l1_ratio=best_l1_ratio, max_iter=best_max_iter, random_state=0)\n",
    "\n",
    "# Juntar os dados de treino e validação\n",
    "elastic_net_test.fit( pd.concat( [X_train, X_val] ),\n",
    "                      pd.concat( [y_train, y_val] ) )\n",
    "\n",
    "# Predição sobre os dados de teste\n",
    "y_pred_test = elastic_net_test.predict( X_test )\n",
    "\n",
    "# Métricas\n",
    "df_metrics_test = metrics(y_test, y_pred_test, 'Test', 'Elastic Net Linear Regression')\n",
    "df_metrics_test"
   ]
  },
  {
   "cell_type": "markdown",
   "id": "3c4c74c8",
   "metadata": {},
   "source": [
    "# 6.0 - Gera as planilhas com os resultados"
   ]
  },
  {
   "cell_type": "code",
   "execution_count": 14,
   "id": "96c51136",
   "metadata": {
    "ExecuteTime": {
     "end_time": "2024-10-12T13:02:48.727456Z",
     "start_time": "2024-10-12T13:02:48.222250Z"
    }
   },
   "outputs": [],
   "source": [
    "exporta_excel('elastic_net_regression')"
   ]
  }
 ],
 "metadata": {
  "kernelspec": {
   "display_name": "Python 3 (ipykernel)",
   "language": "python",
   "name": "python3"
  },
  "language_info": {
   "codemirror_mode": {
    "name": "ipython",
    "version": 3
   },
   "file_extension": ".py",
   "mimetype": "text/x-python",
   "name": "python",
   "nbconvert_exporter": "python",
   "pygments_lexer": "ipython3",
   "version": "3.9.12"
  }
 },
 "nbformat": 4,
 "nbformat_minor": 5
}
