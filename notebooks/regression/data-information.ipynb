{
 "cells": [
  {
   "cell_type": "markdown",
   "id": "857c3a66",
   "metadata": {},
   "source": [
    "### Descrição do problema\n",
    "\n",
    "A indústria musical busca constantemente entender os fatores que levam uma música ao sucesso. Neste trabalho, exploramos a possibilidade de prever a popularidade de canções através de análises de dados.</br></br>Utilizando um conjunto de dados do Kaggle (**https://www.kaggle.com/datasets/yasserh/song-popularity-dataset/data**), que contém informações sobre diversas métricas de áudio (energia, dançabilidade, intensidade, etc.), buscamos desenvolver modelos de machine learning capazes de identificar padrões e correlações entre essas características com o intuito de prever a popularidade das músicas.</br></br> \n",
    "Para a construção dos modelos, exploramos algoritmos como **Linear Regression Lasso**, **Linear Regression Ridge**, **Linear Regression Elastic Net**, **Decision Tree**, **Random Forest** e regressões polinomiais.</br>A avaliação dos modelos será realizada utilizando as seguintes métricas: **R²**, **MSE**, **RMSE**, **MAE** e **MAPE**. \n",
    "\n",
    "### Informações do dataset\n",
    "\n",
    "- **song_name**: nome da música</br>\n",
    "- **song_duration_ms**: duração da música em milissegundos</br>\n",
    "- **acousticness**: Grau de presença de instrumentos acústicos na música</br>\n",
    "- **danceability**: Quanto maior o valor, mais a música é adequada para dançar</br>\n",
    "- **energy**: Grau de vigor e intensidade da música</br>\n",
    "- **instrumentalness**: Grau de presença de vocais na música. Valores mais altos indicam músicas mais instrumentais</br>\n",
    "- **key**: A tonalidade principal da música</br>\n",
    "- **liveness**: Grau de presença de um público ao vivo na gravação. Valores mais altos indicam mais probabilidade de ser uma gravação ao vivo</br>\n",
    "- **loudness**: Volume geral da música. Medido em decibéis (dB)</br>\n",
    "- **audio_mode**: Indica se a música está em mono ou estéreo</br>\n",
    "- **speechiness**: Grau de presença de fala na música</br>\n",
    "- **tempo**: Velocidade da música, medida em batidas por minuto (BPM)</br>\n",
    "- **time_signature**: A métrica da música, indicando o número de batidas por compasso</br>\n",
    "- **audio_valence**: Positividade da música. Valores mais altos indicam músicas mais positivas</br>\n",
    "- **song_popularity**: nível de popularidade da música, variando entre **0** (mínimo) e **100** (máximo).\n",
    "\n",
    "### Observações importantes\n",
    "\n",
    "Visando otimizar o aprendizado, os dados brutos foram submetidos a uma etapa de pré-processamento pelo instrutor do curso que incluiu a normalização dos atributos numéricos e a extração da coluna categórica `song_name`. Com isso, os dados já se encontram preparados para a aplicação dos algoritmos de machine learning utilizados nesse ensaio."
   ]
  },
  {
   "cell_type": "markdown",
   "id": "3ecb959c",
   "metadata": {},
   "source": [
    "# 1.0 - Importando bibliotecas"
   ]
  },
  {
   "cell_type": "code",
   "execution_count": 1,
   "id": "63c321b3",
   "metadata": {
    "ExecuteTime": {
     "end_time": "2024-10-12T13:51:15.302966Z",
     "start_time": "2024-10-12T13:51:13.779461Z"
    }
   },
   "outputs": [],
   "source": [
    "import pandas as pd\n",
    "import numpy as np\n",
    "from matplotlib import pyplot as plt\n",
    "pd.set_option('display.max_columns', None)"
   ]
  },
  {
   "cell_type": "markdown",
   "id": "dbb00ad3",
   "metadata": {},
   "source": [
    "# 2.0 - Carregando os dados"
   ]
  },
  {
   "cell_type": "code",
   "execution_count": 3,
   "id": "502c08ab",
   "metadata": {
    "ExecuteTime": {
     "end_time": "2024-10-12T13:52:07.506431Z",
     "start_time": "2024-10-12T13:52:07.417814Z"
    }
   },
   "outputs": [],
   "source": [
    "# Treino\n",
    "X_train = pd.read_csv('train/X_training.csv')\n",
    "y_train = pd.read_csv('train/y_training.csv')\n",
    "\n",
    "# Validação\n",
    "X_val = pd.read_csv('validation/X_validation.csv')\n",
    "y_val = pd.read_csv('validation/y_val.csv')\n",
    "\n",
    "# Teste\n",
    "X_test = pd.read_csv('test/X_test.csv')\n",
    "y_test = pd.read_csv('test/y_test.csv')"
   ]
  },
  {
   "cell_type": "code",
   "execution_count": 4,
   "id": "7641beb7",
   "metadata": {
    "ExecuteTime": {
     "end_time": "2024-10-12T13:52:12.912523Z",
     "start_time": "2024-10-12T13:52:12.882342Z"
    }
   },
   "outputs": [
    {
     "data": {
      "text/html": [
       "<div>\n",
       "<style scoped>\n",
       "    .dataframe tbody tr th:only-of-type {\n",
       "        vertical-align: middle;\n",
       "    }\n",
       "\n",
       "    .dataframe tbody tr th {\n",
       "        vertical-align: top;\n",
       "    }\n",
       "\n",
       "    .dataframe thead th {\n",
       "        text-align: right;\n",
       "    }\n",
       "</style>\n",
       "<table border=\"1\" class=\"dataframe\">\n",
       "  <thead>\n",
       "    <tr style=\"text-align: right;\">\n",
       "      <th></th>\n",
       "      <th>song_duration_ms</th>\n",
       "      <th>acousticness</th>\n",
       "      <th>danceability</th>\n",
       "      <th>energy</th>\n",
       "      <th>instrumentalness</th>\n",
       "      <th>key</th>\n",
       "      <th>liveness</th>\n",
       "      <th>loudness</th>\n",
       "      <th>audio_mode</th>\n",
       "      <th>speechiness</th>\n",
       "      <th>tempo</th>\n",
       "      <th>time_signature</th>\n",
       "      <th>audio_valence</th>\n",
       "    </tr>\n",
       "  </thead>\n",
       "  <tbody>\n",
       "    <tr>\n",
       "      <th>0</th>\n",
       "      <td>0.205673</td>\n",
       "      <td>0.092100</td>\n",
       "      <td>0.720</td>\n",
       "      <td>0.802</td>\n",
       "      <td>0.000000</td>\n",
       "      <td>0.090909</td>\n",
       "      <td>0.694</td>\n",
       "      <td>0.431778</td>\n",
       "      <td>1</td>\n",
       "      <td>0.0582</td>\n",
       "      <td>0.103876</td>\n",
       "      <td>0.8</td>\n",
       "      <td>0.723</td>\n",
       "    </tr>\n",
       "    <tr>\n",
       "      <th>1</th>\n",
       "      <td>-0.240409</td>\n",
       "      <td>0.737000</td>\n",
       "      <td>0.483</td>\n",
       "      <td>0.412</td>\n",
       "      <td>0.000000</td>\n",
       "      <td>0.636364</td>\n",
       "      <td>0.116</td>\n",
       "      <td>-0.262732</td>\n",
       "      <td>1</td>\n",
       "      <td>0.0402</td>\n",
       "      <td>1.711532</td>\n",
       "      <td>0.6</td>\n",
       "      <td>0.247</td>\n",
       "    </tr>\n",
       "    <tr>\n",
       "      <th>2</th>\n",
       "      <td>-0.125770</td>\n",
       "      <td>0.274000</td>\n",
       "      <td>0.671</td>\n",
       "      <td>0.565</td>\n",
       "      <td>0.000065</td>\n",
       "      <td>1.000000</td>\n",
       "      <td>0.370</td>\n",
       "      <td>0.013612</td>\n",
       "      <td>0</td>\n",
       "      <td>0.1600</td>\n",
       "      <td>1.009176</td>\n",
       "      <td>0.8</td>\n",
       "      <td>0.561</td>\n",
       "    </tr>\n",
       "    <tr>\n",
       "      <th>3</th>\n",
       "      <td>-0.580967</td>\n",
       "      <td>0.002340</td>\n",
       "      <td>0.704</td>\n",
       "      <td>0.529</td>\n",
       "      <td>0.874000</td>\n",
       "      <td>1.000000</td>\n",
       "      <td>0.370</td>\n",
       "      <td>-0.266382</td>\n",
       "      <td>0</td>\n",
       "      <td>0.0416</td>\n",
       "      <td>0.666173</td>\n",
       "      <td>0.8</td>\n",
       "      <td>0.507</td>\n",
       "    </tr>\n",
       "    <tr>\n",
       "      <th>4</th>\n",
       "      <td>-0.688566</td>\n",
       "      <td>0.000414</td>\n",
       "      <td>0.354</td>\n",
       "      <td>0.910</td>\n",
       "      <td>0.205000</td>\n",
       "      <td>0.090909</td>\n",
       "      <td>0.456</td>\n",
       "      <td>0.422914</td>\n",
       "      <td>1</td>\n",
       "      <td>0.0430</td>\n",
       "      <td>1.182630</td>\n",
       "      <td>0.8</td>\n",
       "      <td>0.362</td>\n",
       "    </tr>\n",
       "  </tbody>\n",
       "</table>\n",
       "</div>"
      ],
      "text/plain": [
       "   song_duration_ms  acousticness  danceability  energy  instrumentalness   \n",
       "0          0.205673      0.092100         0.720   0.802          0.000000  \\\n",
       "1         -0.240409      0.737000         0.483   0.412          0.000000   \n",
       "2         -0.125770      0.274000         0.671   0.565          0.000065   \n",
       "3         -0.580967      0.002340         0.704   0.529          0.874000   \n",
       "4         -0.688566      0.000414         0.354   0.910          0.205000   \n",
       "\n",
       "        key  liveness  loudness  audio_mode  speechiness     tempo   \n",
       "0  0.090909     0.694  0.431778           1       0.0582  0.103876  \\\n",
       "1  0.636364     0.116 -0.262732           1       0.0402  1.711532   \n",
       "2  1.000000     0.370  0.013612           0       0.1600  1.009176   \n",
       "3  1.000000     0.370 -0.266382           0       0.0416  0.666173   \n",
       "4  0.090909     0.456  0.422914           1       0.0430  1.182630   \n",
       "\n",
       "   time_signature  audio_valence  \n",
       "0             0.8          0.723  \n",
       "1             0.6          0.247  \n",
       "2             0.8          0.561  \n",
       "3             0.8          0.507  \n",
       "4             0.8          0.362  "
      ]
     },
     "execution_count": 4,
     "metadata": {},
     "output_type": "execute_result"
    }
   ],
   "source": [
    "X_train.head()"
   ]
  },
  {
   "cell_type": "markdown",
   "id": "27d4389b",
   "metadata": {},
   "source": [
    "## 2.1 - Variáveis preditoras: informações gerais"
   ]
  },
  {
   "cell_type": "markdown",
   "id": "2e21c658",
   "metadata": {},
   "source": [
    "Nas células abaixo, mostramos informações gerais sobre os dados de **treino**, **validação** e **teste**.</br>Observamos que todas as variáveis preditoras são numéricas (formatos **int64**, **float64**), assim não há necessidade de transformar dados categóricos em numéricos.</br>Além disso, todos os conjuntos de dados estão completos, sem a necessidade de lidar com dados faltantes. A checagem preliminar dos dados mostrou que diversos atributos foram a priori rescalonados.</br>Lembramos que essa etapa é de suma importância para os algoritmos, como é o caso das Regressões lineares e Polinomiais. Caso contrário, alguns atributos poderiam ter um impacto muito maior do que outros no cálculo das métricas, traduzindo em valores de performance não confiáveis.</br>No contexto do presente ensaio, voltado para a exploração de diferentes combinações de hiperparâmetros sobre as métricas de performance, é razoável que as etapas de pré-processamento e separação de dados tenham sido realizadas de antemão pelo instrutor, dado que se trata de uma disciplina introdutória."
   ]
  },
  {
   "cell_type": "code",
   "execution_count": 5,
   "id": "f1b8524f",
   "metadata": {
    "ExecuteTime": {
     "end_time": "2024-10-12T13:52:34.513175Z",
     "start_time": "2024-10-12T13:52:34.490374Z"
    }
   },
   "outputs": [
    {
     "name": "stdout",
     "output_type": "stream",
     "text": [
      "<class 'pandas.core.frame.DataFrame'>\n",
      "RangeIndex: 10547 entries, 0 to 10546\n",
      "Data columns (total 13 columns):\n",
      " #   Column            Non-Null Count  Dtype  \n",
      "---  ------            --------------  -----  \n",
      " 0   song_duration_ms  10547 non-null  float64\n",
      " 1   acousticness      10547 non-null  float64\n",
      " 2   danceability      10547 non-null  float64\n",
      " 3   energy            10547 non-null  float64\n",
      " 4   instrumentalness  10547 non-null  float64\n",
      " 5   key               10547 non-null  float64\n",
      " 6   liveness          10547 non-null  float64\n",
      " 7   loudness          10547 non-null  float64\n",
      " 8   audio_mode        10547 non-null  int64  \n",
      " 9   speechiness       10547 non-null  float64\n",
      " 10  tempo             10547 non-null  float64\n",
      " 11  time_signature    10547 non-null  float64\n",
      " 12  audio_valence     10547 non-null  float64\n",
      "dtypes: float64(12), int64(1)\n",
      "memory usage: 1.0 MB\n"
     ]
    }
   ],
   "source": [
    "X_train.info()"
   ]
  },
  {
   "cell_type": "code",
   "execution_count": 6,
   "id": "6a2470ee",
   "metadata": {
    "ExecuteTime": {
     "end_time": "2024-10-12T13:52:37.465824Z",
     "start_time": "2024-10-12T13:52:37.450381Z"
    }
   },
   "outputs": [
    {
     "name": "stdout",
     "output_type": "stream",
     "text": [
      "<class 'pandas.core.frame.DataFrame'>\n",
      "RangeIndex: 4521 entries, 0 to 4520\n",
      "Data columns (total 13 columns):\n",
      " #   Column            Non-Null Count  Dtype  \n",
      "---  ------            --------------  -----  \n",
      " 0   song_duration_ms  4521 non-null   float64\n",
      " 1   acousticness      4521 non-null   float64\n",
      " 2   danceability      4521 non-null   float64\n",
      " 3   energy            4521 non-null   float64\n",
      " 4   instrumentalness  4521 non-null   float64\n",
      " 5   key               4521 non-null   float64\n",
      " 6   liveness          4521 non-null   float64\n",
      " 7   loudness          4521 non-null   float64\n",
      " 8   audio_mode        4521 non-null   int64  \n",
      " 9   speechiness       4521 non-null   float64\n",
      " 10  tempo             4521 non-null   float64\n",
      " 11  time_signature    4521 non-null   float64\n",
      " 12  audio_valence     4521 non-null   float64\n",
      "dtypes: float64(12), int64(1)\n",
      "memory usage: 459.3 KB\n"
     ]
    }
   ],
   "source": [
    "X_val.info()"
   ]
  },
  {
   "cell_type": "code",
   "execution_count": 7,
   "id": "ba30027e",
   "metadata": {
    "ExecuteTime": {
     "end_time": "2024-10-12T13:52:40.450021Z",
     "start_time": "2024-10-12T13:52:40.433857Z"
    }
   },
   "outputs": [
    {
     "name": "stdout",
     "output_type": "stream",
     "text": [
      "<class 'pandas.core.frame.DataFrame'>\n",
      "RangeIndex: 3767 entries, 0 to 3766\n",
      "Data columns (total 13 columns):\n",
      " #   Column            Non-Null Count  Dtype  \n",
      "---  ------            --------------  -----  \n",
      " 0   song_duration_ms  3767 non-null   float64\n",
      " 1   acousticness      3767 non-null   float64\n",
      " 2   danceability      3767 non-null   float64\n",
      " 3   energy            3767 non-null   float64\n",
      " 4   instrumentalness  3767 non-null   float64\n",
      " 5   key               3767 non-null   float64\n",
      " 6   liveness          3767 non-null   float64\n",
      " 7   loudness          3767 non-null   float64\n",
      " 8   audio_mode        3767 non-null   int64  \n",
      " 9   speechiness       3767 non-null   float64\n",
      " 10  tempo             3767 non-null   float64\n",
      " 11  time_signature    3767 non-null   float64\n",
      " 12  audio_valence     3767 non-null   float64\n",
      "dtypes: float64(12), int64(1)\n",
      "memory usage: 382.7 KB\n"
     ]
    }
   ],
   "source": [
    "X_test.info()"
   ]
  },
  {
   "cell_type": "markdown",
   "id": "0c310842",
   "metadata": {},
   "source": [
    "## 2.2 - Variável resposta: informações gerais"
   ]
  },
  {
   "cell_type": "code",
   "execution_count": 8,
   "id": "39c5ee32",
   "metadata": {
    "ExecuteTime": {
     "end_time": "2024-10-12T13:56:24.691014Z",
     "start_time": "2024-10-12T13:56:24.666881Z"
    }
   },
   "outputs": [
    {
     "name": "stdout",
     "output_type": "stream",
     "text": [
      "<class 'pandas.core.frame.DataFrame'>\n",
      "RangeIndex: 10547 entries, 0 to 10546\n",
      "Data columns (total 1 columns):\n",
      " #   Column           Non-Null Count  Dtype  \n",
      "---  ------           --------------  -----  \n",
      " 0   song_popularity  10547 non-null  float64\n",
      "dtypes: float64(1)\n",
      "memory usage: 82.5 KB\n"
     ]
    }
   ],
   "source": [
    "y_train.info()"
   ]
  },
  {
   "cell_type": "code",
   "execution_count": 9,
   "id": "fe5035d7",
   "metadata": {
    "ExecuteTime": {
     "end_time": "2024-10-12T13:56:28.740581Z",
     "start_time": "2024-10-12T13:56:28.721929Z"
    }
   },
   "outputs": [
    {
     "name": "stdout",
     "output_type": "stream",
     "text": [
      "<class 'pandas.core.frame.DataFrame'>\n",
      "RangeIndex: 4521 entries, 0 to 4520\n",
      "Data columns (total 1 columns):\n",
      " #   Column           Non-Null Count  Dtype  \n",
      "---  ------           --------------  -----  \n",
      " 0   song_popularity  4521 non-null   float64\n",
      "dtypes: float64(1)\n",
      "memory usage: 35.4 KB\n"
     ]
    }
   ],
   "source": [
    "y_val.info()"
   ]
  },
  {
   "cell_type": "code",
   "execution_count": 10,
   "id": "8928dd2f",
   "metadata": {
    "ExecuteTime": {
     "end_time": "2024-10-12T13:56:31.501883Z",
     "start_time": "2024-10-12T13:56:31.489796Z"
    }
   },
   "outputs": [
    {
     "name": "stdout",
     "output_type": "stream",
     "text": [
      "<class 'pandas.core.frame.DataFrame'>\n",
      "RangeIndex: 3767 entries, 0 to 3766\n",
      "Data columns (total 1 columns):\n",
      " #   Column           Non-Null Count  Dtype  \n",
      "---  ------           --------------  -----  \n",
      " 0   song_popularity  3767 non-null   float64\n",
      "dtypes: float64(1)\n",
      "memory usage: 29.6 KB\n"
     ]
    }
   ],
   "source": [
    "y_test.info()"
   ]
  }
 ],
 "metadata": {
  "kernelspec": {
   "display_name": "Python 3 (ipykernel)",
   "language": "python",
   "name": "python3"
  },
  "language_info": {
   "codemirror_mode": {
    "name": "ipython",
    "version": 3
   },
   "file_extension": ".py",
   "mimetype": "text/x-python",
   "name": "python",
   "nbconvert_exporter": "python",
   "pygments_lexer": "ipython3",
   "version": "3.9.12"
  }
 },
 "nbformat": 4,
 "nbformat_minor": 5
}
