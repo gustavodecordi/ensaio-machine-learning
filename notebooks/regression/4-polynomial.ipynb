{
 "cells": [
  {
   "cell_type": "markdown",
   "id": "60e04fc9",
   "metadata": {},
   "source": [
    "# 0.0 - Polynomial Regression\n",
    "\n",
    "O parâmetro utilizado para treinar o algoritmo **Polynomial Regression** será o grau do polinômio (`degree` - valor padrão `2`).  As características do modelo, bem como os demais parâmetros e atributos podem ser consultados na documentação oficial em:</br></br>https://scikit-learn.org/stable/modules/generated/sklearn.preprocessing.PolynomialFeatures.html"
   ]
  },
  {
   "cell_type": "markdown",
   "id": "fcd1270d",
   "metadata": {},
   "source": [
    "# 1.0 - Importando bibliotecas"
   ]
  },
  {
   "cell_type": "code",
   "execution_count": 1,
   "id": "50510ab7",
   "metadata": {
    "ExecuteTime": {
     "end_time": "2024-09-17T02:12:20.916839Z",
     "start_time": "2024-09-17T02:12:16.993266Z"
    }
   },
   "outputs": [],
   "source": [
    "import pandas as pd\n",
    "import numpy as np\n",
    "from sklearn import linear_model as lm\n",
    "from sklearn import preprocessing as pp\n",
    "\n",
    "import matplotlib.pyplot as plt\n",
    "\n",
    "from sklearn.metrics import r2_score, mean_squared_error, root_mean_squared_error, mean_absolute_error, mean_absolute_percentage_error"
   ]
  },
  {
   "cell_type": "markdown",
   "id": "e37f8182",
   "metadata": {},
   "source": [
    "# 2.0 - Carregando os dados"
   ]
  },
  {
   "cell_type": "code",
   "execution_count": 2,
   "id": "243a15c7",
   "metadata": {
    "ExecuteTime": {
     "end_time": "2024-09-17T02:12:23.861393Z",
     "start_time": "2024-09-17T02:12:23.021950Z"
    }
   },
   "outputs": [],
   "source": [
    "# Treino\n",
    "X_train = pd.read_csv('train/X_training.csv')\n",
    "y_train = pd.read_csv('train/y_training.csv')\n",
    "\n",
    "# Validação\n",
    "X_val = pd.read_csv('validation/X_validation.csv')\n",
    "y_val = pd.read_csv('validation/y_val.csv')\n",
    "\n",
    "# Teste\n",
    "X_test = pd.read_csv('test/X_test.csv')\n",
    "y_test = pd.read_csv('test/y_test.csv')"
   ]
  },
  {
   "cell_type": "markdown",
   "id": "9351384b-3fa5-47c5-bbcb-baaa76edbe0b",
   "metadata": {},
   "source": [
    "# 3.0 - Funções"
   ]
  },
  {
   "cell_type": "code",
   "execution_count": 3,
   "id": "31e0f1de-08a7-42e1-9ab1-64173b2c0a0b",
   "metadata": {},
   "outputs": [],
   "source": [
    "def metrics(y, y_pred, step, algorithm):\n",
    "    \"\"\"\n",
    "    Calcula várias métricas de avaliação de um modelo de regressão e as retorna em um DataFrame.\n",
    "\n",
    "    Parâmetros:\n",
    "    -----------\n",
    "    y : array-like\n",
    "        Valores da variável resposta.\n",
    "    \n",
    "    y_pred : array-like\n",
    "        Valores preditos pelo modelo.\n",
    "    \n",
    "    step : str\n",
    "        Etapa do processo de modelagem (ex: 'treino', 'validação', 'teste').\n",
    "    \n",
    "    algorithm : str\n",
    "        Nome do algoritmo usado.\n",
    "\n",
    "    Retorno:\n",
    "    --------\n",
    "    df_metrics : pandas.DataFrame\n",
    "        DataFrame contendo as métricas calculadas:\n",
    "        - 'Algorithm': Nome do algoritmo.\n",
    "        - 'Step': Etapa do processo (treino, validação ou teste).\n",
    "        - 'R2': Coeficiente de determinação.\n",
    "        - 'MSE': Erro quadrático médio.\n",
    "        - 'RMSE': Raiz do erro quadrático médio.\n",
    "        - 'MAE': Erro absoluto médio.\n",
    "        - 'MAPE': Erro percentual absoluto médio.\n",
    "    \"\"\"\n",
    "    # Calcula as métricas\n",
    "    r2 = r2_score(y, y_pred)\n",
    "    mse = mean_squared_error(y, y_pred)\n",
    "    rmse = np.sqrt(mse)\n",
    "    mae = mean_absolute_error(y, y_pred)\n",
    "    mape = mean_absolute_percentage_error(y, y_pred)\n",
    "\n",
    "    # Cria o DataFrame com as métricas\n",
    "    df_metrics = pd.DataFrame({   \n",
    "        'Algorithm': [algorithm],\n",
    "        'Step': [step],\n",
    "        'R2': [np.round(r2, 4)],\n",
    "        'MSE': [np.round(mse, 4)],\n",
    "        'RMSE': [np.round(rmse, 4)],\n",
    "        'MAE': [np.round(mae, 4)],\n",
    "        'MAPE': [np.round(mape, 4)]\n",
    "    })\n",
    "    \n",
    "    return df_metrics\n",
    "\n",
    "def exporta_excel(nome_algoritmo):\n",
    "    \"\"\"\n",
    "    Exporta os DataFrames de métricas para arquivos Excel em diferentes pastas.\n",
    "\n",
    "    Args:\n",
    "        nome_algoritmo (str): Nome do algoritmo utilizado.\n",
    "\n",
    "    Returns:\n",
    "        None\n",
    "    \"\"\"\n",
    "    etapas = ['train', 'validation', 'test']\n",
    "    df_list = [df_metrics_train, df_metrics_val, df_metrics_test]\n",
    "\n",
    "    for etapa, df in zip(etapas, df_list):\n",
    "        df.to_excel(f'{etapa}/metrics/metrics_{etapa}_{nome_algoritmo}.xlsx', index=False)"
   ]
  },
  {
   "cell_type": "markdown",
   "id": "95115410",
   "metadata": {},
   "source": [
    "# 4.0 - Ajustando os dados"
   ]
  },
  {
   "cell_type": "code",
   "execution_count": 4,
   "id": "f39bd21c-64dd-4e0e-835c-5abcbcef5713",
   "metadata": {},
   "outputs": [],
   "source": [
    "# transformação do formato DataFrame para Series, essencialmente um array unidimensional\n",
    "y_train, y_val, y_test = [ df.loc[:, 'song_popularity'] for df in [y_train, y_val, y_test] ]"
   ]
  },
  {
   "cell_type": "markdown",
   "id": "c421d862-eea5-4d6d-a44a-a97374f4dc32",
   "metadata": {},
   "source": [
    "# 5.0 - Desempenho do modelo\n",
    "\n",
    "## 5.1 - Dados de treino"
   ]
  },
  {
   "cell_type": "code",
   "execution_count": 6,
   "id": "35dc89d7",
   "metadata": {
    "ExecuteTime": {
     "end_time": "2024-09-17T02:12:25.012930Z",
     "start_time": "2024-09-17T02:12:24.869481Z"
    }
   },
   "outputs": [
    {
     "data": {
      "text/html": [
       "<div>\n",
       "<style scoped>\n",
       "    .dataframe tbody tr th:only-of-type {\n",
       "        vertical-align: middle;\n",
       "    }\n",
       "\n",
       "    .dataframe tbody tr th {\n",
       "        vertical-align: top;\n",
       "    }\n",
       "\n",
       "    .dataframe thead th {\n",
       "        text-align: right;\n",
       "    }\n",
       "</style>\n",
       "<table border=\"1\" class=\"dataframe\">\n",
       "  <thead>\n",
       "    <tr style=\"text-align: right;\">\n",
       "      <th></th>\n",
       "      <th>Algorithm</th>\n",
       "      <th>Step</th>\n",
       "      <th>R2</th>\n",
       "      <th>MSE</th>\n",
       "      <th>RMSE</th>\n",
       "      <th>MAE</th>\n",
       "      <th>MAPE</th>\n",
       "    </tr>\n",
       "  </thead>\n",
       "  <tbody>\n",
       "    <tr>\n",
       "      <th>0</th>\n",
       "      <td>Polynomial Regression</td>\n",
       "      <td>Train</td>\n",
       "      <td>0.0942</td>\n",
       "      <td>432.9862</td>\n",
       "      <td>20.8083</td>\n",
       "      <td>16.458</td>\n",
       "      <td>8.3505</td>\n",
       "    </tr>\n",
       "  </tbody>\n",
       "</table>\n",
       "</div>"
      ],
      "text/plain": [
       "               Algorithm   Step      R2       MSE     RMSE     MAE    MAPE\n",
       "0  Polynomial Regression  Train  0.0942  432.9862  20.8083  16.458  8.3505"
      ]
     },
     "execution_count": 6,
     "metadata": {},
     "output_type": "execute_result"
    }
   ],
   "source": [
    "# Definição do modelo polinomial\n",
    "poly = pp.PolynomialFeatures()\n",
    "X_poly_train = poly.fit_transform( X_train )\n",
    "\n",
    "# Definição do modelo e treinamento\n",
    "model_train = lm.LinearRegression()\n",
    "model_train.fit( X_poly_train, y_train )\n",
    "\n",
    "# Predição sobre os dados de treino\n",
    "y_pred_train = model_train.predict( X_poly_train )\n",
    "\n",
    "# Métricas\n",
    "df_metrics_train = metrics(y_train, y_pred_train, 'Train', 'Polynomial Regression')\n",
    "df_metrics_train"
   ]
  },
  {
   "cell_type": "markdown",
   "id": "fc7cdfe9",
   "metadata": {},
   "source": [
    "## 5.2 - Dados de validação"
   ]
  },
  {
   "cell_type": "code",
   "execution_count": 7,
   "id": "0a91d1f3",
   "metadata": {
    "ExecuteTime": {
     "end_time": "2024-09-17T02:12:27.998544Z",
     "start_time": "2024-09-17T02:12:27.918307Z"
    }
   },
   "outputs": [
    {
     "data": {
      "text/html": [
       "<div>\n",
       "<style scoped>\n",
       "    .dataframe tbody tr th:only-of-type {\n",
       "        vertical-align: middle;\n",
       "    }\n",
       "\n",
       "    .dataframe tbody tr th {\n",
       "        vertical-align: top;\n",
       "    }\n",
       "\n",
       "    .dataframe thead th {\n",
       "        text-align: right;\n",
       "    }\n",
       "</style>\n",
       "<table border=\"1\" class=\"dataframe\">\n",
       "  <thead>\n",
       "    <tr style=\"text-align: right;\">\n",
       "      <th></th>\n",
       "      <th>Algorithm</th>\n",
       "      <th>Step</th>\n",
       "      <th>R2</th>\n",
       "      <th>MSE</th>\n",
       "      <th>RMSE</th>\n",
       "      <th>MAE</th>\n",
       "      <th>MAPE</th>\n",
       "    </tr>\n",
       "  </thead>\n",
       "  <tbody>\n",
       "    <tr>\n",
       "      <th>0</th>\n",
       "      <td>Polynomial Regression</td>\n",
       "      <td>Validation</td>\n",
       "      <td>0.0665</td>\n",
       "      <td>445.7682</td>\n",
       "      <td>21.1132</td>\n",
       "      <td>16.7499</td>\n",
       "      <td>8.5479</td>\n",
       "    </tr>\n",
       "  </tbody>\n",
       "</table>\n",
       "</div>"
      ],
      "text/plain": [
       "               Algorithm        Step      R2       MSE     RMSE      MAE   \n",
       "0  Polynomial Regression  Validation  0.0665  445.7682  21.1132  16.7499  \\\n",
       "\n",
       "     MAPE  \n",
       "0  8.5479  "
      ]
     },
     "execution_count": 7,
     "metadata": {},
     "output_type": "execute_result"
    }
   ],
   "source": [
    "# Definição do modelo polinomial\n",
    "poly = pp.PolynomialFeatures()\n",
    "X_poly_train = poly.fit_transform( X_train )\n",
    "X_poly_val = poly.fit_transform( X_val )\n",
    "\n",
    "# Definição do modelo e treinamento\n",
    "model_val = lm.LinearRegression()\n",
    "model_val.fit( X_poly_train, y_train )\n",
    "\n",
    "# Predição sobre os dados de validação\n",
    "y_pred_val = model_val.predict( X_poly_val )\n",
    "\n",
    "# Métricas\n",
    "df_metrics_val = metrics(y_val, y_pred_val, 'Validation', 'Polynomial Regression')\n",
    "df_metrics_val"
   ]
  },
  {
   "cell_type": "markdown",
   "id": "ff71abde",
   "metadata": {},
   "source": [
    "## 5.3 - Ajuste fino dos hiperparâmetros (Etapa de *Fine Tuning*)"
   ]
  },
  {
   "cell_type": "code",
   "execution_count": 9,
   "id": "a754d1d5",
   "metadata": {
    "ExecuteTime": {
     "end_time": "2024-09-17T02:13:00.507499Z",
     "start_time": "2024-09-17T02:12:51.950795Z"
    }
   },
   "outputs": [],
   "source": [
    "# Definir intervalo de parâmetros\n",
    "degree_array = np.arange(2, 5)\n",
    "\n",
    "# Criar DataFrame para armazenar resultados\n",
    "metrics_df = pd.DataFrame(columns=['degree', 'R2', 'MSE', 'RMSE', 'MAE', 'MAPE'])\n",
    "\n",
    "for degree_value in degree_array:\n",
    "    # Regressão polinomial\n",
    "    poly = pp.PolynomialFeatures( degree=degree_value )\n",
    "    X_poly_train = poly.fit_transform( X_train )\n",
    "    X_poly_val = poly.fit_transform( X_val )\n",
    "    \n",
    "    # Treinamento do algoritmo.\n",
    "    model_val = lm.LinearRegression()\n",
    "    model_val.fit( X_poly_train, y_train )\n",
    "    \n",
    "    # Predição sobre os dados de validação\n",
    "    y_pred_val = model_val.predict( X_poly_val )\n",
    "    \n",
    "    # Calcular métricas de performance\n",
    "    r2_tuning  = r2_score( y_val, y_pred_val )\n",
    "    mse_tuning  = mean_squared_error( y_val, y_pred_val )\n",
    "    rmse_tuning = root_mean_squared_error( y_val, y_pred_val )\n",
    "    mae_tuning  = mean_absolute_error( y_val, y_pred_val )\n",
    "    mape_tuning = mean_absolute_percentage_error( y_val, y_pred_val )\n",
    "    \n",
    "    # Armazenar os resultados em uma nova linha como DataFrame\n",
    "    new_row = pd.DataFrame({\n",
    "        'degree': [degree_value],\n",
    "        'R2': [r2_tuning],\n",
    "        'MSE': [mse_tuning],\n",
    "        'RMSE': [rmse_tuning],\n",
    "        'MAE': [mae_tuning],\n",
    "        'MAPE': [mape_tuning]\n",
    "    })\n",
    "    \n",
    "    # Concatenar a nova linha ao DataFrame existente\n",
    "    metrics_df = pd.concat([metrics_df, new_row], ignore_index=True)"
   ]
  },
  {
   "cell_type": "code",
   "execution_count": 10,
   "id": "10f53c0f",
   "metadata": {
    "ExecuteTime": {
     "end_time": "2024-09-17T02:13:03.707801Z",
     "start_time": "2024-09-17T02:13:03.694835Z"
    }
   },
   "outputs": [
    {
     "data": {
      "text/html": [
       "<div>\n",
       "<style scoped>\n",
       "    .dataframe tbody tr th:only-of-type {\n",
       "        vertical-align: middle;\n",
       "    }\n",
       "\n",
       "    .dataframe tbody tr th {\n",
       "        vertical-align: top;\n",
       "    }\n",
       "\n",
       "    .dataframe thead th {\n",
       "        text-align: right;\n",
       "    }\n",
       "</style>\n",
       "<table border=\"1\" class=\"dataframe\">\n",
       "  <thead>\n",
       "    <tr style=\"text-align: right;\">\n",
       "      <th></th>\n",
       "      <th>degree</th>\n",
       "      <th>R2</th>\n",
       "      <th>MSE</th>\n",
       "      <th>RMSE</th>\n",
       "      <th>MAE</th>\n",
       "      <th>MAPE</th>\n",
       "    </tr>\n",
       "  </thead>\n",
       "  <tbody>\n",
       "    <tr>\n",
       "      <th>0</th>\n",
       "      <td>2</td>\n",
       "      <td>0.066477</td>\n",
       "      <td>445.768223</td>\n",
       "      <td>21.113224</td>\n",
       "      <td>16.749939</td>\n",
       "      <td>8.547931</td>\n",
       "    </tr>\n",
       "    <tr>\n",
       "      <th>1</th>\n",
       "      <td>3</td>\n",
       "      <td>-0.047778</td>\n",
       "      <td>500.326254</td>\n",
       "      <td>22.367974</td>\n",
       "      <td>17.087201</td>\n",
       "      <td>8.678283</td>\n",
       "    </tr>\n",
       "    <tr>\n",
       "      <th>2</th>\n",
       "      <td>4</td>\n",
       "      <td>-102.923632</td>\n",
       "      <td>49624.740849</td>\n",
       "      <td>222.766112</td>\n",
       "      <td>36.104220</td>\n",
       "      <td>10.184801</td>\n",
       "    </tr>\n",
       "  </tbody>\n",
       "</table>\n",
       "</div>"
      ],
      "text/plain": [
       "  degree          R2           MSE        RMSE        MAE       MAPE\n",
       "0      2    0.066477    445.768223   21.113224  16.749939   8.547931\n",
       "1      3   -0.047778    500.326254   22.367974  17.087201   8.678283\n",
       "2      4 -102.923632  49624.740849  222.766112  36.104220  10.184801"
      ]
     },
     "execution_count": 10,
     "metadata": {},
     "output_type": "execute_result"
    }
   ],
   "source": [
    "# Valores das métricas de performance para diferentes graus dos polinômios\n",
    "metrics_df"
   ]
  },
  {
   "cell_type": "markdown",
   "id": "4e3f640a-039c-4150-8b6c-146cdce57afb",
   "metadata": {},
   "source": [
    "Em particular, estamos interessados em buscar o conjunto de hiper-parâmetros que minimize a **Raiz do Erro Quadrático Médio (RMSE)**. "
   ]
  },
  {
   "cell_type": "code",
   "execution_count": 11,
   "id": "6f9787a2",
   "metadata": {
    "ExecuteTime": {
     "end_time": "2024-09-17T02:14:11.626314Z",
     "start_time": "2024-09-17T02:14:11.612458Z"
    }
   },
   "outputs": [],
   "source": [
    "# O grau de polinômio que resultou no menor RMSE é 2\n",
    "best_degree = 2"
   ]
  },
  {
   "cell_type": "markdown",
   "id": "f3706f4b",
   "metadata": {},
   "source": [
    "## 5.4 - Desempenho do modelo para os dados de teste"
   ]
  },
  {
   "cell_type": "code",
   "execution_count": 12,
   "id": "a38be4aa",
   "metadata": {
    "ExecuteTime": {
     "end_time": "2024-09-17T02:20:33.269637Z",
     "start_time": "2024-09-17T02:20:33.161177Z"
    }
   },
   "outputs": [
    {
     "data": {
      "text/html": [
       "<div>\n",
       "<style scoped>\n",
       "    .dataframe tbody tr th:only-of-type {\n",
       "        vertical-align: middle;\n",
       "    }\n",
       "\n",
       "    .dataframe tbody tr th {\n",
       "        vertical-align: top;\n",
       "    }\n",
       "\n",
       "    .dataframe thead th {\n",
       "        text-align: right;\n",
       "    }\n",
       "</style>\n",
       "<table border=\"1\" class=\"dataframe\">\n",
       "  <thead>\n",
       "    <tr style=\"text-align: right;\">\n",
       "      <th></th>\n",
       "      <th>Algorithm</th>\n",
       "      <th>Step</th>\n",
       "      <th>R2</th>\n",
       "      <th>MSE</th>\n",
       "      <th>RMSE</th>\n",
       "      <th>MAE</th>\n",
       "      <th>MAPE</th>\n",
       "    </tr>\n",
       "  </thead>\n",
       "  <tbody>\n",
       "    <tr>\n",
       "      <th>0</th>\n",
       "      <td>Polynomial Regression</td>\n",
       "      <td>Test</td>\n",
       "      <td>0.0909</td>\n",
       "      <td>442.6414</td>\n",
       "      <td>21.039</td>\n",
       "      <td>16.7364</td>\n",
       "      <td>8.277</td>\n",
       "    </tr>\n",
       "  </tbody>\n",
       "</table>\n",
       "</div>"
      ],
      "text/plain": [
       "               Algorithm  Step      R2       MSE    RMSE      MAE   MAPE\n",
       "0  Polynomial Regression  Test  0.0909  442.6414  21.039  16.7364  8.277"
      ]
     },
     "execution_count": 12,
     "metadata": {},
     "output_type": "execute_result"
    }
   ],
   "source": [
    "# Regressão polinomial\n",
    "poly = pp.PolynomialFeatures( degree=best_degree )\n",
    "X_poly_train = poly.fit_transform( X_train )\n",
    "X_poly_val = poly.fit_transform( X_val )\n",
    "X_poly_test = poly.fit_transform( X_test )\n",
    "\n",
    "# Treinamento do algoritmo.\n",
    "model_test = lm.LinearRegression()\n",
    "model_test.fit( np.concatenate( ( X_poly_train, X_poly_val) ),\n",
    "                np.concatenate( (y_train, y_val) ) )\n",
    "\n",
    "# Predição sobre os dados de teste\n",
    "y_pred_test = model_test.predict( X_poly_test )\n",
    "\n",
    "# Métricas\n",
    "df_metrics_test = metrics(y_test, y_pred_test, 'Test', 'Polynomial Regression')\n",
    "df_metrics_test"
   ]
  },
  {
   "cell_type": "markdown",
   "id": "176e8a35-30f4-49f0-90ae-ea79e0c0e4e8",
   "metadata": {},
   "source": [
    "# 6.0 - Gera as planilhas com os resultados"
   ]
  },
  {
   "cell_type": "code",
   "execution_count": 13,
   "id": "04865b81",
   "metadata": {
    "ExecuteTime": {
     "end_time": "2024-09-17T02:22:57.096256Z",
     "start_time": "2024-09-17T02:22:56.181277Z"
    }
   },
   "outputs": [],
   "source": [
    "exporta_excel('polynomial_regression')"
   ]
  }
 ],
 "metadata": {
  "kernelspec": {
   "display_name": "Python 3 (ipykernel)",
   "language": "python",
   "name": "python3"
  },
  "language_info": {
   "codemirror_mode": {
    "name": "ipython",
    "version": 3
   },
   "file_extension": ".py",
   "mimetype": "text/x-python",
   "name": "python",
   "nbconvert_exporter": "python",
   "pygments_lexer": "ipython3",
   "version": "3.9.12"
  }
 },
 "nbformat": 4,
 "nbformat_minor": 5
}
