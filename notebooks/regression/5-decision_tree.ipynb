{
 "cells": [
  {
   "cell_type": "markdown",
   "id": "f1f050f7",
   "metadata": {},
   "source": [
    "# 0.0 - Decision Tree Regressor\n",
    "\n",
    "O parâmetro utilizado para treinar o algoritmo **Decision Tree Regressor** será a profundidade máxima da árvore, `max_depth`.  \n",
    "O valor padrão (*default*) é de **max_depth=None**. Para mais detalhes dos parâmetros do algoritmo, recomendamos a documentação oficial em:\n",
    "\n",
    "https://scikit-learn.org/stable/modules/generated/sklearn.tree.DecisionTreeRegressor.html,\n",
    "\n",
    "*Por padrão, a árvore se expande até que todas as folhas sejam puras ou até que contenham um número de amostras menor que o valor default do parâmetro `min_samples_split`, 2 amostras*."
   ]
  },
  {
   "cell_type": "markdown",
   "id": "add1dfaa",
   "metadata": {},
   "source": [
    "# 1.0 - Importando bibliotecas"
   ]
  },
  {
   "cell_type": "code",
   "execution_count": 1,
   "id": "7090801a",
   "metadata": {
    "ExecuteTime": {
     "end_time": "2024-10-24T15:57:08.288564Z",
     "start_time": "2024-10-24T15:57:06.265244Z"
    }
   },
   "outputs": [],
   "source": [
    "import pandas as pd\n",
    "import numpy as np\n",
    "from sklearn.tree import DecisionTreeRegressor\n",
    "import matplotlib.pyplot as plt\n",
    "\n",
    "from sklearn.metrics import r2_score, mean_squared_error, root_mean_squared_error, mean_absolute_error, mean_absolute_percentage_error"
   ]
  },
  {
   "cell_type": "markdown",
   "id": "50f11a38",
   "metadata": {},
   "source": [
    "# 2.0 - Carregando os dados"
   ]
  },
  {
   "cell_type": "code",
   "execution_count": 2,
   "id": "852c3c8d",
   "metadata": {
    "ExecuteTime": {
     "end_time": "2024-10-24T15:57:17.969527Z",
     "start_time": "2024-10-24T15:57:17.897229Z"
    }
   },
   "outputs": [],
   "source": [
    "# Treino\n",
    "X_train = pd.read_csv('data/train/X_training.csv')\n",
    "y_train = pd.read_csv('data/train/y_training.csv')\n",
    "\n",
    "# Validação\n",
    "X_val = pd.read_csv('data/validation/X_validation.csv')\n",
    "y_val = pd.read_csv('data/validation/y_val.csv')\n",
    "\n",
    "# Teste\n",
    "X_test = pd.read_csv('data/test/X_test.csv')\n",
    "y_test = pd.read_csv('data/test/y_test.csv')"
   ]
  },
  {
   "cell_type": "markdown",
   "id": "df694703",
   "metadata": {},
   "source": [
    "# 3.0 - Funções"
   ]
  },
  {
   "cell_type": "code",
   "execution_count": 3,
   "id": "b817f62a",
   "metadata": {
    "ExecuteTime": {
     "end_time": "2024-10-24T15:57:35.790373Z",
     "start_time": "2024-10-24T15:57:35.769432Z"
    }
   },
   "outputs": [],
   "source": [
    "def metrics(y, y_pred, step, algorithm):\n",
    "    \"\"\"\n",
    "    Calcula várias métricas de avaliação de um modelo de regressão e as retorna em um DataFrame.\n",
    "\n",
    "    Parâmetros:\n",
    "    -----------\n",
    "    y : array-like\n",
    "        Valores da variável resposta.\n",
    "    \n",
    "    y_pred : array-like\n",
    "        Valores preditos pelo modelo.\n",
    "    \n",
    "    step : str\n",
    "        Etapa do processo de modelagem (ex: 'treino', 'validação', 'teste').\n",
    "    \n",
    "    algorithm : str\n",
    "        Nome do algoritmo usado.\n",
    "\n",
    "    Retorno:\n",
    "    --------\n",
    "    df_metrics : pandas.DataFrame\n",
    "        DataFrame contendo as métricas calculadas:\n",
    "        - 'Algorithm': Nome do algoritmo.\n",
    "        - 'Step': Etapa do processo (treino, validação ou teste).\n",
    "        - 'R2': Coeficiente de determinação.\n",
    "        - 'MSE': Erro quadrático médio.\n",
    "        - 'RMSE': Raiz do erro quadrático médio.\n",
    "        - 'MAE': Erro absoluto médio.\n",
    "        - 'MAPE': Erro percentual absoluto médio.\n",
    "    \"\"\"\n",
    "    # Calcula as métricas\n",
    "    r2 = r2_score(y, y_pred)\n",
    "    mse = mean_squared_error(y, y_pred)\n",
    "    rmse = np.sqrt(mse)\n",
    "    mae = mean_absolute_error(y, y_pred)\n",
    "    mape = mean_absolute_percentage_error(y, y_pred)\n",
    "\n",
    "    # Cria o DataFrame com as métricas\n",
    "    df_metrics = pd.DataFrame({   \n",
    "        'Algorithm': [algorithm],\n",
    "        'Step': [step],\n",
    "        'R2': [np.round(r2, 4)],\n",
    "        'MSE': [np.round(mse, 4)],\n",
    "        'RMSE': [np.round(rmse, 4)],\n",
    "        'MAE': [np.round(mae, 4)],\n",
    "        'MAPE': [np.round(mape, 4)]\n",
    "    })\n",
    "    \n",
    "    return df_metrics\n",
    "\n",
    "def exporta_excel(nome_algoritmo):\n",
    "    \"\"\"\n",
    "    Exporta os DataFrames de métricas para arquivos Excel em diferentes pastas.\n",
    "\n",
    "    Args:\n",
    "        nome_algoritmo (str): Nome do algoritmo utilizado.\n",
    "\n",
    "    Returns:\n",
    "        None\n",
    "    \"\"\"\n",
    "    etapas = ['train', 'validation', 'test']\n",
    "    df_list = [df_metrics_train, df_metrics_val, df_metrics_test]\n",
    "\n",
    "    for etapa, df in zip(etapas, df_list):\n",
    "        df.to_excel(f'metrics/{etapa}/{nome_algoritmo}_{etapa}.xlsx', index=False)"
   ]
  },
  {
   "cell_type": "markdown",
   "id": "60f9e3e8",
   "metadata": {},
   "source": [
    "# 4.0 - Ajustando os dados"
   ]
  },
  {
   "cell_type": "code",
   "execution_count": 4,
   "id": "201fded4",
   "metadata": {
    "ExecuteTime": {
     "end_time": "2024-10-24T15:57:41.484325Z",
     "start_time": "2024-10-24T15:57:41.464135Z"
    }
   },
   "outputs": [],
   "source": [
    "# transformação do formato DataFrame para Series, essencialmente um array unidimensional\n",
    "y_train, y_val, y_test = [ df.loc[:, 'song_popularity'] for df in [y_train, y_val, y_test] ]"
   ]
  },
  {
   "cell_type": "markdown",
   "id": "a57cd73b",
   "metadata": {},
   "source": [
    "# 5.0 - Desempenho do modelo\n",
    "\n",
    "## 5.1 - Dados de treino"
   ]
  },
  {
   "cell_type": "code",
   "execution_count": 5,
   "id": "1da485ae",
   "metadata": {
    "ExecuteTime": {
     "end_time": "2024-10-24T15:57:55.402325Z",
     "start_time": "2024-10-24T15:57:55.129326Z"
    }
   },
   "outputs": [
    {
     "data": {
      "text/html": [
       "<div>\n",
       "<style scoped>\n",
       "    .dataframe tbody tr th:only-of-type {\n",
       "        vertical-align: middle;\n",
       "    }\n",
       "\n",
       "    .dataframe tbody tr th {\n",
       "        vertical-align: top;\n",
       "    }\n",
       "\n",
       "    .dataframe thead th {\n",
       "        text-align: right;\n",
       "    }\n",
       "</style>\n",
       "<table border=\"1\" class=\"dataframe\">\n",
       "  <thead>\n",
       "    <tr style=\"text-align: right;\">\n",
       "      <th></th>\n",
       "      <th>Algorithm</th>\n",
       "      <th>Step</th>\n",
       "      <th>R2</th>\n",
       "      <th>MSE</th>\n",
       "      <th>RMSE</th>\n",
       "      <th>MAE</th>\n",
       "      <th>MAPE</th>\n",
       "    </tr>\n",
       "  </thead>\n",
       "  <tbody>\n",
       "    <tr>\n",
       "      <th>0</th>\n",
       "      <td>Decision Tree Regressor</td>\n",
       "      <td>Train</td>\n",
       "      <td>0.9918</td>\n",
       "      <td>3.9404</td>\n",
       "      <td>1.985</td>\n",
       "      <td>0.2141</td>\n",
       "      <td>0.0826</td>\n",
       "    </tr>\n",
       "  </tbody>\n",
       "</table>\n",
       "</div>"
      ],
      "text/plain": [
       "                 Algorithm   Step      R2     MSE   RMSE     MAE    MAPE\n",
       "0  Decision Tree Regressor  Train  0.9918  3.9404  1.985  0.2141  0.0826"
      ]
     },
     "execution_count": 5,
     "metadata": {},
     "output_type": "execute_result"
    }
   ],
   "source": [
    "# Definição do modelo\n",
    "# Vamos inciar com 'max_depth' = None (valor padrão)\n",
    "decision_tree_train = DecisionTreeRegressor( random_state = 0 )\n",
    "\n",
    "# Treinamento do algoritmo. \n",
    "decision_tree_train.fit(X_train, y_train)\n",
    "\n",
    "# Predição sobre os dados de treino\n",
    "y_pred_train = decision_tree_train.predict(X_train)\n",
    "\n",
    "# Métricas\n",
    "df_metrics_train = metrics(y_train, y_pred_train, 'Train', 'Decision Tree Regressor')\n",
    "df_metrics_train"
   ]
  },
  {
   "cell_type": "markdown",
   "id": "3ede0aad",
   "metadata": {},
   "source": [
    "## 5.2 - Dados de validação"
   ]
  },
  {
   "cell_type": "code",
   "execution_count": 6,
   "id": "d6869a1b",
   "metadata": {
    "ExecuteTime": {
     "end_time": "2024-10-24T15:58:11.078681Z",
     "start_time": "2024-10-24T15:58:10.824894Z"
    }
   },
   "outputs": [
    {
     "data": {
      "text/html": [
       "<div>\n",
       "<style scoped>\n",
       "    .dataframe tbody tr th:only-of-type {\n",
       "        vertical-align: middle;\n",
       "    }\n",
       "\n",
       "    .dataframe tbody tr th {\n",
       "        vertical-align: top;\n",
       "    }\n",
       "\n",
       "    .dataframe thead th {\n",
       "        text-align: right;\n",
       "    }\n",
       "</style>\n",
       "<table border=\"1\" class=\"dataframe\">\n",
       "  <thead>\n",
       "    <tr style=\"text-align: right;\">\n",
       "      <th></th>\n",
       "      <th>Algorithm</th>\n",
       "      <th>Step</th>\n",
       "      <th>R2</th>\n",
       "      <th>MSE</th>\n",
       "      <th>RMSE</th>\n",
       "      <th>MAE</th>\n",
       "      <th>MAPE</th>\n",
       "    </tr>\n",
       "  </thead>\n",
       "  <tbody>\n",
       "    <tr>\n",
       "      <th>0</th>\n",
       "      <td>Decision Tree Regressor</td>\n",
       "      <td>Validation</td>\n",
       "      <td>-0.2971</td>\n",
       "      <td>619.3815</td>\n",
       "      <td>24.8874</td>\n",
       "      <td>17.0926</td>\n",
       "      <td>7.1058</td>\n",
       "    </tr>\n",
       "  </tbody>\n",
       "</table>\n",
       "</div>"
      ],
      "text/plain": [
       "                 Algorithm        Step      R2       MSE     RMSE      MAE   \n",
       "0  Decision Tree Regressor  Validation -0.2971  619.3815  24.8874  17.0926  \\\n",
       "\n",
       "     MAPE  \n",
       "0  7.1058  "
      ]
     },
     "execution_count": 6,
     "metadata": {},
     "output_type": "execute_result"
    }
   ],
   "source": [
    "# Definição do modelo\n",
    "# Vamos inciar com 'max_depth' = None (valor padrão)\n",
    "decision_tree_val = DecisionTreeRegressor( random_state = 0 )\n",
    "\n",
    "# Treinamento do algoritmo. \n",
    "decision_tree_val.fit(X_train, y_train)\n",
    "\n",
    "# Predição sobre os dados de validação\n",
    "y_pred_val = decision_tree_val.predict(X_val)\n",
    "\n",
    "# Métricas\n",
    "df_metrics_val = metrics(y_val, y_pred_val, 'Validation', 'Decision Tree Regressor')\n",
    "df_metrics_val"
   ]
  },
  {
   "cell_type": "markdown",
   "id": "a008df64",
   "metadata": {},
   "source": [
    "## 5.3 - Ajuste fino dos hiperparâmetros (Etapa de *Fine Tuning*)"
   ]
  },
  {
   "cell_type": "code",
   "execution_count": 7,
   "id": "4b99411b",
   "metadata": {
    "ExecuteTime": {
     "end_time": "2024-10-24T15:59:38.451198Z",
     "start_time": "2024-10-24T15:59:33.719575Z"
    }
   },
   "outputs": [],
   "source": [
    "# array para os valores de 'max_depth' (máxima profundidade da arvore) a serem testados\n",
    "max_depth_array = np.arange(2, 31, 1)   \n",
    "\n",
    "# Criar DataFrame para armazenar resultados\n",
    "metrics_df = pd.DataFrame(columns=['max_depth', 'R2', 'MSE', 'RMSE', 'MAE', 'MAPE'])\n",
    "\n",
    "for m in max_depth_array:\n",
    "    # Definir e treinar o modelo\n",
    "    model = DecisionTreeRegressor( max_depth = m, random_state = 0 )\n",
    "    model.fit(X_train, y_train)\n",
    "    \n",
    "    # Predição sobre os dados de validação\n",
    "    y_pred = model.predict(X_val)\n",
    "    \n",
    "    # Calcular métricas de performance\n",
    "    r2_tuning  = r2_score( y_val, y_pred )\n",
    "    mse_tuning  = mean_squared_error( y_val, y_pred )\n",
    "    rmse_tuning = root_mean_squared_error( y_val, y_pred )\n",
    "    mae_tuning  = mean_absolute_error( y_val, y_pred )\n",
    "    mape_tuning = mean_absolute_percentage_error( y_val, y_pred )\n",
    "    \n",
    "    # Armazenar os resultados em uma nova linha como DataFrame\n",
    "    new_row = pd.DataFrame({\n",
    "        'max_depth': [m],\n",
    "        'R2': [r2_tuning],\n",
    "        'MSE': [mse_tuning],\n",
    "        'RMSE': [rmse_tuning],\n",
    "        'MAE': [mae_tuning],\n",
    "        'MAPE': [mape_tuning]\n",
    "    })\n",
    "\n",
    "    # Concatenar a nova linha ao DataFrame existente\n",
    "    metrics_df = pd.concat([metrics_df, new_row], ignore_index=True)"
   ]
  },
  {
   "cell_type": "code",
   "execution_count": 8,
   "id": "d17d06dd",
   "metadata": {
    "ExecuteTime": {
     "end_time": "2024-10-24T15:59:41.902349Z",
     "start_time": "2024-10-24T15:59:41.880227Z"
    }
   },
   "outputs": [
    {
     "data": {
      "text/html": [
       "<div>\n",
       "<style scoped>\n",
       "    .dataframe tbody tr th:only-of-type {\n",
       "        vertical-align: middle;\n",
       "    }\n",
       "\n",
       "    .dataframe tbody tr th {\n",
       "        vertical-align: top;\n",
       "    }\n",
       "\n",
       "    .dataframe thead th {\n",
       "        text-align: right;\n",
       "    }\n",
       "</style>\n",
       "<table border=\"1\" class=\"dataframe\">\n",
       "  <thead>\n",
       "    <tr style=\"text-align: right;\">\n",
       "      <th></th>\n",
       "      <th>max_depth</th>\n",
       "      <th>R2</th>\n",
       "      <th>MSE</th>\n",
       "      <th>RMSE</th>\n",
       "      <th>MAE</th>\n",
       "      <th>MAPE</th>\n",
       "    </tr>\n",
       "  </thead>\n",
       "  <tbody>\n",
       "    <tr>\n",
       "      <th>0</th>\n",
       "      <td>2</td>\n",
       "      <td>0.037609</td>\n",
       "      <td>459.552983</td>\n",
       "      <td>21.437187</td>\n",
       "      <td>16.985102</td>\n",
       "      <td>8.480125</td>\n",
       "    </tr>\n",
       "    <tr>\n",
       "      <th>1</th>\n",
       "      <td>3</td>\n",
       "      <td>0.054812</td>\n",
       "      <td>451.338427</td>\n",
       "      <td>21.244727</td>\n",
       "      <td>16.896550</td>\n",
       "      <td>8.469922</td>\n",
       "    </tr>\n",
       "    <tr>\n",
       "      <th>2</th>\n",
       "      <td>4</td>\n",
       "      <td>0.062168</td>\n",
       "      <td>447.825853</td>\n",
       "      <td>21.161896</td>\n",
       "      <td>16.849288</td>\n",
       "      <td>8.536141</td>\n",
       "    </tr>\n",
       "    <tr>\n",
       "      <th>3</th>\n",
       "      <td>5</td>\n",
       "      <td>0.063559</td>\n",
       "      <td>447.161319</td>\n",
       "      <td>21.146189</td>\n",
       "      <td>16.843452</td>\n",
       "      <td>8.395778</td>\n",
       "    </tr>\n",
       "    <tr>\n",
       "      <th>4</th>\n",
       "      <td>6</td>\n",
       "      <td>0.063296</td>\n",
       "      <td>447.286802</td>\n",
       "      <td>21.149156</td>\n",
       "      <td>16.748081</td>\n",
       "      <td>8.324423</td>\n",
       "    </tr>\n",
       "    <tr>\n",
       "      <th>5</th>\n",
       "      <td>7</td>\n",
       "      <td>0.055961</td>\n",
       "      <td>450.789444</td>\n",
       "      <td>21.231803</td>\n",
       "      <td>16.739333</td>\n",
       "      <td>7.997561</td>\n",
       "    </tr>\n",
       "    <tr>\n",
       "      <th>6</th>\n",
       "      <td>8</td>\n",
       "      <td>0.034896</td>\n",
       "      <td>460.848567</td>\n",
       "      <td>21.467384</td>\n",
       "      <td>16.890528</td>\n",
       "      <td>7.950885</td>\n",
       "    </tr>\n",
       "    <tr>\n",
       "      <th>7</th>\n",
       "      <td>9</td>\n",
       "      <td>0.023496</td>\n",
       "      <td>466.291932</td>\n",
       "      <td>21.593794</td>\n",
       "      <td>16.863630</td>\n",
       "      <td>7.860503</td>\n",
       "    </tr>\n",
       "    <tr>\n",
       "      <th>8</th>\n",
       "      <td>10</td>\n",
       "      <td>-0.005483</td>\n",
       "      <td>480.129882</td>\n",
       "      <td>21.911866</td>\n",
       "      <td>16.879492</td>\n",
       "      <td>7.894165</td>\n",
       "    </tr>\n",
       "    <tr>\n",
       "      <th>9</th>\n",
       "      <td>11</td>\n",
       "      <td>-0.031821</td>\n",
       "      <td>492.706679</td>\n",
       "      <td>22.196997</td>\n",
       "      <td>16.933226</td>\n",
       "      <td>7.962832</td>\n",
       "    </tr>\n",
       "    <tr>\n",
       "      <th>10</th>\n",
       "      <td>12</td>\n",
       "      <td>-0.063329</td>\n",
       "      <td>507.752022</td>\n",
       "      <td>22.533354</td>\n",
       "      <td>16.989090</td>\n",
       "      <td>7.882661</td>\n",
       "    </tr>\n",
       "    <tr>\n",
       "      <th>11</th>\n",
       "      <td>13</td>\n",
       "      <td>-0.077690</td>\n",
       "      <td>514.609323</td>\n",
       "      <td>22.685002</td>\n",
       "      <td>16.881531</td>\n",
       "      <td>7.751210</td>\n",
       "    </tr>\n",
       "    <tr>\n",
       "      <th>12</th>\n",
       "      <td>14</td>\n",
       "      <td>-0.124421</td>\n",
       "      <td>536.924198</td>\n",
       "      <td>23.171625</td>\n",
       "      <td>17.002017</td>\n",
       "      <td>7.758598</td>\n",
       "    </tr>\n",
       "    <tr>\n",
       "      <th>13</th>\n",
       "      <td>15</td>\n",
       "      <td>-0.131903</td>\n",
       "      <td>540.496902</td>\n",
       "      <td>23.248589</td>\n",
       "      <td>16.912520</td>\n",
       "      <td>7.550360</td>\n",
       "    </tr>\n",
       "    <tr>\n",
       "      <th>14</th>\n",
       "      <td>16</td>\n",
       "      <td>-0.167414</td>\n",
       "      <td>557.453676</td>\n",
       "      <td>23.610457</td>\n",
       "      <td>17.007334</td>\n",
       "      <td>7.575919</td>\n",
       "    </tr>\n",
       "    <tr>\n",
       "      <th>15</th>\n",
       "      <td>17</td>\n",
       "      <td>-0.217351</td>\n",
       "      <td>581.299344</td>\n",
       "      <td>24.110150</td>\n",
       "      <td>17.111683</td>\n",
       "      <td>7.638276</td>\n",
       "    </tr>\n",
       "    <tr>\n",
       "      <th>16</th>\n",
       "      <td>18</td>\n",
       "      <td>-0.211798</td>\n",
       "      <td>578.647575</td>\n",
       "      <td>24.055095</td>\n",
       "      <td>16.979212</td>\n",
       "      <td>7.261401</td>\n",
       "    </tr>\n",
       "    <tr>\n",
       "      <th>17</th>\n",
       "      <td>19</td>\n",
       "      <td>-0.246981</td>\n",
       "      <td>595.447788</td>\n",
       "      <td>24.401799</td>\n",
       "      <td>17.097214</td>\n",
       "      <td>6.948472</td>\n",
       "    </tr>\n",
       "    <tr>\n",
       "      <th>18</th>\n",
       "      <td>20</td>\n",
       "      <td>-0.261266</td>\n",
       "      <td>602.269281</td>\n",
       "      <td>24.541175</td>\n",
       "      <td>17.076967</td>\n",
       "      <td>7.195753</td>\n",
       "    </tr>\n",
       "    <tr>\n",
       "      <th>19</th>\n",
       "      <td>21</td>\n",
       "      <td>-0.293689</td>\n",
       "      <td>617.751727</td>\n",
       "      <td>24.854612</td>\n",
       "      <td>17.315869</td>\n",
       "      <td>7.168750</td>\n",
       "    </tr>\n",
       "    <tr>\n",
       "      <th>20</th>\n",
       "      <td>22</td>\n",
       "      <td>-0.282154</td>\n",
       "      <td>612.243303</td>\n",
       "      <td>24.743551</td>\n",
       "      <td>17.207493</td>\n",
       "      <td>6.857181</td>\n",
       "    </tr>\n",
       "    <tr>\n",
       "      <th>21</th>\n",
       "      <td>23</td>\n",
       "      <td>-0.298838</td>\n",
       "      <td>620.210289</td>\n",
       "      <td>24.904022</td>\n",
       "      <td>17.204100</td>\n",
       "      <td>7.160587</td>\n",
       "    </tr>\n",
       "    <tr>\n",
       "      <th>22</th>\n",
       "      <td>24</td>\n",
       "      <td>-0.299539</td>\n",
       "      <td>620.544840</td>\n",
       "      <td>24.910737</td>\n",
       "      <td>17.252067</td>\n",
       "      <td>7.249521</td>\n",
       "    </tr>\n",
       "    <tr>\n",
       "      <th>23</th>\n",
       "      <td>25</td>\n",
       "      <td>-0.279793</td>\n",
       "      <td>611.116026</td>\n",
       "      <td>24.720761</td>\n",
       "      <td>17.079616</td>\n",
       "      <td>6.900759</td>\n",
       "    </tr>\n",
       "    <tr>\n",
       "      <th>24</th>\n",
       "      <td>26</td>\n",
       "      <td>-0.308489</td>\n",
       "      <td>624.818536</td>\n",
       "      <td>24.996370</td>\n",
       "      <td>17.245964</td>\n",
       "      <td>6.965082</td>\n",
       "    </tr>\n",
       "    <tr>\n",
       "      <th>25</th>\n",
       "      <td>27</td>\n",
       "      <td>-0.283888</td>\n",
       "      <td>613.071590</td>\n",
       "      <td>24.760283</td>\n",
       "      <td>17.055551</td>\n",
       "      <td>7.203340</td>\n",
       "    </tr>\n",
       "    <tr>\n",
       "      <th>26</th>\n",
       "      <td>28</td>\n",
       "      <td>-0.283251</td>\n",
       "      <td>612.767251</td>\n",
       "      <td>24.754136</td>\n",
       "      <td>17.103233</td>\n",
       "      <td>6.871079</td>\n",
       "    </tr>\n",
       "    <tr>\n",
       "      <th>27</th>\n",
       "      <td>29</td>\n",
       "      <td>-0.287330</td>\n",
       "      <td>614.715085</td>\n",
       "      <td>24.793448</td>\n",
       "      <td>17.033928</td>\n",
       "      <td>6.868130</td>\n",
       "    </tr>\n",
       "    <tr>\n",
       "      <th>28</th>\n",
       "      <td>30</td>\n",
       "      <td>-0.297307</td>\n",
       "      <td>619.479114</td>\n",
       "      <td>24.889337</td>\n",
       "      <td>17.169084</td>\n",
       "      <td>7.062474</td>\n",
       "    </tr>\n",
       "  </tbody>\n",
       "</table>\n",
       "</div>"
      ],
      "text/plain": [
       "   max_depth        R2         MSE       RMSE        MAE      MAPE\n",
       "0          2  0.037609  459.552983  21.437187  16.985102  8.480125\n",
       "1          3  0.054812  451.338427  21.244727  16.896550  8.469922\n",
       "2          4  0.062168  447.825853  21.161896  16.849288  8.536141\n",
       "3          5  0.063559  447.161319  21.146189  16.843452  8.395778\n",
       "4          6  0.063296  447.286802  21.149156  16.748081  8.324423\n",
       "5          7  0.055961  450.789444  21.231803  16.739333  7.997561\n",
       "6          8  0.034896  460.848567  21.467384  16.890528  7.950885\n",
       "7          9  0.023496  466.291932  21.593794  16.863630  7.860503\n",
       "8         10 -0.005483  480.129882  21.911866  16.879492  7.894165\n",
       "9         11 -0.031821  492.706679  22.196997  16.933226  7.962832\n",
       "10        12 -0.063329  507.752022  22.533354  16.989090  7.882661\n",
       "11        13 -0.077690  514.609323  22.685002  16.881531  7.751210\n",
       "12        14 -0.124421  536.924198  23.171625  17.002017  7.758598\n",
       "13        15 -0.131903  540.496902  23.248589  16.912520  7.550360\n",
       "14        16 -0.167414  557.453676  23.610457  17.007334  7.575919\n",
       "15        17 -0.217351  581.299344  24.110150  17.111683  7.638276\n",
       "16        18 -0.211798  578.647575  24.055095  16.979212  7.261401\n",
       "17        19 -0.246981  595.447788  24.401799  17.097214  6.948472\n",
       "18        20 -0.261266  602.269281  24.541175  17.076967  7.195753\n",
       "19        21 -0.293689  617.751727  24.854612  17.315869  7.168750\n",
       "20        22 -0.282154  612.243303  24.743551  17.207493  6.857181\n",
       "21        23 -0.298838  620.210289  24.904022  17.204100  7.160587\n",
       "22        24 -0.299539  620.544840  24.910737  17.252067  7.249521\n",
       "23        25 -0.279793  611.116026  24.720761  17.079616  6.900759\n",
       "24        26 -0.308489  624.818536  24.996370  17.245964  6.965082\n",
       "25        27 -0.283888  613.071590  24.760283  17.055551  7.203340\n",
       "26        28 -0.283251  612.767251  24.754136  17.103233  6.871079\n",
       "27        29 -0.287330  614.715085  24.793448  17.033928  6.868130\n",
       "28        30 -0.297307  619.479114  24.889337  17.169084  7.062474"
      ]
     },
     "execution_count": 8,
     "metadata": {},
     "output_type": "execute_result"
    }
   ],
   "source": [
    "# Valores das métricas de performance para diferentes valores de 'max_depth' \n",
    "metrics_df"
   ]
  },
  {
   "cell_type": "markdown",
   "id": "31c9387b",
   "metadata": {},
   "source": [
    "Em particular, estamos interessados em buscar o valor de `max_depth` que minimize a **Raiz do Erro Quadrático Médio (RMSE)**. "
   ]
  },
  {
   "cell_type": "code",
   "execution_count": 9,
   "id": "1e508e45",
   "metadata": {
    "ExecuteTime": {
     "end_time": "2024-10-24T15:59:45.813474Z",
     "start_time": "2024-10-24T15:59:45.487070Z"
    }
   },
   "outputs": [
    {
     "data": {
      "image/png": "[encoded data removed]",
      "text/plain": [
       "<Figure size 640x480 with 1 Axes>"
      ]
     },
     "metadata": {},
     "output_type": "display_data"
    }
   ],
   "source": [
    "# Evolução da métrica RMSE com a profundidade máxima da árvore\n",
    "plt.plot(max_depth_array, metrics_df['RMSE'].values, marker=\"o\", label=\"RMSE\")\n",
    "plt.xlabel(\"Max Depth\")\n",
    "plt.ylabel(\"RMSE\")\n",
    "plt.legend();"
   ]
  },
  {
   "cell_type": "code",
   "execution_count": 10,
   "id": "32bc0d5a",
   "metadata": {
    "ExecuteTime": {
     "end_time": "2024-10-24T15:59:53.592791Z",
     "start_time": "2024-10-24T15:59:53.568207Z"
    }
   },
   "outputs": [
    {
     "data": {
      "text/html": [
       "<div>\n",
       "<style scoped>\n",
       "    .dataframe tbody tr th:only-of-type {\n",
       "        vertical-align: middle;\n",
       "    }\n",
       "\n",
       "    .dataframe tbody tr th {\n",
       "        vertical-align: top;\n",
       "    }\n",
       "\n",
       "    .dataframe thead th {\n",
       "        text-align: right;\n",
       "    }\n",
       "</style>\n",
       "<table border=\"1\" class=\"dataframe\">\n",
       "  <thead>\n",
       "    <tr style=\"text-align: right;\">\n",
       "      <th></th>\n",
       "      <th>max_depth</th>\n",
       "      <th>R2</th>\n",
       "      <th>MSE</th>\n",
       "      <th>RMSE</th>\n",
       "      <th>MAE</th>\n",
       "      <th>MAPE</th>\n",
       "    </tr>\n",
       "  </thead>\n",
       "  <tbody>\n",
       "    <tr>\n",
       "      <th>3</th>\n",
       "      <td>5</td>\n",
       "      <td>0.063559</td>\n",
       "      <td>447.161319</td>\n",
       "      <td>21.146189</td>\n",
       "      <td>16.843452</td>\n",
       "      <td>8.395778</td>\n",
       "    </tr>\n",
       "    <tr>\n",
       "      <th>4</th>\n",
       "      <td>6</td>\n",
       "      <td>0.063296</td>\n",
       "      <td>447.286802</td>\n",
       "      <td>21.149156</td>\n",
       "      <td>16.748081</td>\n",
       "      <td>8.324423</td>\n",
       "    </tr>\n",
       "    <tr>\n",
       "      <th>2</th>\n",
       "      <td>4</td>\n",
       "      <td>0.062168</td>\n",
       "      <td>447.825853</td>\n",
       "      <td>21.161896</td>\n",
       "      <td>16.849288</td>\n",
       "      <td>8.536141</td>\n",
       "    </tr>\n",
       "    <tr>\n",
       "      <th>5</th>\n",
       "      <td>7</td>\n",
       "      <td>0.055961</td>\n",
       "      <td>450.789444</td>\n",
       "      <td>21.231803</td>\n",
       "      <td>16.739333</td>\n",
       "      <td>7.997561</td>\n",
       "    </tr>\n",
       "    <tr>\n",
       "      <th>1</th>\n",
       "      <td>3</td>\n",
       "      <td>0.054812</td>\n",
       "      <td>451.338427</td>\n",
       "      <td>21.244727</td>\n",
       "      <td>16.896550</td>\n",
       "      <td>8.469922</td>\n",
       "    </tr>\n",
       "  </tbody>\n",
       "</table>\n",
       "</div>"
      ],
      "text/plain": [
       "  max_depth        R2         MSE       RMSE        MAE      MAPE\n",
       "3         5  0.063559  447.161319  21.146189  16.843452  8.395778\n",
       "4         6  0.063296  447.286802  21.149156  16.748081  8.324423\n",
       "2         4  0.062168  447.825853  21.161896  16.849288  8.536141\n",
       "5         7  0.055961  450.789444  21.231803  16.739333  7.997561\n",
       "1         3  0.054812  451.338427  21.244727  16.896550  8.469922"
      ]
     },
     "execution_count": 10,
     "metadata": {},
     "output_type": "execute_result"
    }
   ],
   "source": [
    "# Exibe as 5 primeiras linhas do dataset ordenado do menor para o maior RMSE\n",
    "metrics_df.sort_values(['RMSE'], ascending=True)[:5]"
   ]
  },
  {
   "cell_type": "markdown",
   "id": "679b56c1",
   "metadata": {},
   "source": [
    "### Critério do menor `RMSE`: `max_depth = 5`"
   ]
  },
  {
   "cell_type": "code",
   "execution_count": 11,
   "id": "58131a68",
   "metadata": {
    "ExecuteTime": {
     "end_time": "2024-10-24T16:00:02.015376Z",
     "start_time": "2024-10-24T16:00:02.000361Z"
    }
   },
   "outputs": [],
   "source": [
    "best_max_depth = 5"
   ]
  },
  {
   "cell_type": "markdown",
   "id": "9c1e8c8e",
   "metadata": {},
   "source": [
    "## 5.4 - Desempenho do modelo para os dados de teste"
   ]
  },
  {
   "cell_type": "code",
   "execution_count": 12,
   "id": "8658a11b",
   "metadata": {
    "ExecuteTime": {
     "end_time": "2024-10-24T16:00:21.428239Z",
     "start_time": "2024-10-24T16:00:21.294957Z"
    }
   },
   "outputs": [
    {
     "data": {
      "text/html": [
       "<div>\n",
       "<style scoped>\n",
       "    .dataframe tbody tr th:only-of-type {\n",
       "        vertical-align: middle;\n",
       "    }\n",
       "\n",
       "    .dataframe tbody tr th {\n",
       "        vertical-align: top;\n",
       "    }\n",
       "\n",
       "    .dataframe thead th {\n",
       "        text-align: right;\n",
       "    }\n",
       "</style>\n",
       "<table border=\"1\" class=\"dataframe\">\n",
       "  <thead>\n",
       "    <tr style=\"text-align: right;\">\n",
       "      <th></th>\n",
       "      <th>Algorithm</th>\n",
       "      <th>Step</th>\n",
       "      <th>R2</th>\n",
       "      <th>MSE</th>\n",
       "      <th>RMSE</th>\n",
       "      <th>MAE</th>\n",
       "      <th>MAPE</th>\n",
       "    </tr>\n",
       "  </thead>\n",
       "  <tbody>\n",
       "    <tr>\n",
       "      <th>0</th>\n",
       "      <td>Decision Tree Regressor</td>\n",
       "      <td>Test</td>\n",
       "      <td>0.0905</td>\n",
       "      <td>442.8484</td>\n",
       "      <td>21.044</td>\n",
       "      <td>16.8298</td>\n",
       "      <td>7.8832</td>\n",
       "    </tr>\n",
       "  </tbody>\n",
       "</table>\n",
       "</div>"
      ],
      "text/plain": [
       "                 Algorithm  Step      R2       MSE    RMSE      MAE    MAPE\n",
       "0  Decision Tree Regressor  Test  0.0905  442.8484  21.044  16.8298  7.8832"
      ]
     },
     "execution_count": 12,
     "metadata": {},
     "output_type": "execute_result"
    }
   ],
   "source": [
    "# Definição do modelo\n",
    "decision_tree_test = DecisionTreeRegressor(max_depth = best_max_depth, random_state = 0)\n",
    "\n",
    "# Juntar os dados de treino e validação\n",
    "decision_tree_test.fit( pd.concat( [X_train, X_val] ),\n",
    "                        pd.concat( [y_train, y_val] ) )\n",
    "\n",
    "# Predição sobre os dados de teste\n",
    "y_pred_test = decision_tree_test.predict( X_test )\n",
    "\n",
    "# Métricas\n",
    "df_metrics_test = metrics(y_test, y_pred_test, 'Test', 'Decision Tree Regressor')\n",
    "df_metrics_test"
   ]
  },
  {
   "cell_type": "markdown",
   "id": "cdb77884",
   "metadata": {},
   "source": [
    "# 6.0 - Gera as planilhas com os resultados"
   ]
  },
  {
   "cell_type": "code",
   "execution_count": 13,
   "id": "cccd873f",
   "metadata": {
    "ExecuteTime": {
     "end_time": "2024-10-24T16:00:32.495926Z",
     "start_time": "2024-10-24T16:00:32.111970Z"
    }
   },
   "outputs": [],
   "source": [
    "exporta_excel('Decision_Tree')"
   ]
  }
 ],
 "metadata": {
  "kernelspec": {
   "display_name": "Python 3 (ipykernel)",
   "language": "python",
   "name": "python3"
  },
  "language_info": {
   "codemirror_mode": {
    "name": "ipython",
    "version": 3
   },
   "file_extension": ".py",
   "mimetype": "text/x-python",
   "name": "python",
   "nbconvert_exporter": "python",
   "pygments_lexer": "ipython3",
   "version": "3.9.12"
  }
 },
 "nbformat": 4,
 "nbformat_minor": 5
}
