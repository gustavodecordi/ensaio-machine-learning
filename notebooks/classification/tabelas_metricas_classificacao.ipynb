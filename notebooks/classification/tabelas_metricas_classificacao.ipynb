{
 "cells": [
  {
   "cell_type": "markdown",
   "id": "419d306e",
   "metadata": {},
   "source": [
    "# 1.0 - Importando bibliotecas"
   ]
  },
  {
   "cell_type": "code",
   "execution_count": 1,
   "id": "6356eff5-98c5-45cc-9d4f-1c59763578c3",
   "metadata": {
    "ExecuteTime": {
     "end_time": "2024-10-23T02:09:04.806844Z",
     "start_time": "2024-10-23T02:09:04.214105Z"
    }
   },
   "outputs": [],
   "source": [
    "import pandas as pd"
   ]
  },
  {
   "cell_type": "markdown",
   "id": "a65d1947",
   "metadata": {},
   "source": [
    "# 2.0 - Funções"
   ]
  },
  {
   "cell_type": "code",
   "execution_count": 14,
   "id": "2326b42b-3ecb-4f21-8dbe-8f2d00b7bb9f",
   "metadata": {
    "ExecuteTime": {
     "end_time": "2024-10-23T02:40:56.620056Z",
     "start_time": "2024-10-23T02:40:56.603521Z"
    }
   },
   "outputs": [],
   "source": [
    "def tabela_metricas_classificacao():\n",
    "    \"\"\"\n",
    "    Cria um DataFrame com as métricas de diferentes algoritmos de classificação para cada etapa do pipeline.\n",
    "\n",
    "    **Retorna:**\n",
    "    Uma lista de DataFrames, onde cada DataFrame contém as métricas de todos os algoritmos para uma determinada \n",
    "    etapa (treinamento, validação e teste).\n",
    "\n",
    "    **Funcionamento:**\n",
    "    1. **Define etapas:** Cria uma lista com as etapas do pipeline: 'train', 'validation' e 'test'.\n",
    "    2. **Define algoritmos:** Cria uma lista com os nomes dos algoritmos de classificação utilizados.\n",
    "    3. **Carrega métricas:** Para cada etapa e algoritmo:\n",
    "        - Concatena os DataFrames de métricas de cada algoritmo em um único DataFrame.\n",
    "        - Ignora os índices originais para evitar duplicatas.\n",
    "    4. **Retorna lista:** Retorna uma lista com os DataFrames concatenados, um para cada etapa.\n",
    "\n",
    "    **Observações:**\n",
    "    - Assume que os arquivos de métricas estão em uma estrutura de diretórios específica.\n",
    "    - Os nomes dos arquivos de métricas seguem um padrão definido.\n",
    "\n",
    "    \"\"\"\n",
    "    etapas = ['train', 'validation', 'test']\n",
    "    lista_algoritmo = ['knn', 'decision_tree', 'random_forest', 'logistic_regression']\n",
    "\n",
    "    # Gera um DataFrame para cada etapa e algoritmo, lendo os arquivos em uma única linha com compreensão de lista\n",
    "    lista_df = [\n",
    "        pd.concat(\n",
    "            [pd.read_excel(f'{etapa}/metrics/metrics_{etapa}_{nome_algoritmo}.xlsx') for nome_algoritmo in lista_algoritmo],\n",
    "            ignore_index=True\n",
    "        ) for etapa in etapas\n",
    "    ]\n",
    "\n",
    "    return lista_df\n",
    "\n",
    "def exporta_tabelas_para_md(lista_df):\n",
    "    \"\"\"\n",
    "    Gera tabelas de métricas para as etapas de treino, validação e teste,\n",
    "    e as exporta em formato Markdown para inclusão no README do GitHub.\n",
    "    \n",
    "    Parâmetros:\n",
    "    -----------\n",
    "    lista_df : list\n",
    "               lista armazenando os três dataframes com as performances.\n",
    "    \n",
    "    Retorno:\n",
    "    -----------\n",
    "    Arquivo markdown com as três tabelas concatenadas em UTF-8.\n",
    "    \"\"\"\n",
    "    etapas = ['treino', 'validação', 'teste']\n",
    "\n",
    "    # Cria um arquivo markdown para salvar as tabelas, com encoding UTF-8\n",
    "    with open('tabelas_métricas.md', 'w', encoding='utf-8') as f:\n",
    "        for etapa, df in zip(etapas, lista_df):\n",
    "            f.write(f\"### Métricas - {etapa.capitalize()}\\n\")\n",
    "            f.write(df.drop(columns = ['Step']).to_markdown(index=False))  # Exporta a tabela como markdown\n",
    "            f.write(\"\\n\\n\\n\")  # Linhas em branco entre as tabelas"
   ]
  },
  {
   "cell_type": "markdown",
   "id": "d9eff87a",
   "metadata": {},
   "source": [
    "# 3.0 - Tabelas com as métricas"
   ]
  },
  {
   "cell_type": "code",
   "execution_count": 9,
   "id": "f2e0adbb-fdb4-416f-a992-6f5f4c024860",
   "metadata": {
    "ExecuteTime": {
     "end_time": "2024-10-23T02:32:05.297518Z",
     "start_time": "2024-10-23T02:32:05.171817Z"
    }
   },
   "outputs": [],
   "source": [
    "lista_df = tabela_metricas_classificacao()\n",
    "performance_treino, performance_val, performance_teste = lista_df"
   ]
  },
  {
   "cell_type": "code",
   "execution_count": 10,
   "id": "07c181c6",
   "metadata": {
    "ExecuteTime": {
     "end_time": "2024-10-23T02:32:07.712172Z",
     "start_time": "2024-10-23T02:32:07.676784Z"
    }
   },
   "outputs": [
    {
     "data": {
      "text/html": [
       "<div>\n",
       "<style scoped>\n",
       "    .dataframe tbody tr th:only-of-type {\n",
       "        vertical-align: middle;\n",
       "    }\n",
       "\n",
       "    .dataframe tbody tr th {\n",
       "        vertical-align: top;\n",
       "    }\n",
       "\n",
       "    .dataframe thead th {\n",
       "        text-align: right;\n",
       "    }\n",
       "</style>\n",
       "<table border=\"1\" class=\"dataframe\">\n",
       "  <thead>\n",
       "    <tr style=\"text-align: right;\">\n",
       "      <th></th>\n",
       "      <th>Algorithm</th>\n",
       "      <th>Step</th>\n",
       "      <th>Accuracy</th>\n",
       "      <th>Precision</th>\n",
       "      <th>Recall</th>\n",
       "      <th>F1-Score</th>\n",
       "    </tr>\n",
       "  </thead>\n",
       "  <tbody>\n",
       "    <tr>\n",
       "      <th>0</th>\n",
       "      <td>K-Nearest Neighbors</td>\n",
       "      <td>Train</td>\n",
       "      <td>0.9476</td>\n",
       "      <td>0.9323</td>\n",
       "      <td>0.9786</td>\n",
       "      <td>0.9549</td>\n",
       "    </tr>\n",
       "    <tr>\n",
       "      <th>1</th>\n",
       "      <td>Decision Tree</td>\n",
       "      <td>Train</td>\n",
       "      <td>1.0000</td>\n",
       "      <td>1.0000</td>\n",
       "      <td>1.0000</td>\n",
       "      <td>1.0000</td>\n",
       "    </tr>\n",
       "    <tr>\n",
       "      <th>2</th>\n",
       "      <td>Random Forest</td>\n",
       "      <td>Train</td>\n",
       "      <td>1.0000</td>\n",
       "      <td>1.0000</td>\n",
       "      <td>1.0000</td>\n",
       "      <td>1.0000</td>\n",
       "    </tr>\n",
       "    <tr>\n",
       "      <th>3</th>\n",
       "      <td>Logistic Regression</td>\n",
       "      <td>Train</td>\n",
       "      <td>0.8753</td>\n",
       "      <td>0.8785</td>\n",
       "      <td>0.9050</td>\n",
       "      <td>0.8916</td>\n",
       "    </tr>\n",
       "  </tbody>\n",
       "</table>\n",
       "</div>"
      ],
      "text/plain": [
       "             Algorithm   Step  Accuracy  Precision  Recall  F1-Score\n",
       "0  K-Nearest Neighbors  Train    0.9476     0.9323  0.9786    0.9549\n",
       "1        Decision Tree  Train    1.0000     1.0000  1.0000    1.0000\n",
       "2        Random Forest  Train    1.0000     1.0000  1.0000    1.0000\n",
       "3  Logistic Regression  Train    0.8753     0.8785  0.9050    0.8916"
      ]
     },
     "execution_count": 10,
     "metadata": {},
     "output_type": "execute_result"
    }
   ],
   "source": [
    "# Treino\n",
    "performance_treino"
   ]
  },
  {
   "cell_type": "code",
   "execution_count": 11,
   "id": "c465cb00",
   "metadata": {
    "ExecuteTime": {
     "end_time": "2024-10-23T02:32:10.214765Z",
     "start_time": "2024-10-23T02:32:10.195811Z"
    }
   },
   "outputs": [
    {
     "data": {
      "text/html": [
       "<div>\n",
       "<style scoped>\n",
       "    .dataframe tbody tr th:only-of-type {\n",
       "        vertical-align: middle;\n",
       "    }\n",
       "\n",
       "    .dataframe tbody tr th {\n",
       "        vertical-align: top;\n",
       "    }\n",
       "\n",
       "    .dataframe thead th {\n",
       "        text-align: right;\n",
       "    }\n",
       "</style>\n",
       "<table border=\"1\" class=\"dataframe\">\n",
       "  <thead>\n",
       "    <tr style=\"text-align: right;\">\n",
       "      <th></th>\n",
       "      <th>Algorithm</th>\n",
       "      <th>Step</th>\n",
       "      <th>Accuracy</th>\n",
       "      <th>Precision</th>\n",
       "      <th>Recall</th>\n",
       "      <th>F1-Score</th>\n",
       "    </tr>\n",
       "  </thead>\n",
       "  <tbody>\n",
       "    <tr>\n",
       "      <th>0</th>\n",
       "      <td>K-Nearest Neighbors</td>\n",
       "      <td>Validation</td>\n",
       "      <td>0.9252</td>\n",
       "      <td>0.9096</td>\n",
       "      <td>0.9638</td>\n",
       "      <td>0.9359</td>\n",
       "    </tr>\n",
       "    <tr>\n",
       "      <th>1</th>\n",
       "      <td>Decision Tree</td>\n",
       "      <td>Validation</td>\n",
       "      <td>0.9444</td>\n",
       "      <td>0.9536</td>\n",
       "      <td>0.9480</td>\n",
       "      <td>0.9508</td>\n",
       "    </tr>\n",
       "    <tr>\n",
       "      <th>2</th>\n",
       "      <td>Random Forest</td>\n",
       "      <td>Validation</td>\n",
       "      <td>0.9622</td>\n",
       "      <td>0.9561</td>\n",
       "      <td>0.9783</td>\n",
       "      <td>0.9670</td>\n",
       "    </tr>\n",
       "    <tr>\n",
       "      <th>3</th>\n",
       "      <td>Logistic Regression</td>\n",
       "      <td>Validation</td>\n",
       "      <td>0.8742</td>\n",
       "      <td>0.8777</td>\n",
       "      <td>0.9039</td>\n",
       "      <td>0.8906</td>\n",
       "    </tr>\n",
       "  </tbody>\n",
       "</table>\n",
       "</div>"
      ],
      "text/plain": [
       "             Algorithm        Step  Accuracy  Precision  Recall  F1-Score\n",
       "0  K-Nearest Neighbors  Validation    0.9252     0.9096  0.9638    0.9359\n",
       "1        Decision Tree  Validation    0.9444     0.9536  0.9480    0.9508\n",
       "2        Random Forest  Validation    0.9622     0.9561  0.9783    0.9670\n",
       "3  Logistic Regression  Validation    0.8742     0.8777  0.9039    0.8906"
      ]
     },
     "execution_count": 11,
     "metadata": {},
     "output_type": "execute_result"
    }
   ],
   "source": [
    "# Validação\n",
    "performance_val"
   ]
  },
  {
   "cell_type": "code",
   "execution_count": 12,
   "id": "499faa11",
   "metadata": {
    "ExecuteTime": {
     "end_time": "2024-10-23T02:32:12.710763Z",
     "start_time": "2024-10-23T02:32:12.691775Z"
    }
   },
   "outputs": [
    {
     "data": {
      "text/html": [
       "<div>\n",
       "<style scoped>\n",
       "    .dataframe tbody tr th:only-of-type {\n",
       "        vertical-align: middle;\n",
       "    }\n",
       "\n",
       "    .dataframe tbody tr th {\n",
       "        vertical-align: top;\n",
       "    }\n",
       "\n",
       "    .dataframe thead th {\n",
       "        text-align: right;\n",
       "    }\n",
       "</style>\n",
       "<table border=\"1\" class=\"dataframe\">\n",
       "  <thead>\n",
       "    <tr style=\"text-align: right;\">\n",
       "      <th></th>\n",
       "      <th>Algorithm</th>\n",
       "      <th>Step</th>\n",
       "      <th>Accuracy</th>\n",
       "      <th>Precision</th>\n",
       "      <th>Recall</th>\n",
       "      <th>F1-Score</th>\n",
       "    </tr>\n",
       "  </thead>\n",
       "  <tbody>\n",
       "    <tr>\n",
       "      <th>0</th>\n",
       "      <td>K-Nearest Neighbors</td>\n",
       "      <td>Test</td>\n",
       "      <td>0.9263</td>\n",
       "      <td>0.9058</td>\n",
       "      <td>0.9694</td>\n",
       "      <td>0.9366</td>\n",
       "    </tr>\n",
       "    <tr>\n",
       "      <th>1</th>\n",
       "      <td>Decision Tree</td>\n",
       "      <td>Test</td>\n",
       "      <td>0.9528</td>\n",
       "      <td>0.9471</td>\n",
       "      <td>0.9702</td>\n",
       "      <td>0.9585</td>\n",
       "    </tr>\n",
       "    <tr>\n",
       "      <th>2</th>\n",
       "      <td>Random Forest</td>\n",
       "      <td>Test</td>\n",
       "      <td>0.9631</td>\n",
       "      <td>0.9567</td>\n",
       "      <td>0.9785</td>\n",
       "      <td>0.9675</td>\n",
       "    </tr>\n",
       "    <tr>\n",
       "      <th>3</th>\n",
       "      <td>Logistic Regression</td>\n",
       "      <td>Test</td>\n",
       "      <td>0.8711</td>\n",
       "      <td>0.8730</td>\n",
       "      <td>0.9014</td>\n",
       "      <td>0.8870</td>\n",
       "    </tr>\n",
       "  </tbody>\n",
       "</table>\n",
       "</div>"
      ],
      "text/plain": [
       "             Algorithm  Step  Accuracy  Precision  Recall  F1-Score\n",
       "0  K-Nearest Neighbors  Test    0.9263     0.9058  0.9694    0.9366\n",
       "1        Decision Tree  Test    0.9528     0.9471  0.9702    0.9585\n",
       "2        Random Forest  Test    0.9631     0.9567  0.9785    0.9675\n",
       "3  Logistic Regression  Test    0.8711     0.8730  0.9014    0.8870"
      ]
     },
     "execution_count": 12,
     "metadata": {},
     "output_type": "execute_result"
    }
   ],
   "source": [
    "# Teste\n",
    "performance_teste"
   ]
  },
  {
   "cell_type": "code",
   "execution_count": 15,
   "id": "fbe148aa",
   "metadata": {
    "ExecuteTime": {
     "end_time": "2024-10-23T02:41:00.929096Z",
     "start_time": "2024-10-23T02:41:00.907187Z"
    }
   },
   "outputs": [],
   "source": [
    "# Exporta as três tabelas acima para formato Markdown\n",
    "exporta_tabelas_para_md(lista_df)"
   ]
  }
 ],
 "metadata": {
  "kernelspec": {
   "display_name": "Python 3 (ipykernel)",
   "language": "python",
   "name": "python3"
  },
  "language_info": {
   "codemirror_mode": {
    "name": "ipython",
    "version": 3
   },
   "file_extension": ".py",
   "mimetype": "text/x-python",
   "name": "python",
   "nbconvert_exporter": "python",
   "pygments_lexer": "ipython3",
   "version": "3.9.12"
  }
 },
 "nbformat": 4,
 "nbformat_minor": 5
}
