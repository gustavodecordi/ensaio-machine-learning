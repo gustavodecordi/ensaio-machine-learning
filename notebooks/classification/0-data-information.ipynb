{
 "cells": [
  {
   "cell_type": "markdown",
   "id": "857c3a66",
   "metadata": {},
   "source": [
    "### Descrição do problema\n",
    "\n",
    "Com base em respostas de uma pesquisa de satisfação, este conjunto de dados será utilizado para prever a satisfação do cliente e auxiliar a companhia aérea a tomar decisões estratégicas.  \n",
    "Os dados originais foram extraídos do desafio *Airline Passenger Satisfaction*, hospedado no **kaggle**:\n",
    "\n",
    "**https://www.kaggle.com/datasets/teejmahal20/airline-passenger-satisfaction?select=train.csv**\n",
    "\n",
    "Para a construção dos modelos, exploramos os algoritmos **K-Nearest Neighbors (knn)**, **Decision Tree**, **Random Forest** e **Logistic Regression**.  \n",
    "A avaliação dos modelos será realizada utilizando as seguintes métricas: **Accuracy**, **Precision**, **Recall** e **F1-Score**.  \n",
    "### Informações do dataset\n",
    "\n",
    "- **id**: número de indentificação do cliente  \n",
    "- **customer_type**: tipo de cliente (**loyal customer**, **disloyal customer**)\n",
    "- **age**: idade atual do passageiro\n",
    "- **class**: classe ocupada na aeronave (**Business**, **Eco**, **Eco Plus**)\n",
    "- **flight_distance**: distância coberta pelo vôo\n",
    "- **inflight_wifi_service**: nível de satisfação com a qualidade da internet *wifi* dentro da aeronave (**0: Not Applicable**; **1-5**)\n",
    "- **departure_arrival_time_convenient**: nível de satisfação com os horários de decolagem e chegada da aeronave\n",
    "- **ease_of_online_booking**: nível de satisfação com o serviço de reservas online\n",
    "- **gate_location**: nível de satisfação com a localização do portão de embarque\n",
    "- **food_and_drink**: nível de satisfação com as refeições e bebida oferecidos\n",
    "- **online_boarding**: nível de satisfação com o *check-in* online\n",
    "- **seat_comfort**: nível de satisfação com os assentos\n",
    "- **inflight_entertainment**: nível de satisfação com os serviços de entretenimento oferecidos durante o vôo\n",
    "- **on_board_service**: nível de satisfação global com todos os serviços da companhia aérea\n",
    "- **leg_room_service**: nível de satisfação com o espaço de acomodação para as pernas\n",
    "- **baggage_handling**: nível de satisfação com o manuseio de bagagem\n",
    "- **checkin_service**: nível de satisfação com o serviço de *check-in*\n",
    "- **inflight_service**: nível de satisfação com os serviços a bordo da aeronave\n",
    "- **cleanliness**: nível de satisfação com a limpeza da aeronave\n",
    "- **departure_delay_in_minutes**: atraso para a decolagem em minutos\n",
    "- **arrival_delay_in_minutes**: atraso para a chegada em minutos\n",
    "- **gender**: gênero do passageiro (**Male**, **Female**)\n",
    "- **type_of_travel**: tipo da viagem (**Personal Travel**, **Business Travel**)\n",
    "- **satisfaction**: nível de satisfação geral (**satisfied**, **neutral or dissatisfied**)\n",
    "\n",
    "### Observações importantes: \n",
    "\n",
    "Visando otimizar o aprendizado, os dados brutos foram submetidos a uma etapa de pré-processamento pelo instrutor do curso que incluiu a codificação de variáveis categóricas e a normalização dos atributos numéricos. Com isso, os dados encontram-se preparados para a aplicação dos algoritmos de machine learning utilizados nesse ensaio."
   ]
  },
  {
   "cell_type": "markdown",
   "id": "3ecb959c",
   "metadata": {},
   "source": [
    "# 1.0 - Importando bibliotecas"
   ]
  },
  {
   "cell_type": "code",
   "execution_count": 1,
   "id": "63c321b3",
   "metadata": {
    "ExecuteTime": {
     "end_time": "2024-10-23T23:49:27.790996Z",
     "start_time": "2024-10-23T23:49:26.477895Z"
    }
   },
   "outputs": [],
   "source": [
    "import pandas as pd\n",
    "import numpy as np\n",
    "from matplotlib import pyplot as plt\n",
    "pd.set_option('display.max_columns', None)"
   ]
  },
  {
   "cell_type": "markdown",
   "id": "dbb00ad3",
   "metadata": {},
   "source": [
    "# 2.0 - Carregando os dados"
   ]
  },
  {
   "cell_type": "code",
   "execution_count": 2,
   "id": "502c08ab",
   "metadata": {
    "ExecuteTime": {
     "end_time": "2024-10-23T23:49:29.970992Z",
     "start_time": "2024-10-23T23:49:29.374672Z"
    }
   },
   "outputs": [],
   "source": [
    "# Treino\n",
    "X_train = pd.read_csv('data/train/X_training.csv')\n",
    "y_train = pd.read_csv('data/train/y_training.csv')\n",
    "\n",
    "# Validação\n",
    "X_val = pd.read_csv('data/validation/X_validation.csv')\n",
    "y_val = pd.read_csv('data/validation/y_validation.csv')\n",
    "\n",
    "# Teste\n",
    "X_test = pd.read_csv('data/test/X_test.csv')\n",
    "y_test = pd.read_csv('data/test/y_test.csv')"
   ]
  },
  {
   "cell_type": "code",
   "execution_count": 3,
   "id": "7641beb7",
   "metadata": {
    "ExecuteTime": {
     "end_time": "2024-10-23T23:49:33.012640Z",
     "start_time": "2024-10-23T23:49:32.959230Z"
    }
   },
   "outputs": [
    {
     "data": {
      "text/html": [
       "<div>\n",
       "<style scoped>\n",
       "    .dataframe tbody tr th:only-of-type {\n",
       "        vertical-align: middle;\n",
       "    }\n",
       "\n",
       "    .dataframe tbody tr th {\n",
       "        vertical-align: top;\n",
       "    }\n",
       "\n",
       "    .dataframe thead th {\n",
       "        text-align: right;\n",
       "    }\n",
       "</style>\n",
       "<table border=\"1\" class=\"dataframe\">\n",
       "  <thead>\n",
       "    <tr style=\"text-align: right;\">\n",
       "      <th></th>\n",
       "      <th>id</th>\n",
       "      <th>customer_type</th>\n",
       "      <th>age</th>\n",
       "      <th>class</th>\n",
       "      <th>flight_distance</th>\n",
       "      <th>inflight_wifi_service</th>\n",
       "      <th>departure_arrival_time_convenient</th>\n",
       "      <th>ease_of_online_booking</th>\n",
       "      <th>gate_location</th>\n",
       "      <th>food_and_drink</th>\n",
       "      <th>online_boarding</th>\n",
       "      <th>seat_comfort</th>\n",
       "      <th>inflight_entertainment</th>\n",
       "      <th>on_board_service</th>\n",
       "      <th>leg_room_service</th>\n",
       "      <th>baggage_handling</th>\n",
       "      <th>checkin_service</th>\n",
       "      <th>inflight_service</th>\n",
       "      <th>cleanliness</th>\n",
       "      <th>departure_delay_in_minutes</th>\n",
       "      <th>arrival_delay_in_minutes</th>\n",
       "      <th>gender_Female</th>\n",
       "      <th>gender_Male</th>\n",
       "      <th>type_of_travel_business_travel</th>\n",
       "      <th>type_of_travel_personal_travel</th>\n",
       "    </tr>\n",
       "  </thead>\n",
       "  <tbody>\n",
       "    <tr>\n",
       "      <th>0</th>\n",
       "      <td>13508</td>\n",
       "      <td>1</td>\n",
       "      <td>0.500000</td>\n",
       "      <td>0.0</td>\n",
       "      <td>0.039580</td>\n",
       "      <td>0.6</td>\n",
       "      <td>0.6</td>\n",
       "      <td>0.6</td>\n",
       "      <td>0.6</td>\n",
       "      <td>1.0</td>\n",
       "      <td>1.0</td>\n",
       "      <td>0.25</td>\n",
       "      <td>0.6</td>\n",
       "      <td>0.6</td>\n",
       "      <td>0.6</td>\n",
       "      <td>0.5</td>\n",
       "      <td>1.00</td>\n",
       "      <td>0.6</td>\n",
       "      <td>0.4</td>\n",
       "      <td>0.000000</td>\n",
       "      <td>0.013848</td>\n",
       "      <td>1.0</td>\n",
       "      <td>0.0</td>\n",
       "      <td>1.0</td>\n",
       "      <td>0.0</td>\n",
       "    </tr>\n",
       "    <tr>\n",
       "      <th>1</th>\n",
       "      <td>28874</td>\n",
       "      <td>1</td>\n",
       "      <td>0.243590</td>\n",
       "      <td>0.0</td>\n",
       "      <td>0.205775</td>\n",
       "      <td>0.6</td>\n",
       "      <td>0.4</td>\n",
       "      <td>0.4</td>\n",
       "      <td>0.4</td>\n",
       "      <td>0.6</td>\n",
       "      <td>0.8</td>\n",
       "      <td>0.50</td>\n",
       "      <td>0.6</td>\n",
       "      <td>0.4</td>\n",
       "      <td>0.8</td>\n",
       "      <td>0.5</td>\n",
       "      <td>0.50</td>\n",
       "      <td>0.2</td>\n",
       "      <td>0.6</td>\n",
       "      <td>0.000000</td>\n",
       "      <td>0.000000</td>\n",
       "      <td>0.0</td>\n",
       "      <td>1.0</td>\n",
       "      <td>1.0</td>\n",
       "      <td>0.0</td>\n",
       "    </tr>\n",
       "    <tr>\n",
       "      <th>2</th>\n",
       "      <td>21484</td>\n",
       "      <td>0</td>\n",
       "      <td>0.435897</td>\n",
       "      <td>1.0</td>\n",
       "      <td>0.026858</td>\n",
       "      <td>0.6</td>\n",
       "      <td>0.6</td>\n",
       "      <td>0.6</td>\n",
       "      <td>0.2</td>\n",
       "      <td>1.0</td>\n",
       "      <td>0.6</td>\n",
       "      <td>1.00</td>\n",
       "      <td>1.0</td>\n",
       "      <td>0.4</td>\n",
       "      <td>0.4</td>\n",
       "      <td>0.0</td>\n",
       "      <td>1.00</td>\n",
       "      <td>0.6</td>\n",
       "      <td>1.0</td>\n",
       "      <td>0.000000</td>\n",
       "      <td>0.000000</td>\n",
       "      <td>1.0</td>\n",
       "      <td>0.0</td>\n",
       "      <td>1.0</td>\n",
       "      <td>0.0</td>\n",
       "    </tr>\n",
       "    <tr>\n",
       "      <th>3</th>\n",
       "      <td>48280</td>\n",
       "      <td>1</td>\n",
       "      <td>0.589744</td>\n",
       "      <td>0.5</td>\n",
       "      <td>0.041397</td>\n",
       "      <td>0.6</td>\n",
       "      <td>1.0</td>\n",
       "      <td>0.6</td>\n",
       "      <td>0.6</td>\n",
       "      <td>0.8</td>\n",
       "      <td>1.0</td>\n",
       "      <td>0.00</td>\n",
       "      <td>0.4</td>\n",
       "      <td>0.4</td>\n",
       "      <td>0.6</td>\n",
       "      <td>0.0</td>\n",
       "      <td>1.00</td>\n",
       "      <td>0.4</td>\n",
       "      <td>0.4</td>\n",
       "      <td>0.029499</td>\n",
       "      <td>0.020772</td>\n",
       "      <td>1.0</td>\n",
       "      <td>0.0</td>\n",
       "      <td>0.0</td>\n",
       "      <td>1.0</td>\n",
       "    </tr>\n",
       "    <tr>\n",
       "      <th>4</th>\n",
       "      <td>472</td>\n",
       "      <td>0</td>\n",
       "      <td>0.423077</td>\n",
       "      <td>1.0</td>\n",
       "      <td>0.016559</td>\n",
       "      <td>0.2</td>\n",
       "      <td>0.2</td>\n",
       "      <td>0.2</td>\n",
       "      <td>0.8</td>\n",
       "      <td>0.6</td>\n",
       "      <td>0.2</td>\n",
       "      <td>0.50</td>\n",
       "      <td>0.6</td>\n",
       "      <td>1.0</td>\n",
       "      <td>0.6</td>\n",
       "      <td>1.0</td>\n",
       "      <td>0.75</td>\n",
       "      <td>0.8</td>\n",
       "      <td>0.6</td>\n",
       "      <td>0.021632</td>\n",
       "      <td>0.019782</td>\n",
       "      <td>0.0</td>\n",
       "      <td>1.0</td>\n",
       "      <td>1.0</td>\n",
       "      <td>0.0</td>\n",
       "    </tr>\n",
       "  </tbody>\n",
       "</table>\n",
       "</div>"
      ],
      "text/plain": [
       "      id  customer_type       age  class  flight_distance   \n",
       "0  13508              1  0.500000    0.0         0.039580  \\\n",
       "1  28874              1  0.243590    0.0         0.205775   \n",
       "2  21484              0  0.435897    1.0         0.026858   \n",
       "3  48280              1  0.589744    0.5         0.041397   \n",
       "4    472              0  0.423077    1.0         0.016559   \n",
       "\n",
       "   inflight_wifi_service  departure_arrival_time_convenient   \n",
       "0                    0.6                                0.6  \\\n",
       "1                    0.6                                0.4   \n",
       "2                    0.6                                0.6   \n",
       "3                    0.6                                1.0   \n",
       "4                    0.2                                0.2   \n",
       "\n",
       "   ease_of_online_booking  gate_location  food_and_drink  online_boarding   \n",
       "0                     0.6            0.6             1.0              1.0  \\\n",
       "1                     0.4            0.4             0.6              0.8   \n",
       "2                     0.6            0.2             1.0              0.6   \n",
       "3                     0.6            0.6             0.8              1.0   \n",
       "4                     0.2            0.8             0.6              0.2   \n",
       "\n",
       "   seat_comfort  inflight_entertainment  on_board_service  leg_room_service   \n",
       "0          0.25                     0.6               0.6               0.6  \\\n",
       "1          0.50                     0.6               0.4               0.8   \n",
       "2          1.00                     1.0               0.4               0.4   \n",
       "3          0.00                     0.4               0.4               0.6   \n",
       "4          0.50                     0.6               1.0               0.6   \n",
       "\n",
       "   baggage_handling  checkin_service  inflight_service  cleanliness   \n",
       "0               0.5             1.00               0.6          0.4  \\\n",
       "1               0.5             0.50               0.2          0.6   \n",
       "2               0.0             1.00               0.6          1.0   \n",
       "3               0.0             1.00               0.4          0.4   \n",
       "4               1.0             0.75               0.8          0.6   \n",
       "\n",
       "   departure_delay_in_minutes  arrival_delay_in_minutes  gender_Female   \n",
       "0                    0.000000                  0.013848            1.0  \\\n",
       "1                    0.000000                  0.000000            0.0   \n",
       "2                    0.000000                  0.000000            1.0   \n",
       "3                    0.029499                  0.020772            1.0   \n",
       "4                    0.021632                  0.019782            0.0   \n",
       "\n",
       "   gender_Male  type_of_travel_business_travel  type_of_travel_personal_travel  \n",
       "0          0.0                             1.0                             0.0  \n",
       "1          1.0                             1.0                             0.0  \n",
       "2          0.0                             1.0                             0.0  \n",
       "3          0.0                             0.0                             1.0  \n",
       "4          1.0                             1.0                             0.0  "
      ]
     },
     "execution_count": 3,
     "metadata": {},
     "output_type": "execute_result"
    }
   ],
   "source": [
    "X_train.head()"
   ]
  },
  {
   "cell_type": "markdown",
   "id": "27d4389b",
   "metadata": {},
   "source": [
    "## 2.0.1 - Variáveis preditoras: informações gerais"
   ]
  },
  {
   "cell_type": "markdown",
   "id": "2e21c658",
   "metadata": {},
   "source": [
    "Nas células abaixo, mostramos informações gerais sobre os dados de **treino**, **validação** e **teste**.  \n",
    "Observamos que todas as variáveis preditoras são numéricas (formatos **int64**, **float64**), assim não há necessidade de transformar dados categóricos em numéricos.  \n",
    "Além disso, todos os conjuntos de dados estão completos, sem a necessidade de lidar com dados faltantes. A checagem preliminar dos dados mostrou que diversos atributos foram a priori rescalonados.  \n",
    "Lembramos que essa etapa é de suma importância para os algoritmos, como é o caso do **KNN** e da **Regressão Logística**. Caso contrário, alguns atributos poderiam ter um impacto muito maior do que outros no cálculo das métricas, resultando em valores não confiáveis de performance.  \n",
    "No contexto do presente ensaio, voltado para a exploração de diferentes combinações de hiperparâmetros sobre as métricas de performance, enfatizamos que as etapas de pré-processamento e separação de dados tenham sido realizadas de antemão pelo instrutor da disciplina. "
   ]
  },
  {
   "cell_type": "code",
   "execution_count": 4,
   "id": "f1b8524f",
   "metadata": {
    "ExecuteTime": {
     "end_time": "2024-10-23T23:49:37.985400Z",
     "start_time": "2024-10-23T23:49:37.943203Z"
    }
   },
   "outputs": [
    {
     "name": "stdout",
     "output_type": "stream",
     "text": [
      "<class 'pandas.core.frame.DataFrame'>\n",
      "RangeIndex: 72515 entries, 0 to 72514\n",
      "Data columns (total 25 columns):\n",
      " #   Column                             Non-Null Count  Dtype  \n",
      "---  ------                             --------------  -----  \n",
      " 0   id                                 72515 non-null  int64  \n",
      " 1   customer_type                      72515 non-null  int64  \n",
      " 2   age                                72515 non-null  float64\n",
      " 3   class                              72515 non-null  float64\n",
      " 4   flight_distance                    72515 non-null  float64\n",
      " 5   inflight_wifi_service              72515 non-null  float64\n",
      " 6   departure_arrival_time_convenient  72515 non-null  float64\n",
      " 7   ease_of_online_booking             72515 non-null  float64\n",
      " 8   gate_location                      72515 non-null  float64\n",
      " 9   food_and_drink                     72515 non-null  float64\n",
      " 10  online_boarding                    72515 non-null  float64\n",
      " 11  seat_comfort                       72515 non-null  float64\n",
      " 12  inflight_entertainment             72515 non-null  float64\n",
      " 13  on_board_service                   72515 non-null  float64\n",
      " 14  leg_room_service                   72515 non-null  float64\n",
      " 15  baggage_handling                   72515 non-null  float64\n",
      " 16  checkin_service                    72515 non-null  float64\n",
      " 17  inflight_service                   72515 non-null  float64\n",
      " 18  cleanliness                        72515 non-null  float64\n",
      " 19  departure_delay_in_minutes         72515 non-null  float64\n",
      " 20  arrival_delay_in_minutes           72515 non-null  float64\n",
      " 21  gender_Female                      72515 non-null  float64\n",
      " 22  gender_Male                        72515 non-null  float64\n",
      " 23  type_of_travel_business_travel     72515 non-null  float64\n",
      " 24  type_of_travel_personal_travel     72515 non-null  float64\n",
      "dtypes: float64(23), int64(2)\n",
      "memory usage: 13.8 MB\n"
     ]
    }
   ],
   "source": [
    "X_train.info()"
   ]
  },
  {
   "cell_type": "code",
   "execution_count": 5,
   "id": "6a2470ee",
   "metadata": {
    "ExecuteTime": {
     "end_time": "2024-10-23T23:49:40.037610Z",
     "start_time": "2024-10-23T23:49:40.021654Z"
    }
   },
   "outputs": [
    {
     "name": "stdout",
     "output_type": "stream",
     "text": [
      "<class 'pandas.core.frame.DataFrame'>\n",
      "RangeIndex: 31079 entries, 0 to 31078\n",
      "Data columns (total 25 columns):\n",
      " #   Column                             Non-Null Count  Dtype  \n",
      "---  ------                             --------------  -----  \n",
      " 0   id                                 31079 non-null  int64  \n",
      " 1   customer_type                      31079 non-null  int64  \n",
      " 2   age                                31079 non-null  float64\n",
      " 3   class                              31079 non-null  float64\n",
      " 4   flight_distance                    31079 non-null  float64\n",
      " 5   inflight_wifi_service              31079 non-null  float64\n",
      " 6   departure_arrival_time_convenient  31079 non-null  float64\n",
      " 7   ease_of_online_booking             31079 non-null  float64\n",
      " 8   gate_location                      31079 non-null  float64\n",
      " 9   food_and_drink                     31079 non-null  float64\n",
      " 10  online_boarding                    31079 non-null  float64\n",
      " 11  seat_comfort                       31079 non-null  float64\n",
      " 12  inflight_entertainment             31079 non-null  float64\n",
      " 13  on_board_service                   31079 non-null  float64\n",
      " 14  leg_room_service                   31079 non-null  float64\n",
      " 15  baggage_handling                   31079 non-null  float64\n",
      " 16  checkin_service                    31079 non-null  float64\n",
      " 17  inflight_service                   31079 non-null  float64\n",
      " 18  cleanliness                        31079 non-null  float64\n",
      " 19  departure_delay_in_minutes         31079 non-null  float64\n",
      " 20  arrival_delay_in_minutes           31079 non-null  float64\n",
      " 21  gender_Female                      31079 non-null  float64\n",
      " 22  gender_Male                        31079 non-null  float64\n",
      " 23  type_of_travel_business_travel     31079 non-null  float64\n",
      " 24  type_of_travel_personal_travel     31079 non-null  float64\n",
      "dtypes: float64(23), int64(2)\n",
      "memory usage: 5.9 MB\n"
     ]
    }
   ],
   "source": [
    "X_val.info()"
   ]
  },
  {
   "cell_type": "code",
   "execution_count": 6,
   "id": "ba30027e",
   "metadata": {
    "ExecuteTime": {
     "end_time": "2024-10-23T23:49:41.925630Z",
     "start_time": "2024-10-23T23:49:41.902674Z"
    }
   },
   "outputs": [
    {
     "name": "stdout",
     "output_type": "stream",
     "text": [
      "<class 'pandas.core.frame.DataFrame'>\n",
      "RangeIndex: 25893 entries, 0 to 25892\n",
      "Data columns (total 25 columns):\n",
      " #   Column                             Non-Null Count  Dtype  \n",
      "---  ------                             --------------  -----  \n",
      " 0   id                                 25893 non-null  int64  \n",
      " 1   customer_type                      25893 non-null  int64  \n",
      " 2   age                                25893 non-null  float64\n",
      " 3   class                              25893 non-null  float64\n",
      " 4   flight_distance                    25893 non-null  float64\n",
      " 5   inflight_wifi_service              25893 non-null  float64\n",
      " 6   departure_arrival_time_convenient  25893 non-null  float64\n",
      " 7   ease_of_online_booking             25893 non-null  float64\n",
      " 8   gate_location                      25893 non-null  float64\n",
      " 9   food_and_drink                     25893 non-null  float64\n",
      " 10  online_boarding                    25893 non-null  float64\n",
      " 11  seat_comfort                       25893 non-null  float64\n",
      " 12  inflight_entertainment             25893 non-null  float64\n",
      " 13  on_board_service                   25893 non-null  float64\n",
      " 14  leg_room_service                   25893 non-null  float64\n",
      " 15  baggage_handling                   25893 non-null  float64\n",
      " 16  checkin_service                    25893 non-null  float64\n",
      " 17  inflight_service                   25893 non-null  float64\n",
      " 18  cleanliness                        25893 non-null  float64\n",
      " 19  departure_delay_in_minutes         25893 non-null  float64\n",
      " 20  arrival_delay_in_minutes           25893 non-null  float64\n",
      " 21  gender_Female                      25893 non-null  float64\n",
      " 22  gender_Male                        25893 non-null  float64\n",
      " 23  type_of_travel_business_travel     25893 non-null  float64\n",
      " 24  type_of_travel_personal_travel     25893 non-null  float64\n",
      "dtypes: float64(23), int64(2)\n",
      "memory usage: 4.9 MB\n"
     ]
    }
   ],
   "source": [
    "X_test.info()"
   ]
  },
  {
   "cell_type": "markdown",
   "id": "0c310842",
   "metadata": {},
   "source": [
    "## 2.0.2 - Variável resposta: informações gerais"
   ]
  },
  {
   "cell_type": "markdown",
   "id": "8972b737",
   "metadata": {},
   "source": [
    "O nível de satisfação geral - **satisfaction** (*satisfied*, *neutral or dissatisfied*) - fora codificado nas variáveis binárias:</br>\n",
    "- **0** para **neutral or dissatisfied**</br>\n",
    "- **1** para **satisfied**."
   ]
  },
  {
   "cell_type": "code",
   "execution_count": 18,
   "id": "35ba95cf",
   "metadata": {
    "ExecuteTime": {
     "end_time": "2024-10-05T16:56:12.253503Z",
     "start_time": "2024-10-05T16:56:12.226605Z"
    }
   },
   "outputs": [],
   "source": [
    "# renomeia a coluna '0' com o nome original 'satisfaction'\n",
    "y_train = y_train.rename(columns = {'0': 'satisfaction'})\n",
    "y_val = y_val.rename(columns = {'0': 'satisfaction'})\n",
    "y_test = y_test.rename(columns = {'0': 'satisfaction'})"
   ]
  },
  {
   "cell_type": "code",
   "execution_count": 20,
   "id": "39c5ee32",
   "metadata": {
    "ExecuteTime": {
     "end_time": "2024-10-05T16:56:21.689693Z",
     "start_time": "2024-10-05T16:56:21.667781Z"
    }
   },
   "outputs": [
    {
     "name": "stdout",
     "output_type": "stream",
     "text": [
      "<class 'pandas.core.frame.DataFrame'>\n",
      "RangeIndex: 72515 entries, 0 to 72514\n",
      "Data columns (total 1 columns):\n",
      " #   Column        Non-Null Count  Dtype\n",
      "---  ------        --------------  -----\n",
      " 0   satisfaction  72515 non-null  int64\n",
      "dtypes: int64(1)\n",
      "memory usage: 566.6 KB\n"
     ]
    }
   ],
   "source": [
    "y_train.info()"
   ]
  },
  {
   "cell_type": "code",
   "execution_count": 21,
   "id": "fe5035d7",
   "metadata": {
    "ExecuteTime": {
     "end_time": "2024-10-05T16:56:25.797712Z",
     "start_time": "2024-10-05T16:56:25.770493Z"
    }
   },
   "outputs": [
    {
     "name": "stdout",
     "output_type": "stream",
     "text": [
      "<class 'pandas.core.frame.DataFrame'>\n",
      "RangeIndex: 31079 entries, 0 to 31078\n",
      "Data columns (total 1 columns):\n",
      " #   Column        Non-Null Count  Dtype\n",
      "---  ------        --------------  -----\n",
      " 0   satisfaction  31079 non-null  int64\n",
      "dtypes: int64(1)\n",
      "memory usage: 242.9 KB\n"
     ]
    }
   ],
   "source": [
    "y_val.info()"
   ]
  },
  {
   "cell_type": "code",
   "execution_count": 22,
   "id": "8928dd2f",
   "metadata": {
    "ExecuteTime": {
     "end_time": "2024-10-05T16:56:28.760399Z",
     "start_time": "2024-10-05T16:56:28.737447Z"
    }
   },
   "outputs": [
    {
     "name": "stdout",
     "output_type": "stream",
     "text": [
      "<class 'pandas.core.frame.DataFrame'>\n",
      "RangeIndex: 25893 entries, 0 to 25892\n",
      "Data columns (total 1 columns):\n",
      " #   Column        Non-Null Count  Dtype\n",
      "---  ------        --------------  -----\n",
      " 0   satisfaction  25893 non-null  int64\n",
      "dtypes: int64(1)\n",
      "memory usage: 202.4 KB\n"
     ]
    }
   ],
   "source": [
    "y_test.info()"
   ]
  },
  {
   "cell_type": "markdown",
   "id": "c790ac78",
   "metadata": {},
   "source": [
    "Observamos que a distribuição das classes está muito próxima em todos os conjuntos de dados: \n",
    "- classe **0** (aprox. 57%) \n",
    "- classe **1** (aprox. 43%).\n",
    "\n",
    "Ou seja, houve coerência de manter as proporções após a divisão dos dados."
   ]
  },
  {
   "cell_type": "code",
   "execution_count": 26,
   "id": "9eb89fcf",
   "metadata": {
    "ExecuteTime": {
     "end_time": "2024-10-05T17:07:25.146710Z",
     "start_time": "2024-10-05T17:07:25.121797Z"
    }
   },
   "outputs": [
    {
     "data": {
      "text/html": [
       "<div>\n",
       "<style scoped>\n",
       "    .dataframe tbody tr th:only-of-type {\n",
       "        vertical-align: middle;\n",
       "    }\n",
       "\n",
       "    .dataframe tbody tr th {\n",
       "        vertical-align: top;\n",
       "    }\n",
       "\n",
       "    .dataframe thead th {\n",
       "        text-align: right;\n",
       "    }\n",
       "</style>\n",
       "<table border=\"1\" class=\"dataframe\">\n",
       "  <thead>\n",
       "    <tr style=\"text-align: right;\">\n",
       "      <th></th>\n",
       "      <th>Train</th>\n",
       "      <th>Validation</th>\n",
       "      <th>Test</th>\n",
       "    </tr>\n",
       "    <tr>\n",
       "      <th>satisfaction</th>\n",
       "      <th></th>\n",
       "      <th></th>\n",
       "      <th></th>\n",
       "    </tr>\n",
       "  </thead>\n",
       "  <tbody>\n",
       "    <tr>\n",
       "      <th>0</th>\n",
       "      <td>56.66%</td>\n",
       "      <td>56.66%</td>\n",
       "      <td>56.11%</td>\n",
       "    </tr>\n",
       "    <tr>\n",
       "      <th>1</th>\n",
       "      <td>43.34%</td>\n",
       "      <td>43.34%</td>\n",
       "      <td>43.89%</td>\n",
       "    </tr>\n",
       "  </tbody>\n",
       "</table>\n",
       "</div>"
      ],
      "text/plain": [
       "               Train Validation    Test\n",
       "satisfaction                           \n",
       "0             56.66%     56.66%  56.11%\n",
       "1             43.34%     43.34%  43.89%"
      ]
     },
     "execution_count": 26,
     "metadata": {},
     "output_type": "execute_result"
    }
   ],
   "source": [
    "df_counts = pd.DataFrame({'Train': y_train.value_counts(normalize=True),\n",
    "                          'Validation': y_val.value_counts(normalize=True),\n",
    "                          'Test': y_test.value_counts(normalize=True)})\n",
    "\n",
    "df_counts = df_counts.applymap(lambda x: '{:.2f}%'.format(x*100))\n",
    "df_counts"
   ]
  }
 ],
 "metadata": {
  "kernelspec": {
   "display_name": "Python 3 (ipykernel)",
   "language": "python",
   "name": "python3"
  },
  "language_info": {
   "codemirror_mode": {
    "name": "ipython",
    "version": 3
   },
   "file_extension": ".py",
   "mimetype": "text/x-python",
   "name": "python",
   "nbconvert_exporter": "python",
   "pygments_lexer": "ipython3",
   "version": "3.9.12"
  }
 },
 "nbformat": 4,
 "nbformat_minor": 5
}
