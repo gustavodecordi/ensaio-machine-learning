{
 "cells": [
  {
   "cell_type": "markdown",
   "id": "4b49344d",
   "metadata": {},
   "source": [
    "# 0.0 - K Nearest Neighbors\n",
    "\n",
    "O parâmetro utilizado para treinar o algoritmo **KNN** será o número de vizinhos mais próximos (*int*), `n_neighbors`. O valor padrão é `k=5` segundo a documentação oficial consultada na página:\n",
    "\n",
    "https://scikit-learn.org/stable/modules/generated/sklearn.neighbors.KNeighborsClassifier.html"
   ]
  },
  {
   "cell_type": "markdown",
   "id": "36423cbb-b6e9-4d0a-ba2f-8182d4b4701c",
   "metadata": {},
   "source": [
    "# 1.0 - Importando bibliotecas"
   ]
  },
  {
   "cell_type": "code",
   "execution_count": 1,
   "id": "41aa5eb6-1cb2-47aa-927b-333ece6af90b",
   "metadata": {
    "ExecuteTime": {
     "end_time": "2024-10-24T01:04:38.063740Z",
     "start_time": "2024-10-24T01:04:34.561329Z"
    }
   },
   "outputs": [],
   "source": [
    "import pandas as pd\n",
    "import numpy as np\n",
    "from sklearn.neighbors import KNeighborsClassifier\n",
    "from sklearn import metrics as mt\n",
    "from matplotlib import pyplot as plt"
   ]
  },
  {
   "cell_type": "markdown",
   "id": "ac57138d-39ca-497d-b5cc-c0b7ad549dc9",
   "metadata": {},
   "source": [
    "# 2.0 - Carregando os dados"
   ]
  },
  {
   "cell_type": "code",
   "execution_count": 3,
   "id": "25119612-b5e0-49fd-8b61-21f29b86c617",
   "metadata": {
    "ExecuteTime": {
     "end_time": "2024-10-24T01:05:02.246565Z",
     "start_time": "2024-10-24T01:05:01.761349Z"
    }
   },
   "outputs": [],
   "source": [
    "# Treino\n",
    "X_train = pd.read_csv('data/train/X_training.csv')\n",
    "y_train = pd.read_csv('data/train/y_training.csv')\n",
    "\n",
    "# Validação\n",
    "X_val = pd.read_csv('data/validation/X_validation.csv')\n",
    "y_val = pd.read_csv('data/validation/y_validation.csv')\n",
    "\n",
    "# Teste\n",
    "X_test = pd.read_csv('data/test/X_test.csv')\n",
    "y_test = pd.read_csv('data/test/y_test.csv')"
   ]
  },
  {
   "cell_type": "markdown",
   "id": "e59a681a",
   "metadata": {},
   "source": [
    "# 3.0 - Funções"
   ]
  },
  {
   "cell_type": "code",
   "execution_count": 17,
   "id": "7b4e5202",
   "metadata": {
    "ExecuteTime": {
     "end_time": "2024-10-24T01:16:39.539414Z",
     "start_time": "2024-10-24T01:16:39.528369Z"
    }
   },
   "outputs": [],
   "source": [
    "def metrics(y, y_pred, step, algorithm):\n",
    "    \"\"\"\n",
    "    Calcula várias métricas de avaliação de um modelo de classificação e as retorna em um DataFrame.\n",
    "\n",
    "    Parâmetros:\n",
    "    -----------\n",
    "    y : array-like\n",
    "        Valores da variável resposta.\n",
    "    \n",
    "    y_pred : array-like\n",
    "        Valores preditos pelo modelo.\n",
    "    \n",
    "    step : str\n",
    "        Etapa do processo de modelagem (ex: 'treino', 'validação', 'teste').\n",
    "    \n",
    "    algorithm : str\n",
    "        Nome do algoritmo usado.\n",
    "\n",
    "    Retorno:\n",
    "    --------\n",
    "    df_metrics : pandas.DataFrame\n",
    "        DataFrame contendo as métricas calculadas:\n",
    "        - 'Algorithm': Nome do algoritmo.\n",
    "        - 'Step': Etapa do processo (treino, validação ou teste).\n",
    "        - 'Accuracy': Valor da Acurácia.\n",
    "        - 'Precision': Valor da Precision.\n",
    "        - 'Recall': Valor da Recall.\n",
    "        - 'F1-Score': Valor de F1-Score.\n",
    "    \"\"\"\n",
    "    # Calcula as métricas\n",
    "    # Observação: considerei a classe positiva como sendo '0', \n",
    "    # de forma que o argumento de 'pos_label' abaixo é nulo.\n",
    "    # Por padrão, o sklearn representa a mesma classe como sendo '1'. \n",
    "    acuracia  = mt.accuracy_score( y, y_pred )\n",
    "    precision = mt.precision_score( y, y_pred, pos_label = 0 )\n",
    "    recall    = mt.recall_score( y, y_pred, pos_label = 0 )\n",
    "    f1        = mt.f1_score( y, y_pred, pos_label = 0 )\n",
    "\n",
    "    # Cria o DataFrame com as métricas\n",
    "    df_metrics = pd.DataFrame({   \n",
    "        'Algorithm': [algorithm],\n",
    "        'Step': [step],\n",
    "        'Accuracy': [np.round(acuracia, 4)],\n",
    "        'Precision': [np.round(precision, 4)],\n",
    "        'Recall': [np.round(recall, 4)],\n",
    "        'F1-Score': [np.round(f1, 4)]\n",
    "    })\n",
    "    \n",
    "    return df_metrics\n",
    "\n",
    "def exporta_excel(nome_algoritmo):\n",
    "    \"\"\"\n",
    "    Exporta os DataFrames de métricas para arquivos Excel em diferentes pastas.\n",
    "\n",
    "    Args:\n",
    "        nome_algoritmo (str): Nome do algoritmo utilizado.\n",
    "\n",
    "    Returns:\n",
    "        None\n",
    "    \"\"\"\n",
    "    etapas = ['train', 'validation', 'test']\n",
    "    df_list = [df_metrics_train, df_metrics_val, df_metrics_test]\n",
    "\n",
    "    for etapa, df in zip(etapas, df_list):\n",
    "        df.to_excel(f'metrics/{etapa}/{nome_algoritmo}_{etapa}.xlsx', index=False)"
   ]
  },
  {
   "cell_type": "markdown",
   "id": "8d44c337",
   "metadata": {},
   "source": [
    "# 4.0 - Ajustando os dados"
   ]
  },
  {
   "cell_type": "code",
   "execution_count": 5,
   "id": "b834b5f3",
   "metadata": {
    "ExecuteTime": {
     "end_time": "2024-10-24T01:05:25.745814Z",
     "start_time": "2024-10-24T01:05:25.680348Z"
    }
   },
   "outputs": [],
   "source": [
    "# Como o atributo 'id' não contribui para o aprendizado do modelo, iremos retirá-lo.\n",
    "X_train, X_val, X_test = [ df.drop(columns = ['id']) for df in [X_train, X_val, X_test] ]"
   ]
  },
  {
   "cell_type": "code",
   "execution_count": 6,
   "id": "abfd01ad",
   "metadata": {
    "ExecuteTime": {
     "end_time": "2024-10-24T01:05:27.420333Z",
     "start_time": "2024-10-24T01:05:27.408336Z"
    }
   },
   "outputs": [],
   "source": [
    "# renomeia a coluna '0' com o nome original 'satisfaction'\n",
    "y_train, y_val, y_test = [ df.rename(columns = {'0': 'satisfaction'}) for df in [y_train, y_val, y_test] ]"
   ]
  },
  {
   "cell_type": "code",
   "execution_count": 7,
   "id": "9abf77c3",
   "metadata": {
    "ExecuteTime": {
     "end_time": "2024-10-24T01:05:28.851345Z",
     "start_time": "2024-10-24T01:05:28.832338Z"
    }
   },
   "outputs": [],
   "source": [
    "# transformação do formato DataFrame para Series, essencialmente um array unidimensional\n",
    "y_train, y_val, y_test = [ df.loc[:, 'satisfaction'] for df in [y_train, y_val, y_test] ]"
   ]
  },
  {
   "cell_type": "markdown",
   "id": "40bc3663-8385-4dfc-bb9a-b683528bf09c",
   "metadata": {},
   "source": [
    "# 5.0 - Desempenho do modelo\n",
    "\n",
    "## 5.1 - Dados de treino"
   ]
  },
  {
   "cell_type": "code",
   "execution_count": 8,
   "id": "a605808d-9326-4cf7-b5ff-d4575a366440",
   "metadata": {
    "ExecuteTime": {
     "end_time": "2024-10-24T01:05:48.748001Z",
     "start_time": "2024-10-24T01:05:36.105073Z"
    }
   },
   "outputs": [
    {
     "data": {
      "text/html": [
       "<div>\n",
       "<style scoped>\n",
       "    .dataframe tbody tr th:only-of-type {\n",
       "        vertical-align: middle;\n",
       "    }\n",
       "\n",
       "    .dataframe tbody tr th {\n",
       "        vertical-align: top;\n",
       "    }\n",
       "\n",
       "    .dataframe thead th {\n",
       "        text-align: right;\n",
       "    }\n",
       "</style>\n",
       "<table border=\"1\" class=\"dataframe\">\n",
       "  <thead>\n",
       "    <tr style=\"text-align: right;\">\n",
       "      <th></th>\n",
       "      <th>Algorithm</th>\n",
       "      <th>Step</th>\n",
       "      <th>Accuracy</th>\n",
       "      <th>Precision</th>\n",
       "      <th>Recall</th>\n",
       "      <th>F1-Score</th>\n",
       "    </tr>\n",
       "  </thead>\n",
       "  <tbody>\n",
       "    <tr>\n",
       "      <th>0</th>\n",
       "      <td>K-Nearest Neighbors</td>\n",
       "      <td>Train</td>\n",
       "      <td>0.9476</td>\n",
       "      <td>0.9323</td>\n",
       "      <td>0.9786</td>\n",
       "      <td>0.9549</td>\n",
       "    </tr>\n",
       "  </tbody>\n",
       "</table>\n",
       "</div>"
      ],
      "text/plain": [
       "             Algorithm   Step  Accuracy  Precision  Recall  F1-Score\n",
       "0  K-Nearest Neighbors  Train    0.9476     0.9323  0.9786    0.9549"
      ]
     },
     "execution_count": 8,
     "metadata": {},
     "output_type": "execute_result"
    }
   ],
   "source": [
    "# Definição do modelo\n",
    "# O valor padrão de k segundo a documentação oficial eh 'k' = 5\n",
    "knn_train = KNeighborsClassifier()\n",
    "\n",
    "# Treinamento do algoritmo\n",
    "knn_train.fit(X_train, y_train)\n",
    "\n",
    "# Predição sobre os dados de treino\n",
    "y_pred_train = knn_train.predict(X_train)\n",
    "\n",
    "# Métricas\n",
    "df_metrics_train = metrics(y_train, y_pred_train, 'Train', 'K-Nearest Neighbors')\n",
    "df_metrics_train"
   ]
  },
  {
   "cell_type": "markdown",
   "id": "2578bc51",
   "metadata": {},
   "source": [
    "## 5.2 - Dados de validação"
   ]
  },
  {
   "cell_type": "code",
   "execution_count": 9,
   "id": "dd0334c3-5e68-44ca-a132-8cd7c631dd3c",
   "metadata": {
    "ExecuteTime": {
     "end_time": "2024-10-24T01:06:51.791883Z",
     "start_time": "2024-10-24T01:06:46.103844Z"
    }
   },
   "outputs": [
    {
     "data": {
      "text/html": [
       "<div>\n",
       "<style scoped>\n",
       "    .dataframe tbody tr th:only-of-type {\n",
       "        vertical-align: middle;\n",
       "    }\n",
       "\n",
       "    .dataframe tbody tr th {\n",
       "        vertical-align: top;\n",
       "    }\n",
       "\n",
       "    .dataframe thead th {\n",
       "        text-align: right;\n",
       "    }\n",
       "</style>\n",
       "<table border=\"1\" class=\"dataframe\">\n",
       "  <thead>\n",
       "    <tr style=\"text-align: right;\">\n",
       "      <th></th>\n",
       "      <th>Algorithm</th>\n",
       "      <th>Step</th>\n",
       "      <th>Accuracy</th>\n",
       "      <th>Precision</th>\n",
       "      <th>Recall</th>\n",
       "      <th>F1-Score</th>\n",
       "    </tr>\n",
       "  </thead>\n",
       "  <tbody>\n",
       "    <tr>\n",
       "      <th>0</th>\n",
       "      <td>K-Nearest Neighbors</td>\n",
       "      <td>Validation</td>\n",
       "      <td>0.9252</td>\n",
       "      <td>0.9096</td>\n",
       "      <td>0.9638</td>\n",
       "      <td>0.9359</td>\n",
       "    </tr>\n",
       "  </tbody>\n",
       "</table>\n",
       "</div>"
      ],
      "text/plain": [
       "             Algorithm        Step  Accuracy  Precision  Recall  F1-Score\n",
       "0  K-Nearest Neighbors  Validation    0.9252     0.9096  0.9638    0.9359"
      ]
     },
     "execution_count": 9,
     "metadata": {},
     "output_type": "execute_result"
    }
   ],
   "source": [
    "# Definição do modelo\n",
    "knn_val = KNeighborsClassifier()\n",
    "\n",
    "# Treinamento do algoritmo\n",
    "knn_val.fit(X_train, y_train)\n",
    "\n",
    "# Predição sobre os dados de validação\n",
    "y_pred_val = knn_val.predict(X_val)\n",
    "\n",
    "# Métricas\n",
    "df_metrics_val = metrics(y_val, y_pred_val, 'Validation', 'K-Nearest Neighbors')\n",
    "df_metrics_val"
   ]
  },
  {
   "cell_type": "markdown",
   "id": "cfab3dff-7dbb-4ccf-97c9-74c579e0dc05",
   "metadata": {},
   "source": [
    "## 5.3 - Ajuste fino dos hiperparâmetros (Etapa de *Fine Tuning*)"
   ]
  },
  {
   "cell_type": "code",
   "execution_count": 10,
   "id": "ec514d86-f3c1-4b19-8be9-50390e04743e",
   "metadata": {
    "ExecuteTime": {
     "end_time": "2024-10-24T01:09:07.809798Z",
     "start_time": "2024-10-24T01:07:43.800181Z"
    }
   },
   "outputs": [],
   "source": [
    "# array para os valores testados de k (primeiros vizinhos)\n",
    "k_array = np.arange(3, 30, 2)   \n",
    "\n",
    "# Criar DataFrame para armazenar resultados\n",
    "metrics_df = pd.DataFrame(columns=['k', 'accuracy', 'precision', 'recall', 'f1_score'])\n",
    "\n",
    "for k in k_array:\n",
    "    # modelo\n",
    "    knn_classifier = KNeighborsClassifier(n_neighbors = k)\n",
    "\n",
    "    # treinamento do algoritmo. \n",
    "    knn_classifier.fit(X_train, y_train)\n",
    "    \n",
    "    # Array de predições \n",
    "    y_pred = knn_classifier.predict(X_val)\n",
    "    \n",
    "    # Calcular métricas de performance\n",
    "    acuracia = mt.accuracy_score( y_val, y_pred)\n",
    "    precision = mt.precision_score( y_val, y_pred, pos_label = 0)\n",
    "    recall = mt.recall_score( y_val, y_pred, pos_label = 0)\n",
    "    f1 = mt.f1_score( y_val, y_pred, pos_label = 0)\n",
    "    \n",
    "    # Armazenar os resultados em uma nova linha como DataFrame\n",
    "    new_row = pd.DataFrame({\n",
    "        'k': [k],\n",
    "        'accuracy': [acuracia],\n",
    "        'precision': [precision],\n",
    "        'recall': [recall],\n",
    "        'f1_score': [f1]\n",
    "    })\n",
    "\n",
    "    # Concatenar a nova linha ao DataFrame existente\n",
    "    metrics_df = pd.concat([metrics_df, new_row], ignore_index=True)"
   ]
  },
  {
   "cell_type": "code",
   "execution_count": 11,
   "id": "35600f0f",
   "metadata": {
    "ExecuteTime": {
     "end_time": "2024-10-24T01:09:21.822003Z",
     "start_time": "2024-10-24T01:09:21.800214Z"
    }
   },
   "outputs": [
    {
     "data": {
      "text/html": [
       "<div>\n",
       "<style scoped>\n",
       "    .dataframe tbody tr th:only-of-type {\n",
       "        vertical-align: middle;\n",
       "    }\n",
       "\n",
       "    .dataframe tbody tr th {\n",
       "        vertical-align: top;\n",
       "    }\n",
       "\n",
       "    .dataframe thead th {\n",
       "        text-align: right;\n",
       "    }\n",
       "</style>\n",
       "<table border=\"1\" class=\"dataframe\">\n",
       "  <thead>\n",
       "    <tr style=\"text-align: right;\">\n",
       "      <th></th>\n",
       "      <th>k</th>\n",
       "      <th>accuracy</th>\n",
       "      <th>precision</th>\n",
       "      <th>recall</th>\n",
       "      <th>f1_score</th>\n",
       "    </tr>\n",
       "  </thead>\n",
       "  <tbody>\n",
       "    <tr>\n",
       "      <th>0</th>\n",
       "      <td>3</td>\n",
       "      <td>0.923517</td>\n",
       "      <td>0.910659</td>\n",
       "      <td>0.959114</td>\n",
       "      <td>0.934259</td>\n",
       "    </tr>\n",
       "    <tr>\n",
       "      <th>1</th>\n",
       "      <td>5</td>\n",
       "      <td>0.925223</td>\n",
       "      <td>0.909593</td>\n",
       "      <td>0.963827</td>\n",
       "      <td>0.935925</td>\n",
       "    </tr>\n",
       "    <tr>\n",
       "      <th>2</th>\n",
       "      <td>7</td>\n",
       "      <td>0.925416</td>\n",
       "      <td>0.908179</td>\n",
       "      <td>0.966042</td>\n",
       "      <td>0.936217</td>\n",
       "    </tr>\n",
       "    <tr>\n",
       "      <th>3</th>\n",
       "      <td>9</td>\n",
       "      <td>0.926027</td>\n",
       "      <td>0.907446</td>\n",
       "      <td>0.968200</td>\n",
       "      <td>0.936839</td>\n",
       "    </tr>\n",
       "    <tr>\n",
       "      <th>4</th>\n",
       "      <td>11</td>\n",
       "      <td>0.926092</td>\n",
       "      <td>0.906806</td>\n",
       "      <td>0.969165</td>\n",
       "      <td>0.936949</td>\n",
       "    </tr>\n",
       "    <tr>\n",
       "      <th>5</th>\n",
       "      <td>13</td>\n",
       "      <td>0.926478</td>\n",
       "      <td>0.906822</td>\n",
       "      <td>0.969903</td>\n",
       "      <td>0.937303</td>\n",
       "    </tr>\n",
       "    <tr>\n",
       "      <th>6</th>\n",
       "      <td>15</td>\n",
       "      <td>0.926510</td>\n",
       "      <td>0.906482</td>\n",
       "      <td>0.970415</td>\n",
       "      <td>0.937359</td>\n",
       "    </tr>\n",
       "    <tr>\n",
       "      <th>7</th>\n",
       "      <td>17</td>\n",
       "      <td>0.925705</td>\n",
       "      <td>0.905410</td>\n",
       "      <td>0.970244</td>\n",
       "      <td>0.936707</td>\n",
       "    </tr>\n",
       "    <tr>\n",
       "      <th>8</th>\n",
       "      <td>19</td>\n",
       "      <td>0.925963</td>\n",
       "      <td>0.905622</td>\n",
       "      <td>0.970471</td>\n",
       "      <td>0.936926</td>\n",
       "    </tr>\n",
       "    <tr>\n",
       "      <th>9</th>\n",
       "      <td>21</td>\n",
       "      <td>0.925126</td>\n",
       "      <td>0.904462</td>\n",
       "      <td>0.970358</td>\n",
       "      <td>0.936252</td>\n",
       "    </tr>\n",
       "    <tr>\n",
       "      <th>10</th>\n",
       "      <td>23</td>\n",
       "      <td>0.925223</td>\n",
       "      <td>0.904392</td>\n",
       "      <td>0.970642</td>\n",
       "      <td>0.936346</td>\n",
       "    </tr>\n",
       "    <tr>\n",
       "      <th>11</th>\n",
       "      <td>25</td>\n",
       "      <td>0.924032</td>\n",
       "      <td>0.902965</td>\n",
       "      <td>0.970187</td>\n",
       "      <td>0.935370</td>\n",
       "    </tr>\n",
       "    <tr>\n",
       "      <th>12</th>\n",
       "      <td>27</td>\n",
       "      <td>0.923357</td>\n",
       "      <td>0.902176</td>\n",
       "      <td>0.969903</td>\n",
       "      <td>0.934815</td>\n",
       "    </tr>\n",
       "    <tr>\n",
       "      <th>13</th>\n",
       "      <td>29</td>\n",
       "      <td>0.922327</td>\n",
       "      <td>0.900865</td>\n",
       "      <td>0.969620</td>\n",
       "      <td>0.933979</td>\n",
       "    </tr>\n",
       "  </tbody>\n",
       "</table>\n",
       "</div>"
      ],
      "text/plain": [
       "     k  accuracy  precision    recall  f1_score\n",
       "0    3  0.923517   0.910659  0.959114  0.934259\n",
       "1    5  0.925223   0.909593  0.963827  0.935925\n",
       "2    7  0.925416   0.908179  0.966042  0.936217\n",
       "3    9  0.926027   0.907446  0.968200  0.936839\n",
       "4   11  0.926092   0.906806  0.969165  0.936949\n",
       "5   13  0.926478   0.906822  0.969903  0.937303\n",
       "6   15  0.926510   0.906482  0.970415  0.937359\n",
       "7   17  0.925705   0.905410  0.970244  0.936707\n",
       "8   19  0.925963   0.905622  0.970471  0.936926\n",
       "9   21  0.925126   0.904462  0.970358  0.936252\n",
       "10  23  0.925223   0.904392  0.970642  0.936346\n",
       "11  25  0.924032   0.902965  0.970187  0.935370\n",
       "12  27  0.923357   0.902176  0.969903  0.934815\n",
       "13  29  0.922327   0.900865  0.969620  0.933979"
      ]
     },
     "execution_count": 11,
     "metadata": {},
     "output_type": "execute_result"
    }
   ],
   "source": [
    "# DataFrame com os valores das métricas de performance para os valores de k testados\n",
    "metrics_df"
   ]
  },
  {
   "cell_type": "code",
   "execution_count": 12,
   "id": "9c923f78-1369-4d54-bb2b-82ea1f95f5e9",
   "metadata": {
    "ExecuteTime": {
     "end_time": "2024-10-24T01:09:32.313576Z",
     "start_time": "2024-10-24T01:09:31.941266Z"
    }
   },
   "outputs": [
    {
     "data": {
      "image/png": "[encoded data removed]",
      "text/plain": [
       "<Figure size 640x480 with 1 Axes>"
      ]
     },
     "metadata": {},
     "output_type": "display_data"
    }
   ],
   "source": [
    "# Gráficos de cada métrica pelos k-vizinhos\n",
    "plt.plot(k_array, metrics_df['accuracy'], marker=\"o\", label=\"Accuracy\")\n",
    "plt.plot(k_array, metrics_df['precision'], marker=\"o\", label=\"Precision\")\n",
    "plt.plot(k_array, metrics_df['recall'], marker=\"o\", label=\"Recall\")\n",
    "plt.plot(k_array, metrics_df['f1_score'], marker=\"o\", label=\"F1 Score\")\n",
    "plt.xlabel(\"K-Neighbors\")\n",
    "plt.ylabel(\"Metrics\")\n",
    "plt.legend();"
   ]
  },
  {
   "cell_type": "markdown",
   "id": "ed1d47cf",
   "metadata": {},
   "source": [
    "Como o objetivo principal da pesquisa é identificar os clientes insatisfeitos para tomar ações corretivas, o *recall* é a figura de mérito mais relevante.  \n",
    "Assim, um alto *recall* garante que a maioria dos clientes insatisfeitos seja corretamente identificada.  \n",
    "O melhor valor de *k* é aquele que produz o maior valor da métrica de interesse."
   ]
  },
  {
   "cell_type": "code",
   "execution_count": 13,
   "id": "7e55b4fa",
   "metadata": {
    "ExecuteTime": {
     "end_time": "2024-10-24T01:09:42.411105Z",
     "start_time": "2024-10-24T01:09:42.391964Z"
    }
   },
   "outputs": [
    {
     "data": {
      "text/html": [
       "<div>\n",
       "<style scoped>\n",
       "    .dataframe tbody tr th:only-of-type {\n",
       "        vertical-align: middle;\n",
       "    }\n",
       "\n",
       "    .dataframe tbody tr th {\n",
       "        vertical-align: top;\n",
       "    }\n",
       "\n",
       "    .dataframe thead th {\n",
       "        text-align: right;\n",
       "    }\n",
       "</style>\n",
       "<table border=\"1\" class=\"dataframe\">\n",
       "  <thead>\n",
       "    <tr style=\"text-align: right;\">\n",
       "      <th></th>\n",
       "      <th>k</th>\n",
       "      <th>accuracy</th>\n",
       "      <th>precision</th>\n",
       "      <th>recall</th>\n",
       "      <th>f1_score</th>\n",
       "    </tr>\n",
       "  </thead>\n",
       "  <tbody>\n",
       "    <tr>\n",
       "      <th>10</th>\n",
       "      <td>23</td>\n",
       "      <td>0.925223</td>\n",
       "      <td>0.904392</td>\n",
       "      <td>0.970642</td>\n",
       "      <td>0.936346</td>\n",
       "    </tr>\n",
       "  </tbody>\n",
       "</table>\n",
       "</div>"
      ],
      "text/plain": [
       "     k  accuracy  precision    recall  f1_score\n",
       "10  23  0.925223   0.904392  0.970642  0.936346"
      ]
     },
     "execution_count": 13,
     "metadata": {},
     "output_type": "execute_result"
    }
   ],
   "source": [
    "metrics_df.sort_values(by='recall', ascending=False).head(1)"
   ]
  },
  {
   "cell_type": "code",
   "execution_count": 14,
   "id": "e2d7ded8-95f9-469d-affe-fd8fef86f172",
   "metadata": {
    "ExecuteTime": {
     "end_time": "2024-10-24T01:09:44.359458Z",
     "start_time": "2024-10-24T01:09:44.351479Z"
    }
   },
   "outputs": [],
   "source": [
    "# melhor valor de k\n",
    "best_k = 23"
   ]
  },
  {
   "cell_type": "markdown",
   "id": "bc89995e-b92b-44f8-9cfa-9fc50501f7ab",
   "metadata": {},
   "source": [
    "## 5.4 - Desempenho do modelo para os dados de teste"
   ]
  },
  {
   "cell_type": "code",
   "execution_count": 15,
   "id": "a5698dfc-43a1-400f-acf9-1803981c7881",
   "metadata": {
    "ExecuteTime": {
     "end_time": "2024-10-24T01:10:28.301517Z",
     "start_time": "2024-10-24T01:10:21.711898Z"
    }
   },
   "outputs": [
    {
     "data": {
      "text/html": [
       "<div>\n",
       "<style scoped>\n",
       "    .dataframe tbody tr th:only-of-type {\n",
       "        vertical-align: middle;\n",
       "    }\n",
       "\n",
       "    .dataframe tbody tr th {\n",
       "        vertical-align: top;\n",
       "    }\n",
       "\n",
       "    .dataframe thead th {\n",
       "        text-align: right;\n",
       "    }\n",
       "</style>\n",
       "<table border=\"1\" class=\"dataframe\">\n",
       "  <thead>\n",
       "    <tr style=\"text-align: right;\">\n",
       "      <th></th>\n",
       "      <th>Algorithm</th>\n",
       "      <th>Step</th>\n",
       "      <th>Accuracy</th>\n",
       "      <th>Precision</th>\n",
       "      <th>Recall</th>\n",
       "      <th>F1-Score</th>\n",
       "    </tr>\n",
       "  </thead>\n",
       "  <tbody>\n",
       "    <tr>\n",
       "      <th>0</th>\n",
       "      <td>K-Nearest Neighbors</td>\n",
       "      <td>Test</td>\n",
       "      <td>0.9263</td>\n",
       "      <td>0.9058</td>\n",
       "      <td>0.9694</td>\n",
       "      <td>0.9366</td>\n",
       "    </tr>\n",
       "  </tbody>\n",
       "</table>\n",
       "</div>"
      ],
      "text/plain": [
       "             Algorithm  Step  Accuracy  Precision  Recall  F1-Score\n",
       "0  K-Nearest Neighbors  Test    0.9263     0.9058  0.9694    0.9366"
      ]
     },
     "execution_count": 15,
     "metadata": {},
     "output_type": "execute_result"
    }
   ],
   "source": [
    "# Definição do modelo\n",
    "knn_test = KNeighborsClassifier(n_neighbors = 23)\n",
    "\n",
    "# Juntar os dados de treino e validação\n",
    "knn_test.fit( pd.concat( [X_train, X_val] ),\n",
    "              pd.concat( [y_train, y_val] ) )\n",
    "\n",
    "# Predições sobre os dados de teste\n",
    "y_pred_test = knn_test.predict( X_test )\n",
    "\n",
    "# Métricas\n",
    "df_metrics_test = metrics(y_test, y_pred_test, 'Test', 'K-Nearest Neighbors')\n",
    "df_metrics_test"
   ]
  },
  {
   "cell_type": "markdown",
   "id": "c21323ef",
   "metadata": {},
   "source": [
    "# 6.0 - Gera as planilhas com os resultados"
   ]
  },
  {
   "cell_type": "code",
   "execution_count": 18,
   "id": "8b73cd3e-36ab-4851-87ca-6a3b805709e8",
   "metadata": {
    "ExecuteTime": {
     "end_time": "2024-10-24T01:16:51.707683Z",
     "start_time": "2024-10-24T01:16:51.647671Z"
    }
   },
   "outputs": [],
   "source": [
    "exporta_excel('K_Nearest_Neighbors')"
   ]
  }
 ],
 "metadata": {
  "kernelspec": {
   "display_name": "Python 3 (ipykernel)",
   "language": "python",
   "name": "python3"
  },
  "language_info": {
   "codemirror_mode": {
    "name": "ipython",
    "version": 3
   },
   "file_extension": ".py",
   "mimetype": "text/x-python",
   "name": "python",
   "nbconvert_exporter": "python",
   "pygments_lexer": "ipython3",
   "version": "3.9.12"
  }
 },
 "nbformat": 4,
 "nbformat_minor": 5
}
