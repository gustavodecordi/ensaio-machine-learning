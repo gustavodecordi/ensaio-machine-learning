{
 "cells": [
  {
   "cell_type": "markdown",
   "id": "4d57a417",
   "metadata": {},
   "source": [
    "# 0.0 - Decision Tree\n",
    "\n",
    "O parâmetro utilizado para treinar o algoritmo **Decision Tree** será a profundidade máxima da árvore, o `max_depth`. O valor padrão é `None` segundo a documentação oficial acessada na página:\n",
    "\n",
    "https://scikit-learn.org/stable/modules/generated/sklearn.tree.DecisionTreeClassifier.html\n",
    "\n",
    "- `max_depth`: *\"The maximum depth of the tree. If `None`, then nodes are expanded until all leaves are pure or until all leaves contain less than **min_samples_split** samples\"*.\n",
    "\n",
    "*Por padrão, a árvore se expande até que todas as folhas sejam puras ou até que contenham um número de amostras menor que o valor default do parâmetro `min_samples_split`, 2 amostras*."
   ]
  },
  {
   "cell_type": "markdown",
   "id": "0e5223bd-2886-43c5-82ad-024502a76dc8",
   "metadata": {},
   "source": [
    "# 1.0 - Importando bibliotecas"
   ]
  },
  {
   "cell_type": "code",
   "execution_count": 1,
   "id": "62407b8e-6a27-46a6-9c61-321b05dd60dd",
   "metadata": {
    "ExecuteTime": {
     "end_time": "2024-10-24T01:26:53.275418Z",
     "start_time": "2024-10-24T01:26:51.006991Z"
    }
   },
   "outputs": [],
   "source": [
    "import pandas as pd\n",
    "import numpy as np\n",
    "from sklearn import tree as tr\n",
    "from sklearn import metrics as mt\n",
    "from matplotlib import pyplot as plt"
   ]
  },
  {
   "cell_type": "markdown",
   "id": "30e320df-3009-48cb-8da8-9f13be825f1d",
   "metadata": {},
   "source": [
    "# 2.0 - Carregando os dados"
   ]
  },
  {
   "cell_type": "code",
   "execution_count": 2,
   "id": "7c08d0bf-7bda-4a61-9d0b-11226a317a44",
   "metadata": {
    "ExecuteTime": {
     "end_time": "2024-10-24T01:26:53.786062Z",
     "start_time": "2024-10-24T01:26:53.278531Z"
    }
   },
   "outputs": [],
   "source": [
    "# Treino\n",
    "X_train = pd.read_csv('data/train/X_training.csv')\n",
    "y_train = pd.read_csv('data/train/y_training.csv')\n",
    "\n",
    "# Validação\n",
    "X_val = pd.read_csv('data/validation/X_validation.csv')\n",
    "y_val = pd.read_csv('data/validation/y_validation.csv')\n",
    "\n",
    "# Teste\n",
    "X_test = pd.read_csv('data/test/X_test.csv')\n",
    "y_test = pd.read_csv('data/test/y_test.csv')"
   ]
  },
  {
   "cell_type": "markdown",
   "id": "27a98695",
   "metadata": {},
   "source": [
    "# 3.0 - Funções"
   ]
  },
  {
   "cell_type": "code",
   "execution_count": 3,
   "id": "0fff5cc5",
   "metadata": {
    "ExecuteTime": {
     "end_time": "2024-10-24T01:27:15.639388Z",
     "start_time": "2024-10-24T01:27:15.629474Z"
    }
   },
   "outputs": [],
   "source": [
    "def metrics(y, y_pred, step, algorithm):\n",
    "    \"\"\"\n",
    "    Calcula várias métricas de avaliação de um modelo de classificação e as retorna em um DataFrame.\n",
    "\n",
    "    Parâmetros:\n",
    "    -----------\n",
    "    y : array-like\n",
    "        Valores da variável resposta.\n",
    "    \n",
    "    y_pred : array-like\n",
    "        Valores preditos pelo modelo.\n",
    "    \n",
    "    step : str\n",
    "        Etapa do processo de modelagem (ex: 'treino', 'validação', 'teste').\n",
    "    \n",
    "    algorithm : str\n",
    "        Nome do algoritmo usado.\n",
    "\n",
    "    Retorno:\n",
    "    --------\n",
    "    df_metrics : pandas.DataFrame\n",
    "        DataFrame contendo as métricas calculadas:\n",
    "        - 'Algorithm': Nome do algoritmo.\n",
    "        - 'Step': Etapa do processo (treino, validação ou teste).\n",
    "        - 'Accuracy': Valor da Acurácia.\n",
    "        - 'Precision': Valor da Precision.\n",
    "        - 'Recall': Valor da Recall.\n",
    "        - 'F1-Score': Valor de F1-Score.\n",
    "    \"\"\"\n",
    "    # Calcula as métricas\n",
    "    # Observação: considerei a classe positiva como sendo '0', \n",
    "    # de forma que o argumento de 'pos_label' abaixo é nulo.\n",
    "    # Por padrão, o sklearn representa a mesma classe como sendo '1'. \n",
    "    acuracia  = mt.accuracy_score( y, y_pred )\n",
    "    precision = mt.precision_score( y, y_pred, pos_label = 0 )\n",
    "    recall    = mt.recall_score( y, y_pred, pos_label = 0 )\n",
    "    f1        = mt.f1_score( y, y_pred, pos_label = 0 )\n",
    "\n",
    "    # Cria o DataFrame com as métricas\n",
    "    df_metrics = pd.DataFrame({   \n",
    "        'Algorithm': [algorithm],\n",
    "        'Step': [step],\n",
    "        'Accuracy': [np.round(acuracia, 4)],\n",
    "        'Precision': [np.round(precision, 4)],\n",
    "        'Recall': [np.round(recall, 4)],\n",
    "        'F1-Score': [np.round(f1, 4)]\n",
    "    })\n",
    "    \n",
    "    return df_metrics\n",
    "\n",
    "def exporta_excel(nome_algoritmo):\n",
    "    \"\"\"\n",
    "    Exporta os DataFrames de métricas para arquivos Excel em diferentes pastas.\n",
    "\n",
    "    Args:\n",
    "        nome_algoritmo (str): Nome do algoritmo utilizado.\n",
    "\n",
    "    Returns:\n",
    "        None\n",
    "    \"\"\"\n",
    "    etapas = ['train', 'validation', 'test']\n",
    "    df_list = [df_metrics_train, df_metrics_val, df_metrics_test]\n",
    "\n",
    "    for etapa, df in zip(etapas, df_list):\n",
    "        df.to_excel(f'metrics/{etapa}/{nome_algoritmo}_{etapa}.xlsx', index=False)"
   ]
  },
  {
   "cell_type": "markdown",
   "id": "89bae082",
   "metadata": {},
   "source": [
    "# 4.0 - Ajustando os dados"
   ]
  },
  {
   "cell_type": "code",
   "execution_count": 4,
   "id": "cf9a6e42",
   "metadata": {
    "ExecuteTime": {
     "end_time": "2024-10-24T01:27:19.400031Z",
     "start_time": "2024-10-24T01:27:19.373733Z"
    }
   },
   "outputs": [],
   "source": [
    "# Como o atributo 'id' não contribui para o aprendizado do modelo, iremos retirá-lo.\n",
    "X_train, X_val, X_test = [ df.drop(columns = ['id']) for df in [X_train, X_val, X_test] ]"
   ]
  },
  {
   "cell_type": "code",
   "execution_count": 5,
   "id": "5f25cf73",
   "metadata": {
    "ExecuteTime": {
     "end_time": "2024-10-24T01:27:19.912413Z",
     "start_time": "2024-10-24T01:27:19.894456Z"
    }
   },
   "outputs": [],
   "source": [
    "# renomeia a coluna '0' com o nome original 'satisfaction'\n",
    "y_train, y_val, y_test = [ df.rename(columns = {'0': 'satisfaction'}) for df in [y_train, y_val, y_test] ]"
   ]
  },
  {
   "cell_type": "code",
   "execution_count": 6,
   "id": "e3ef6833",
   "metadata": {
    "ExecuteTime": {
     "end_time": "2024-10-24T01:27:20.346735Z",
     "start_time": "2024-10-24T01:27:20.336089Z"
    }
   },
   "outputs": [],
   "source": [
    "# transformação do formato DataFrame para Series, essencialmente um array unidimensional\n",
    "y_train, y_val, y_test = [ df.loc[:, 'satisfaction'] for df in [y_train, y_val, y_test] ]"
   ]
  },
  {
   "cell_type": "markdown",
   "id": "3b1da17b-c5f4-46da-bfbd-d9b21f374840",
   "metadata": {},
   "source": [
    "# 5.0 - Desempenho do modelo\n",
    "\n",
    "## 5.1 - Dados de treino"
   ]
  },
  {
   "cell_type": "code",
   "execution_count": 7,
   "id": "7dc4e638-8a1a-4755-84ce-4725aae936c7",
   "metadata": {
    "ExecuteTime": {
     "end_time": "2024-10-24T01:29:48.889165Z",
     "start_time": "2024-10-24T01:29:48.191280Z"
    }
   },
   "outputs": [
    {
     "data": {
      "text/html": [
       "<div>\n",
       "<style scoped>\n",
       "    .dataframe tbody tr th:only-of-type {\n",
       "        vertical-align: middle;\n",
       "    }\n",
       "\n",
       "    .dataframe tbody tr th {\n",
       "        vertical-align: top;\n",
       "    }\n",
       "\n",
       "    .dataframe thead th {\n",
       "        text-align: right;\n",
       "    }\n",
       "</style>\n",
       "<table border=\"1\" class=\"dataframe\">\n",
       "  <thead>\n",
       "    <tr style=\"text-align: right;\">\n",
       "      <th></th>\n",
       "      <th>Algorithm</th>\n",
       "      <th>Step</th>\n",
       "      <th>Accuracy</th>\n",
       "      <th>Precision</th>\n",
       "      <th>Recall</th>\n",
       "      <th>F1-Score</th>\n",
       "    </tr>\n",
       "  </thead>\n",
       "  <tbody>\n",
       "    <tr>\n",
       "      <th>0</th>\n",
       "      <td>Decision Tree</td>\n",
       "      <td>Train</td>\n",
       "      <td>1.0</td>\n",
       "      <td>1.0</td>\n",
       "      <td>1.0</td>\n",
       "      <td>1.0</td>\n",
       "    </tr>\n",
       "  </tbody>\n",
       "</table>\n",
       "</div>"
      ],
      "text/plain": [
       "       Algorithm   Step  Accuracy  Precision  Recall  F1-Score\n",
       "0  Decision Tree  Train       1.0        1.0     1.0       1.0"
      ]
     },
     "execution_count": 7,
     "metadata": {},
     "output_type": "execute_result"
    }
   ],
   "source": [
    "# Definição do modelo\n",
    "# Vamos iniciar com 'max_depth' = None (valor padrão)\n",
    "decision_tree_train = tr.DecisionTreeClassifier( random_state = 0 )\n",
    "\n",
    "# Treinamento do algoritmo. \n",
    "decision_tree_train.fit(X_train, y_train)\n",
    "\n",
    "# Predição sobre os dados de treino\n",
    "y_pred_train = decision_tree_train.predict(X_train)\n",
    "\n",
    "# Métricas\n",
    "df_metrics_train = metrics(y_train, y_pred_train, 'Train', 'Decision Tree')\n",
    "df_metrics_train"
   ]
  },
  {
   "cell_type": "markdown",
   "id": "4107b7bb-8a73-41be-a80f-0e1c1ab02203",
   "metadata": {},
   "source": [
    "## 5.2 - Dados de validação"
   ]
  },
  {
   "cell_type": "code",
   "execution_count": 8,
   "id": "5f73d6d7-c2fe-4875-b432-e356f60afd39",
   "metadata": {
    "ExecuteTime": {
     "end_time": "2024-10-24T01:30:15.809440Z",
     "start_time": "2024-10-24T01:30:15.221669Z"
    }
   },
   "outputs": [
    {
     "data": {
      "text/html": [
       "<div>\n",
       "<style scoped>\n",
       "    .dataframe tbody tr th:only-of-type {\n",
       "        vertical-align: middle;\n",
       "    }\n",
       "\n",
       "    .dataframe tbody tr th {\n",
       "        vertical-align: top;\n",
       "    }\n",
       "\n",
       "    .dataframe thead th {\n",
       "        text-align: right;\n",
       "    }\n",
       "</style>\n",
       "<table border=\"1\" class=\"dataframe\">\n",
       "  <thead>\n",
       "    <tr style=\"text-align: right;\">\n",
       "      <th></th>\n",
       "      <th>Algorithm</th>\n",
       "      <th>Step</th>\n",
       "      <th>Accuracy</th>\n",
       "      <th>Precision</th>\n",
       "      <th>Recall</th>\n",
       "      <th>F1-Score</th>\n",
       "    </tr>\n",
       "  </thead>\n",
       "  <tbody>\n",
       "    <tr>\n",
       "      <th>0</th>\n",
       "      <td>Decision Tree</td>\n",
       "      <td>Validation</td>\n",
       "      <td>0.9444</td>\n",
       "      <td>0.9536</td>\n",
       "      <td>0.948</td>\n",
       "      <td>0.9508</td>\n",
       "    </tr>\n",
       "  </tbody>\n",
       "</table>\n",
       "</div>"
      ],
      "text/plain": [
       "       Algorithm        Step  Accuracy  Precision  Recall  F1-Score\n",
       "0  Decision Tree  Validation    0.9444     0.9536   0.948    0.9508"
      ]
     },
     "execution_count": 8,
     "metadata": {},
     "output_type": "execute_result"
    }
   ],
   "source": [
    "# Definindo o modelo\n",
    "decision_tree_val = tr.DecisionTreeClassifier( random_state = 0 )\n",
    "\n",
    "# Treinamento do algoritmo\n",
    "decision_tree_val.fit(X_train, y_train)\n",
    "\n",
    "# Treina com dados de treino e aplica sobre os dados de validação\n",
    "y_pred_val = decision_tree_val.predict(X_val)\n",
    "\n",
    "# Métricas\n",
    "df_metrics_val = metrics(y_val, y_pred_val, 'Validation', 'Decision Tree')\n",
    "df_metrics_val"
   ]
  },
  {
   "cell_type": "markdown",
   "id": "844d4cc1",
   "metadata": {},
   "source": [
    "## 5.3 - Ajuste fino dos hiperparâmetros (Etapa de *Fine Tuning*)"
   ]
  },
  {
   "cell_type": "code",
   "execution_count": 9,
   "id": "92a2ec6d",
   "metadata": {
    "ExecuteTime": {
     "end_time": "2024-10-24T01:31:13.820162Z",
     "start_time": "2024-10-24T01:30:59.550209Z"
    }
   },
   "outputs": [],
   "source": [
    "# array para os valores testados de 'max_depth' (máxima profundidade da árvore)\n",
    "max_depth_array = np.arange(2, 31, 1)   \n",
    "\n",
    "# Criar DataFrame para armazenar resultados\n",
    "metrics_df = pd.DataFrame(columns=['max_depth', 'accuracy', 'precision', 'recall', 'f1_score'])\n",
    "\n",
    "for m in max_depth_array:\n",
    "    # Definir e treinar o modelo\n",
    "    model = tr.DecisionTreeClassifier( max_depth = m, random_state = 0 ) \n",
    "    model.fit(X_train, y_train)\n",
    "    \n",
    "    # Array de predições \n",
    "    y_pred = model.predict(X_val)\n",
    "    \n",
    "    # Calcular métricas de performance\n",
    "    acuracia = mt.accuracy_score( y_val, y_pred)\n",
    "    precision = mt.precision_score( y_val, y_pred, pos_label = 0)\n",
    "    recall = mt.recall_score( y_val, y_pred, pos_label = 0)\n",
    "    f1 = mt.f1_score( y_val, y_pred, pos_label = 0)\n",
    "    \n",
    "    # Armazenar os resultados em uma nova linha como DataFrame\n",
    "    new_row = pd.DataFrame({\n",
    "        'max_depth': [m],\n",
    "        'accuracy': [acuracia],\n",
    "        'precision': [precision],\n",
    "        'recall': [recall],\n",
    "        'f1_score': [f1]\n",
    "    })\n",
    "\n",
    "    # Concatenar a nova linha ao DataFrame existente\n",
    "    metrics_df = pd.concat([metrics_df, new_row], ignore_index=True)"
   ]
  },
  {
   "cell_type": "code",
   "execution_count": 10,
   "id": "db770e6b",
   "metadata": {
    "ExecuteTime": {
     "end_time": "2024-10-24T01:31:13.850239Z",
     "start_time": "2024-10-24T01:31:13.823280Z"
    }
   },
   "outputs": [
    {
     "data": {
      "text/html": [
       "<div>\n",
       "<style scoped>\n",
       "    .dataframe tbody tr th:only-of-type {\n",
       "        vertical-align: middle;\n",
       "    }\n",
       "\n",
       "    .dataframe tbody tr th {\n",
       "        vertical-align: top;\n",
       "    }\n",
       "\n",
       "    .dataframe thead th {\n",
       "        text-align: right;\n",
       "    }\n",
       "</style>\n",
       "<table border=\"1\" class=\"dataframe\">\n",
       "  <thead>\n",
       "    <tr style=\"text-align: right;\">\n",
       "      <th></th>\n",
       "      <th>max_depth</th>\n",
       "      <th>accuracy</th>\n",
       "      <th>precision</th>\n",
       "      <th>recall</th>\n",
       "      <th>f1_score</th>\n",
       "    </tr>\n",
       "  </thead>\n",
       "  <tbody>\n",
       "    <tr>\n",
       "      <th>0</th>\n",
       "      <td>2</td>\n",
       "      <td>0.856495</td>\n",
       "      <td>0.877223</td>\n",
       "      <td>0.868257</td>\n",
       "      <td>0.872717</td>\n",
       "    </tr>\n",
       "    <tr>\n",
       "      <th>1</th>\n",
       "      <td>3</td>\n",
       "      <td>0.885453</td>\n",
       "      <td>0.925139</td>\n",
       "      <td>0.868086</td>\n",
       "      <td>0.895705</td>\n",
       "    </tr>\n",
       "    <tr>\n",
       "      <th>2</th>\n",
       "      <td>4</td>\n",
       "      <td>0.893465</td>\n",
       "      <td>0.874221</td>\n",
       "      <td>0.948438</td>\n",
       "      <td>0.909819</td>\n",
       "    </tr>\n",
       "    <tr>\n",
       "      <th>3</th>\n",
       "      <td>5</td>\n",
       "      <td>0.906689</td>\n",
       "      <td>0.906803</td>\n",
       "      <td>0.931005</td>\n",
       "      <td>0.918745</td>\n",
       "    </tr>\n",
       "    <tr>\n",
       "      <th>4</th>\n",
       "      <td>6</td>\n",
       "      <td>0.921748</td>\n",
       "      <td>0.945678</td>\n",
       "      <td>0.914424</td>\n",
       "      <td>0.929788</td>\n",
       "    </tr>\n",
       "    <tr>\n",
       "      <th>5</th>\n",
       "      <td>7</td>\n",
       "      <td>0.931497</td>\n",
       "      <td>0.922724</td>\n",
       "      <td>0.959455</td>\n",
       "      <td>0.940731</td>\n",
       "    </tr>\n",
       "    <tr>\n",
       "      <th>6</th>\n",
       "      <td>8</td>\n",
       "      <td>0.936227</td>\n",
       "      <td>0.937025</td>\n",
       "      <td>0.951391</td>\n",
       "      <td>0.944153</td>\n",
       "    </tr>\n",
       "    <tr>\n",
       "      <th>7</th>\n",
       "      <td>9</td>\n",
       "      <td>0.940056</td>\n",
       "      <td>0.931118</td>\n",
       "      <td>0.965645</td>\n",
       "      <td>0.948067</td>\n",
       "    </tr>\n",
       "    <tr>\n",
       "      <th>8</th>\n",
       "      <td>10</td>\n",
       "      <td>0.943048</td>\n",
       "      <td>0.937908</td>\n",
       "      <td>0.963260</td>\n",
       "      <td>0.950415</td>\n",
       "    </tr>\n",
       "    <tr>\n",
       "      <th>9</th>\n",
       "      <td>11</td>\n",
       "      <td>0.945976</td>\n",
       "      <td>0.944627</td>\n",
       "      <td>0.960988</td>\n",
       "      <td>0.952738</td>\n",
       "    </tr>\n",
       "    <tr>\n",
       "      <th>10</th>\n",
       "      <td>12</td>\n",
       "      <td>0.949516</td>\n",
       "      <td>0.944078</td>\n",
       "      <td>0.968257</td>\n",
       "      <td>0.956015</td>\n",
       "    </tr>\n",
       "    <tr>\n",
       "      <th>11</th>\n",
       "      <td>13</td>\n",
       "      <td>0.950385</td>\n",
       "      <td>0.945640</td>\n",
       "      <td>0.968086</td>\n",
       "      <td>0.956732</td>\n",
       "    </tr>\n",
       "    <tr>\n",
       "      <th>12</th>\n",
       "      <td>14</td>\n",
       "      <td>0.950610</td>\n",
       "      <td>0.948646</td>\n",
       "      <td>0.965077</td>\n",
       "      <td>0.956791</td>\n",
       "    </tr>\n",
       "    <tr>\n",
       "      <th>13</th>\n",
       "      <td>15</td>\n",
       "      <td>0.950738</td>\n",
       "      <td>0.946515</td>\n",
       "      <td>0.967746</td>\n",
       "      <td>0.957012</td>\n",
       "    </tr>\n",
       "    <tr>\n",
       "      <th>14</th>\n",
       "      <td>16</td>\n",
       "      <td>0.949516</td>\n",
       "      <td>0.949101</td>\n",
       "      <td>0.962521</td>\n",
       "      <td>0.955764</td>\n",
       "    </tr>\n",
       "    <tr>\n",
       "      <th>15</th>\n",
       "      <td>17</td>\n",
       "      <td>0.949258</td>\n",
       "      <td>0.949633</td>\n",
       "      <td>0.961442</td>\n",
       "      <td>0.955501</td>\n",
       "    </tr>\n",
       "    <tr>\n",
       "      <th>16</th>\n",
       "      <td>18</td>\n",
       "      <td>0.948840</td>\n",
       "      <td>0.950861</td>\n",
       "      <td>0.959284</td>\n",
       "      <td>0.955054</td>\n",
       "    </tr>\n",
       "    <tr>\n",
       "      <th>17</th>\n",
       "      <td>19</td>\n",
       "      <td>0.950063</td>\n",
       "      <td>0.952746</td>\n",
       "      <td>0.959455</td>\n",
       "      <td>0.956089</td>\n",
       "    </tr>\n",
       "    <tr>\n",
       "      <th>18</th>\n",
       "      <td>20</td>\n",
       "      <td>0.947456</td>\n",
       "      <td>0.952940</td>\n",
       "      <td>0.954401</td>\n",
       "      <td>0.953670</td>\n",
       "    </tr>\n",
       "    <tr>\n",
       "      <th>19</th>\n",
       "      <td>21</td>\n",
       "      <td>0.945204</td>\n",
       "      <td>0.951826</td>\n",
       "      <td>0.951448</td>\n",
       "      <td>0.951637</td>\n",
       "    </tr>\n",
       "    <tr>\n",
       "      <th>20</th>\n",
       "      <td>22</td>\n",
       "      <td>0.946652</td>\n",
       "      <td>0.953801</td>\n",
       "      <td>0.951959</td>\n",
       "      <td>0.952879</td>\n",
       "    </tr>\n",
       "    <tr>\n",
       "      <th>21</th>\n",
       "      <td>23</td>\n",
       "      <td>0.945848</td>\n",
       "      <td>0.953115</td>\n",
       "      <td>0.951221</td>\n",
       "      <td>0.952167</td>\n",
       "    </tr>\n",
       "    <tr>\n",
       "      <th>22</th>\n",
       "      <td>24</td>\n",
       "      <td>0.945590</td>\n",
       "      <td>0.954024</td>\n",
       "      <td>0.949744</td>\n",
       "      <td>0.951880</td>\n",
       "    </tr>\n",
       "    <tr>\n",
       "      <th>23</th>\n",
       "      <td>25</td>\n",
       "      <td>0.944207</td>\n",
       "      <td>0.953807</td>\n",
       "      <td>0.947416</td>\n",
       "      <td>0.950601</td>\n",
       "    </tr>\n",
       "    <tr>\n",
       "      <th>24</th>\n",
       "      <td>26</td>\n",
       "      <td>0.944464</td>\n",
       "      <td>0.953569</td>\n",
       "      <td>0.948154</td>\n",
       "      <td>0.950854</td>\n",
       "    </tr>\n",
       "    <tr>\n",
       "      <th>25</th>\n",
       "      <td>27</td>\n",
       "      <td>0.944561</td>\n",
       "      <td>0.953163</td>\n",
       "      <td>0.948779</td>\n",
       "      <td>0.950966</td>\n",
       "    </tr>\n",
       "    <tr>\n",
       "      <th>26</th>\n",
       "      <td>28</td>\n",
       "      <td>0.944400</td>\n",
       "      <td>0.953720</td>\n",
       "      <td>0.947871</td>\n",
       "      <td>0.950786</td>\n",
       "    </tr>\n",
       "    <tr>\n",
       "      <th>27</th>\n",
       "      <td>29</td>\n",
       "      <td>0.944915</td>\n",
       "      <td>0.953503</td>\n",
       "      <td>0.949063</td>\n",
       "      <td>0.951278</td>\n",
       "    </tr>\n",
       "    <tr>\n",
       "      <th>28</th>\n",
       "      <td>30</td>\n",
       "      <td>0.943949</td>\n",
       "      <td>0.952699</td>\n",
       "      <td>0.948154</td>\n",
       "      <td>0.950421</td>\n",
       "    </tr>\n",
       "  </tbody>\n",
       "</table>\n",
       "</div>"
      ],
      "text/plain": [
       "   max_depth  accuracy  precision    recall  f1_score\n",
       "0          2  0.856495   0.877223  0.868257  0.872717\n",
       "1          3  0.885453   0.925139  0.868086  0.895705\n",
       "2          4  0.893465   0.874221  0.948438  0.909819\n",
       "3          5  0.906689   0.906803  0.931005  0.918745\n",
       "4          6  0.921748   0.945678  0.914424  0.929788\n",
       "5          7  0.931497   0.922724  0.959455  0.940731\n",
       "6          8  0.936227   0.937025  0.951391  0.944153\n",
       "7          9  0.940056   0.931118  0.965645  0.948067\n",
       "8         10  0.943048   0.937908  0.963260  0.950415\n",
       "9         11  0.945976   0.944627  0.960988  0.952738\n",
       "10        12  0.949516   0.944078  0.968257  0.956015\n",
       "11        13  0.950385   0.945640  0.968086  0.956732\n",
       "12        14  0.950610   0.948646  0.965077  0.956791\n",
       "13        15  0.950738   0.946515  0.967746  0.957012\n",
       "14        16  0.949516   0.949101  0.962521  0.955764\n",
       "15        17  0.949258   0.949633  0.961442  0.955501\n",
       "16        18  0.948840   0.950861  0.959284  0.955054\n",
       "17        19  0.950063   0.952746  0.959455  0.956089\n",
       "18        20  0.947456   0.952940  0.954401  0.953670\n",
       "19        21  0.945204   0.951826  0.951448  0.951637\n",
       "20        22  0.946652   0.953801  0.951959  0.952879\n",
       "21        23  0.945848   0.953115  0.951221  0.952167\n",
       "22        24  0.945590   0.954024  0.949744  0.951880\n",
       "23        25  0.944207   0.953807  0.947416  0.950601\n",
       "24        26  0.944464   0.953569  0.948154  0.950854\n",
       "25        27  0.944561   0.953163  0.948779  0.950966\n",
       "26        28  0.944400   0.953720  0.947871  0.950786\n",
       "27        29  0.944915   0.953503  0.949063  0.951278\n",
       "28        30  0.943949   0.952699  0.948154  0.950421"
      ]
     },
     "execution_count": 10,
     "metadata": {},
     "output_type": "execute_result"
    }
   ],
   "source": [
    "# DataFrame com os valores das métricas de performance para os valores de 'max_depth' testados\n",
    "metrics_df"
   ]
  },
  {
   "cell_type": "code",
   "execution_count": 11,
   "id": "fb9a3be2",
   "metadata": {
    "ExecuteTime": {
     "end_time": "2024-10-24T01:31:49.342313Z",
     "start_time": "2024-10-24T01:31:49.013556Z"
    }
   },
   "outputs": [
    {
     "data": {
      "image/png": "[encoded data removed]",
      "text/plain": [
       "<Figure size 640x480 with 1 Axes>"
      ]
     },
     "metadata": {},
     "output_type": "display_data"
    }
   ],
   "source": [
    "# Gráficos de cada métrica pela máxima profundidade da árvore\n",
    "plt.plot(max_depth_array, metrics_df['accuracy'], marker=\"o\", label=\"Accuracy\")\n",
    "plt.plot(max_depth_array, metrics_df['precision'], marker=\"o\", label=\"Precision\")\n",
    "plt.plot(max_depth_array, metrics_df['recall'], marker=\"o\", label=\"Recall\")\n",
    "plt.plot(max_depth_array, metrics_df['f1_score'], marker=\"o\", label=\"F1 Score\")\n",
    "plt.xlabel(\"Max Depth\")\n",
    "plt.ylabel(\"Metrics\")\n",
    "plt.legend();"
   ]
  },
  {
   "cell_type": "markdown",
   "id": "b1a00492",
   "metadata": {
    "ExecuteTime": {
     "end_time": "2024-10-07T00:59:09.432818Z",
     "start_time": "2024-10-07T00:59:09.413697Z"
    }
   },
   "source": [
    "Como o objetivo principal da pesquisa é identificar os clientes insatisfeitos para tomar ações corretivas, o **recall** é a figura de mérito mais relevante.  \n",
    "Assim, um alto **recall** garante que a maioria dos clientes insatisfeitos seja corretamente identificada.  \n",
    "O melhor valor de **max_depth** é aquele que produz o maior valor da métrica de interesse."
   ]
  },
  {
   "cell_type": "code",
   "execution_count": 12,
   "id": "b0d9d764-d02b-4925-876c-3d0d237c1571",
   "metadata": {
    "ExecuteTime": {
     "end_time": "2024-10-24T01:33:29.516927Z",
     "start_time": "2024-10-24T01:33:29.502103Z"
    }
   },
   "outputs": [
    {
     "data": {
      "text/html": [
       "<div>\n",
       "<style scoped>\n",
       "    .dataframe tbody tr th:only-of-type {\n",
       "        vertical-align: middle;\n",
       "    }\n",
       "\n",
       "    .dataframe tbody tr th {\n",
       "        vertical-align: top;\n",
       "    }\n",
       "\n",
       "    .dataframe thead th {\n",
       "        text-align: right;\n",
       "    }\n",
       "</style>\n",
       "<table border=\"1\" class=\"dataframe\">\n",
       "  <thead>\n",
       "    <tr style=\"text-align: right;\">\n",
       "      <th></th>\n",
       "      <th>max_depth</th>\n",
       "      <th>accuracy</th>\n",
       "      <th>precision</th>\n",
       "      <th>recall</th>\n",
       "      <th>f1_score</th>\n",
       "    </tr>\n",
       "  </thead>\n",
       "  <tbody>\n",
       "    <tr>\n",
       "      <th>10</th>\n",
       "      <td>12</td>\n",
       "      <td>0.949516</td>\n",
       "      <td>0.944078</td>\n",
       "      <td>0.968257</td>\n",
       "      <td>0.956015</td>\n",
       "    </tr>\n",
       "  </tbody>\n",
       "</table>\n",
       "</div>"
      ],
      "text/plain": [
       "   max_depth  accuracy  precision    recall  f1_score\n",
       "10        12  0.949516   0.944078  0.968257  0.956015"
      ]
     },
     "execution_count": 12,
     "metadata": {},
     "output_type": "execute_result"
    }
   ],
   "source": [
    "metrics_df.sort_values(by='recall', ascending=False).head(1)"
   ]
  },
  {
   "cell_type": "code",
   "execution_count": 13,
   "id": "adca8688",
   "metadata": {
    "ExecuteTime": {
     "end_time": "2024-10-24T01:33:32.419631Z",
     "start_time": "2024-10-24T01:33:32.405559Z"
    }
   },
   "outputs": [],
   "source": [
    "# melhor valor de 'max_depth'\n",
    "best_max_depth = 12"
   ]
  },
  {
   "cell_type": "markdown",
   "id": "1f7d12ea",
   "metadata": {},
   "source": [
    "## 5.4 - Desempenho do modelo para os dados de teste"
   ]
  },
  {
   "cell_type": "code",
   "execution_count": 14,
   "id": "6a860d3d",
   "metadata": {
    "ExecuteTime": {
     "end_time": "2024-10-24T01:33:43.833853Z",
     "start_time": "2024-10-24T01:33:43.135000Z"
    }
   },
   "outputs": [
    {
     "data": {
      "text/html": [
       "<div>\n",
       "<style scoped>\n",
       "    .dataframe tbody tr th:only-of-type {\n",
       "        vertical-align: middle;\n",
       "    }\n",
       "\n",
       "    .dataframe tbody tr th {\n",
       "        vertical-align: top;\n",
       "    }\n",
       "\n",
       "    .dataframe thead th {\n",
       "        text-align: right;\n",
       "    }\n",
       "</style>\n",
       "<table border=\"1\" class=\"dataframe\">\n",
       "  <thead>\n",
       "    <tr style=\"text-align: right;\">\n",
       "      <th></th>\n",
       "      <th>Algorithm</th>\n",
       "      <th>Step</th>\n",
       "      <th>Accuracy</th>\n",
       "      <th>Precision</th>\n",
       "      <th>Recall</th>\n",
       "      <th>F1-Score</th>\n",
       "    </tr>\n",
       "  </thead>\n",
       "  <tbody>\n",
       "    <tr>\n",
       "      <th>0</th>\n",
       "      <td>Decision Tree</td>\n",
       "      <td>Test</td>\n",
       "      <td>0.9528</td>\n",
       "      <td>0.9471</td>\n",
       "      <td>0.9702</td>\n",
       "      <td>0.9585</td>\n",
       "    </tr>\n",
       "  </tbody>\n",
       "</table>\n",
       "</div>"
      ],
      "text/plain": [
       "       Algorithm  Step  Accuracy  Precision  Recall  F1-Score\n",
       "0  Decision Tree  Test    0.9528     0.9471  0.9702    0.9585"
      ]
     },
     "execution_count": 14,
     "metadata": {},
     "output_type": "execute_result"
    }
   ],
   "source": [
    "# definição do modelo\n",
    "decision_tree_test = tr.DecisionTreeClassifier( max_depth = best_max_depth, random_state = 0 )\n",
    "\n",
    "# Juntar os dados de treino e validação\n",
    "decision_tree_test.fit( pd.concat( [X_train, X_val] ),\n",
    "                        pd.concat( [y_train, y_val] ) )\n",
    "\n",
    "# Predição sobre os dados de teste\n",
    "y_pred_test = decision_tree_test.predict( X_test )\n",
    "\n",
    "# Métricas\n",
    "df_metrics_test = metrics(y_test, y_pred_test, 'Test', 'Decision Tree')\n",
    "df_metrics_test"
   ]
  },
  {
   "cell_type": "markdown",
   "id": "c8e60dde",
   "metadata": {},
   "source": [
    "# 6.0 - Gera as planilhas com os resultados"
   ]
  },
  {
   "cell_type": "code",
   "execution_count": 15,
   "id": "09accda2-7b0b-44d8-aa97-db0a94aca28a",
   "metadata": {
    "ExecuteTime": {
     "end_time": "2024-10-24T01:34:01.576719Z",
     "start_time": "2024-10-24T01:34:01.134550Z"
    }
   },
   "outputs": [],
   "source": [
    "exporta_excel('Decision_Tree')"
   ]
  }
 ],
 "metadata": {
  "kernelspec": {
   "display_name": "Python 3 (ipykernel)",
   "language": "python",
   "name": "python3"
  },
  "language_info": {
   "codemirror_mode": {
    "name": "ipython",
    "version": 3
   },
   "file_extension": ".py",
   "mimetype": "text/x-python",
   "name": "python",
   "nbconvert_exporter": "python",
   "pygments_lexer": "ipython3",
   "version": "3.9.12"
  }
 },
 "nbformat": 4,
 "nbformat_minor": 5
}
