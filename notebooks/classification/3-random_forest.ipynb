{
 "cells": [
  {
   "cell_type": "markdown",
   "id": "ae442cf1",
   "metadata": {},
   "source": [
    "# 0.0 - Random Forest\n",
    "\n",
    "Os parâmetros utilizados para treinar o algoritmo **Random Forest** serão a profundidade máxima da árvore (`max_depth`) e o número máximo de estimadores (árvores na florestas), o `n_estimators`.</br>Os valores padrão destes parâmetros são `None` e `100`, respectivamente. Sobre o `max_depth`, a documentação oficial diz o seguinte:</br></br>https://scikit-learn.org/stable/modules/generated/sklearn.ensemble.RandomForestClassifier.html</br></br>*\"The `maximum depth` of the tree. If `None`, then nodes are expanded until all leaves are pure or until all leaves contain less than `min_samples_split` samples\"*.</br></br>*Por padrão, a árvore se expande até que todas as folhas sejam puras ou até que contenham um número de amostras menor que o valor default do parâmetro `min_samples_split`, 2 amostras*.</br></br>\n",
    "Para os cálculos das métricas de performance, considerei a classe positiva como sendo a **0**.</br>Por padrão, o *sklearn* toma como sendo a classe **1**."
   ]
  },
  {
   "cell_type": "markdown",
   "id": "3cc27c7b-453a-4586-9e94-53a4388eacd1",
   "metadata": {},
   "source": [
    "# 1.0 - Importando bibliotecas"
   ]
  },
  {
   "cell_type": "code",
   "execution_count": 1,
   "id": "40c24c31-afac-4dec-97d5-99679527db1c",
   "metadata": {
    "ExecuteTime": {
     "end_time": "2024-10-14T02:27:23.549053Z",
     "start_time": "2024-10-14T02:27:19.330809Z"
    }
   },
   "outputs": [],
   "source": [
    "import pandas as pd\n",
    "import numpy as np\n",
    "from sklearn.ensemble import RandomForestClassifier\n",
    "from sklearn import metrics as mt\n",
    "from itertools import product\n",
    "\n",
    "from matplotlib import pyplot as plt"
   ]
  },
  {
   "cell_type": "markdown",
   "id": "2247e418-4d3a-414b-a623-ff40706f4981",
   "metadata": {},
   "source": [
    "# 2.0 - Carregando os dados"
   ]
  },
  {
   "cell_type": "code",
   "execution_count": 2,
   "id": "d5d74359-5eb0-4ae2-84e8-488939860218",
   "metadata": {
    "ExecuteTime": {
     "end_time": "2024-10-14T02:27:24.191835Z",
     "start_time": "2024-10-14T02:27:23.552255Z"
    }
   },
   "outputs": [],
   "source": [
    "# Treino\n",
    "X_train = pd.read_csv('train/X_training.csv')\n",
    "y_train = pd.read_csv('train/y_training.csv')\n",
    "\n",
    "# Validação\n",
    "X_val = pd.read_csv('validation/X_validation.csv')\n",
    "y_val = pd.read_csv('validation/y_validation.csv')\n",
    "\n",
    "# Teste\n",
    "X_test = pd.read_csv('test/X_test.csv')\n",
    "y_test = pd.read_csv('test/y_test.csv')"
   ]
  },
  {
   "cell_type": "markdown",
   "id": "6a914894",
   "metadata": {},
   "source": [
    "# 3.0 - Funções"
   ]
  },
  {
   "cell_type": "code",
   "execution_count": 3,
   "id": "07f8c4e6",
   "metadata": {
    "ExecuteTime": {
     "end_time": "2024-10-14T02:27:45.522085Z",
     "start_time": "2024-10-14T02:27:45.502096Z"
    }
   },
   "outputs": [],
   "source": [
    "def metrics(y, y_pred, step, algorithm):\n",
    "    \"\"\"\n",
    "    Calcula várias métricas de avaliação de um modelo de classificação e as retorna em um DataFrame.\n",
    "\n",
    "    Parâmetros:\n",
    "    -----------\n",
    "    y : array-like\n",
    "        Valores da variável resposta.\n",
    "    \n",
    "    y_pred : array-like\n",
    "        Valores preditos pelo modelo.\n",
    "    \n",
    "    step : str\n",
    "        Etapa do processo de modelagem (ex: 'treino', 'validação', 'teste').\n",
    "    \n",
    "    algorithm : str\n",
    "        Nome do algoritmo usado.\n",
    "\n",
    "    Retorno:\n",
    "    --------\n",
    "    df_metrics : pandas.DataFrame\n",
    "        DataFrame contendo as métricas calculadas:\n",
    "        - 'Algorithm': Nome do algoritmo.\n",
    "        - 'Step': Etapa do processo (treino, validação ou teste).\n",
    "        - 'Accuracy': Valor da Acurácia.\n",
    "        - 'Precision': Valor da Precision.\n",
    "        - 'Recall': Valor da Recall.\n",
    "        - 'F1-Score': Valor de F1-Score.\n",
    "    \"\"\"\n",
    "    # Calcula as métricas\n",
    "    acuracia  = mt.accuracy_score( y, y_pred )\n",
    "    precision = mt.precision_score( y, y_pred, pos_label = 0 )\n",
    "    recall    = mt.recall_score( y, y_pred, pos_label = 0 )\n",
    "    f1        = mt.f1_score( y, y_pred, pos_label = 0 )\n",
    "\n",
    "    # Cria o DataFrame com as métricas\n",
    "    df_metrics = pd.DataFrame({   \n",
    "        'Algorithm': [algorithm],\n",
    "        'Step': [step],\n",
    "        'Accuracy': [np.round(acuracia, 4)],\n",
    "        'Precision': [np.round(precision, 4)],\n",
    "        'Recall': [np.round(recall, 4)],\n",
    "        'F1-Score': [np.round(f1, 4)]\n",
    "    })\n",
    "    \n",
    "    return df_metrics\n",
    "\n",
    "def exporta_excel(nome_algoritmo):\n",
    "    \"\"\"\n",
    "    Exporta os DataFrames de métricas para arquivos Excel em diferentes pastas.\n",
    "\n",
    "    Args:\n",
    "        nome_algoritmo (str): Nome do algoritmo utilizado.\n",
    "\n",
    "    Returns:\n",
    "        None\n",
    "    \"\"\"\n",
    "    etapas = ['train', 'validation', 'test']\n",
    "    df_list = [df_metrics_train, df_metrics_val, df_metrics_test]\n",
    "\n",
    "    for etapa, df in zip(etapas, df_list):\n",
    "        df.to_excel(f'{etapa}/metrics/metrics_{etapa}_{nome_algoritmo}.xlsx', index=False)"
   ]
  },
  {
   "cell_type": "markdown",
   "id": "68a8841b",
   "metadata": {},
   "source": [
    "# 4.0 - Ajustando os dados"
   ]
  },
  {
   "cell_type": "code",
   "execution_count": 4,
   "id": "22319879",
   "metadata": {
    "ExecuteTime": {
     "end_time": "2024-10-14T02:28:03.444453Z",
     "start_time": "2024-10-14T02:28:03.408161Z"
    }
   },
   "outputs": [],
   "source": [
    "# Como o atributo 'id' não contribui para o aprendizado do modelo, iremos retirá-lo.\n",
    "X_train, X_val, X_test = [ df.drop(columns = ['id']) for df in [X_train, X_val, X_test] ]\n",
    "\n",
    "# renomeia a coluna '0' da variável resposta com o nome original 'satisfaction'\n",
    "y_train, y_val, y_test = [ df.rename(columns = {'0': 'satisfaction'}) for df in [y_train, y_val, y_test] ]\n",
    "\n",
    "# transformação do formato DataFrame para Series, essencialmente um array unidimensional\n",
    "y_train, y_val, y_test = [ df.loc[:, 'satisfaction'] for df in [y_train, y_val, y_test] ]"
   ]
  },
  {
   "cell_type": "markdown",
   "id": "46282e70",
   "metadata": {},
   "source": [
    "# 5.0 - Desempenho do modelo\n",
    "\n",
    "## 5.1 - Dados de treino"
   ]
  },
  {
   "cell_type": "code",
   "execution_count": 8,
   "id": "cc60531f-1f3e-4f43-8065-2c594a25fe05",
   "metadata": {
    "ExecuteTime": {
     "end_time": "2024-10-14T02:35:53.333986Z",
     "start_time": "2024-10-14T02:35:43.048445Z"
    }
   },
   "outputs": [
    {
     "data": {
      "text/html": [
       "<div>\n",
       "<style scoped>\n",
       "    .dataframe tbody tr th:only-of-type {\n",
       "        vertical-align: middle;\n",
       "    }\n",
       "\n",
       "    .dataframe tbody tr th {\n",
       "        vertical-align: top;\n",
       "    }\n",
       "\n",
       "    .dataframe thead th {\n",
       "        text-align: right;\n",
       "    }\n",
       "</style>\n",
       "<table border=\"1\" class=\"dataframe\">\n",
       "  <thead>\n",
       "    <tr style=\"text-align: right;\">\n",
       "      <th></th>\n",
       "      <th>Algorithm</th>\n",
       "      <th>Step</th>\n",
       "      <th>Accuracy</th>\n",
       "      <th>Precision</th>\n",
       "      <th>Recall</th>\n",
       "      <th>F1-Score</th>\n",
       "    </tr>\n",
       "  </thead>\n",
       "  <tbody>\n",
       "    <tr>\n",
       "      <th>0</th>\n",
       "      <td>Random Forest</td>\n",
       "      <td>Train</td>\n",
       "      <td>1.0</td>\n",
       "      <td>1.0</td>\n",
       "      <td>1.0</td>\n",
       "      <td>1.0</td>\n",
       "    </tr>\n",
       "  </tbody>\n",
       "</table>\n",
       "</div>"
      ],
      "text/plain": [
       "       Algorithm   Step  Accuracy  Precision  Recall  F1-Score\n",
       "0  Random Forest  Train       1.0        1.0     1.0       1.0"
      ]
     },
     "execution_count": 8,
     "metadata": {},
     "output_type": "execute_result"
    }
   ],
   "source": [
    "# Definição do modelo\n",
    "random_forest_train = RandomForestClassifier( random_state = 0 )\n",
    "\n",
    "# treinamento do algoritmo. \n",
    "random_forest_train.fit(X_train, y_train)\n",
    "\n",
    "# Predição sobre os dados de treino\n",
    "y_pred_train = random_forest_train.predict(X_train)\n",
    "\n",
    "# Métricas\n",
    "df_metrics_train = metrics(y_train, y_pred_train, 'Train', 'Random Forest')\n",
    "df_metrics_train"
   ]
  },
  {
   "cell_type": "markdown",
   "id": "94b365f7-ef2a-4513-bd79-554a745a93ac",
   "metadata": {},
   "source": [
    "## 5.2 - Dados de validação"
   ]
  },
  {
   "cell_type": "code",
   "execution_count": 9,
   "id": "7322a68e-b01f-48df-978e-723c76b50132",
   "metadata": {
    "ExecuteTime": {
     "end_time": "2024-10-14T02:36:46.326681Z",
     "start_time": "2024-10-14T02:36:36.406567Z"
    }
   },
   "outputs": [
    {
     "data": {
      "text/html": [
       "<div>\n",
       "<style scoped>\n",
       "    .dataframe tbody tr th:only-of-type {\n",
       "        vertical-align: middle;\n",
       "    }\n",
       "\n",
       "    .dataframe tbody tr th {\n",
       "        vertical-align: top;\n",
       "    }\n",
       "\n",
       "    .dataframe thead th {\n",
       "        text-align: right;\n",
       "    }\n",
       "</style>\n",
       "<table border=\"1\" class=\"dataframe\">\n",
       "  <thead>\n",
       "    <tr style=\"text-align: right;\">\n",
       "      <th></th>\n",
       "      <th>Algorithm</th>\n",
       "      <th>Step</th>\n",
       "      <th>Accuracy</th>\n",
       "      <th>Precision</th>\n",
       "      <th>Recall</th>\n",
       "      <th>F1-Score</th>\n",
       "    </tr>\n",
       "  </thead>\n",
       "  <tbody>\n",
       "    <tr>\n",
       "      <th>0</th>\n",
       "      <td>Random Forest</td>\n",
       "      <td>Validation</td>\n",
       "      <td>0.9622</td>\n",
       "      <td>0.9561</td>\n",
       "      <td>0.9783</td>\n",
       "      <td>0.967</td>\n",
       "    </tr>\n",
       "  </tbody>\n",
       "</table>\n",
       "</div>"
      ],
      "text/plain": [
       "       Algorithm        Step  Accuracy  Precision  Recall  F1-Score\n",
       "0  Random Forest  Validation    0.9622     0.9561  0.9783     0.967"
      ]
     },
     "execution_count": 9,
     "metadata": {},
     "output_type": "execute_result"
    }
   ],
   "source": [
    "# definindo o modelo\n",
    "random_forest_val = RandomForestClassifier( random_state = 0 )\n",
    "\n",
    "# treinamento do algoritmo. \n",
    "random_forest_val.fit(X_train, y_train)\n",
    "\n",
    "# Predição sobre os dados de validação\n",
    "y_pred_val = random_forest_val.predict(X_val)\n",
    "\n",
    "# Métricas\n",
    "df_metrics_val = metrics(y_val, y_pred_val, 'Validation', 'Random Forest')\n",
    "df_metrics_val"
   ]
  },
  {
   "cell_type": "markdown",
   "id": "eb69d07e-b1f2-48ee-95a3-91a899bcc890",
   "metadata": {},
   "source": [
    "## 5.3 - Ajuste fino dos hiperparâmetros (Etapa de *Fine Tuning*)"
   ]
  },
  {
   "cell_type": "code",
   "execution_count": 14,
   "id": "6c1f8bc0-2203-4d9c-a437-ea5b4b07c257",
   "metadata": {
    "ExecuteTime": {
     "end_time": "2024-10-07T22:05:08.284078Z",
     "start_time": "2024-10-07T21:11:47.794488Z"
    }
   },
   "outputs": [],
   "source": [
    "# array para os valores testados de 'max_depth' (máxima profundidade da arvore)\n",
    "max_depth_array = np.arange(2, 31, 1)\n",
    "\n",
    "# lista para o número de estimadores (árvores da floresta)\n",
    "n_estimators_list = [100, 500, 1000]\n",
    "\n",
    "# Criar DataFrame para armazenar resultados\n",
    "metrics_df = pd.DataFrame(columns=['max_depth', 'n_estimators', 'accuracy', 'precision', 'recall', 'f1_score'])\n",
    "\n",
    "# Usar 'itertools.product' para combinar 'max_depth' e 'n_estimators'\n",
    "for m, n in product(max_depth_array, n_estimators_list):\n",
    "    # Definir e treinar o modelo RandomForest\n",
    "    model = RandomForestClassifier(max_depth=m, n_estimators=n, random_state=0)\n",
    "    model.fit(X_train, y_train)\n",
    "\n",
    "    # Predição sobre os dados de validação\n",
    "    y_pred = model.predict(X_val)\n",
    "\n",
    "    # Calcular métricas de performance\n",
    "    acuracia = mt.accuracy_score(y_val, y_pred)\n",
    "    precision = mt.precision_score(y_val, y_pred, pos_label=0)\n",
    "    recall = mt.recall_score(y_val, y_pred, pos_label=0)\n",
    "    f1 = mt.f1_score(y_val, y_pred, pos_label=0)\n",
    "\n",
    "    # Armazenar os resultados em uma nova linha como DataFrame\n",
    "    new_row = pd.DataFrame({\n",
    "        'max_depth': [m],\n",
    "        'n_estimators': [n],\n",
    "        'accuracy': [acuracia],\n",
    "        'precision': [precision],\n",
    "        'recall': [recall],\n",
    "        'f1_score': [f1]\n",
    "    })\n",
    "\n",
    "    # Concatenar a nova linha ao DataFrame existente\n",
    "    metrics_df = pd.concat([metrics_df, new_row], ignore_index=True)"
   ]
  },
  {
   "cell_type": "code",
   "execution_count": 15,
   "id": "a3812eb2-5b91-43db-9ea5-3929abbe7baf",
   "metadata": {
    "ExecuteTime": {
     "end_time": "2024-10-07T22:12:28.801170Z",
     "start_time": "2024-10-07T22:12:28.765014Z"
    }
   },
   "outputs": [
    {
     "data": {
      "text/html": [
       "<div>\n",
       "<style scoped>\n",
       "    .dataframe tbody tr th:only-of-type {\n",
       "        vertical-align: middle;\n",
       "    }\n",
       "\n",
       "    .dataframe tbody tr th {\n",
       "        vertical-align: top;\n",
       "    }\n",
       "\n",
       "    .dataframe thead th {\n",
       "        text-align: right;\n",
       "    }\n",
       "</style>\n",
       "<table border=\"1\" class=\"dataframe\">\n",
       "  <thead>\n",
       "    <tr style=\"text-align: right;\">\n",
       "      <th></th>\n",
       "      <th>max_depth</th>\n",
       "      <th>n_estimators</th>\n",
       "      <th>accuracy</th>\n",
       "      <th>precision</th>\n",
       "      <th>recall</th>\n",
       "      <th>f1_score</th>\n",
       "    </tr>\n",
       "  </thead>\n",
       "  <tbody>\n",
       "    <tr>\n",
       "      <th>0</th>\n",
       "      <td>2</td>\n",
       "      <td>100</td>\n",
       "      <td>0.865118</td>\n",
       "      <td>0.860505</td>\n",
       "      <td>0.909370</td>\n",
       "      <td>0.884263</td>\n",
       "    </tr>\n",
       "    <tr>\n",
       "      <th>1</th>\n",
       "      <td>2</td>\n",
       "      <td>500</td>\n",
       "      <td>0.875833</td>\n",
       "      <td>0.867536</td>\n",
       "      <td>0.921579</td>\n",
       "      <td>0.893741</td>\n",
       "    </tr>\n",
       "    <tr>\n",
       "      <th>2</th>\n",
       "      <td>2</td>\n",
       "      <td>1000</td>\n",
       "      <td>0.876251</td>\n",
       "      <td>0.867943</td>\n",
       "      <td>0.921863</td>\n",
       "      <td>0.894090</td>\n",
       "    </tr>\n",
       "    <tr>\n",
       "      <th>3</th>\n",
       "      <td>3</td>\n",
       "      <td>100</td>\n",
       "      <td>0.899096</td>\n",
       "      <td>0.895335</td>\n",
       "      <td>0.930721</td>\n",
       "      <td>0.912685</td>\n",
       "    </tr>\n",
       "    <tr>\n",
       "      <th>4</th>\n",
       "      <td>3</td>\n",
       "      <td>500</td>\n",
       "      <td>0.897069</td>\n",
       "      <td>0.893206</td>\n",
       "      <td>0.929472</td>\n",
       "      <td>0.910978</td>\n",
       "    </tr>\n",
       "    <tr>\n",
       "      <th>...</th>\n",
       "      <td>...</td>\n",
       "      <td>...</td>\n",
       "      <td>...</td>\n",
       "      <td>...</td>\n",
       "      <td>...</td>\n",
       "      <td>...</td>\n",
       "    </tr>\n",
       "    <tr>\n",
       "      <th>82</th>\n",
       "      <td>29</td>\n",
       "      <td>500</td>\n",
       "      <td>0.962998</td>\n",
       "      <td>0.956765</td>\n",
       "      <td>0.978932</td>\n",
       "      <td>0.967722</td>\n",
       "    </tr>\n",
       "    <tr>\n",
       "      <th>83</th>\n",
       "      <td>29</td>\n",
       "      <td>1000</td>\n",
       "      <td>0.962579</td>\n",
       "      <td>0.956025</td>\n",
       "      <td>0.978989</td>\n",
       "      <td>0.967371</td>\n",
       "    </tr>\n",
       "    <tr>\n",
       "      <th>84</th>\n",
       "      <td>30</td>\n",
       "      <td>100</td>\n",
       "      <td>0.962418</td>\n",
       "      <td>0.956570</td>\n",
       "      <td>0.978081</td>\n",
       "      <td>0.967206</td>\n",
       "    </tr>\n",
       "    <tr>\n",
       "      <th>85</th>\n",
       "      <td>30</td>\n",
       "      <td>500</td>\n",
       "      <td>0.962933</td>\n",
       "      <td>0.956710</td>\n",
       "      <td>0.978876</td>\n",
       "      <td>0.967666</td>\n",
       "    </tr>\n",
       "    <tr>\n",
       "      <th>86</th>\n",
       "      <td>30</td>\n",
       "      <td>1000</td>\n",
       "      <td>0.963191</td>\n",
       "      <td>0.956628</td>\n",
       "      <td>0.979443</td>\n",
       "      <td>0.967901</td>\n",
       "    </tr>\n",
       "  </tbody>\n",
       "</table>\n",
       "<p>87 rows × 6 columns</p>\n",
       "</div>"
      ],
      "text/plain": [
       "   max_depth n_estimators  accuracy  precision    recall  f1_score\n",
       "0          2          100  0.865118   0.860505  0.909370  0.884263\n",
       "1          2          500  0.875833   0.867536  0.921579  0.893741\n",
       "2          2         1000  0.876251   0.867943  0.921863  0.894090\n",
       "3          3          100  0.899096   0.895335  0.930721  0.912685\n",
       "4          3          500  0.897069   0.893206  0.929472  0.910978\n",
       "..       ...          ...       ...        ...       ...       ...\n",
       "82        29          500  0.962998   0.956765  0.978932  0.967722\n",
       "83        29         1000  0.962579   0.956025  0.978989  0.967371\n",
       "84        30          100  0.962418   0.956570  0.978081  0.967206\n",
       "85        30          500  0.962933   0.956710  0.978876  0.967666\n",
       "86        30         1000  0.963191   0.956628  0.979443  0.967901\n",
       "\n",
       "[87 rows x 6 columns]"
      ]
     },
     "execution_count": 15,
     "metadata": {},
     "output_type": "execute_result"
    }
   ],
   "source": [
    "# DataFrame com os valores das métricas de performance para os valores de 'max_depth' e 'n_estimators' testados\n",
    "metrics_df"
   ]
  },
  {
   "cell_type": "markdown",
   "id": "71604b03",
   "metadata": {},
   "source": [
    "Como o objetivo principal da pesquisa é identificar os clientes insatisfeitos para tomar ações corretivas, o **recall** é a figura de mérito mais relevante.</br>Assim, um alto **recall** garante que a maioria dos clientes insatisfeitos seja corretamente identificada.</br>\n",
    "Os melhores valores de **max_depth** e **n_estimators** são aqueles que produzem o maior valor da métrica de interesse."
   ]
  },
  {
   "cell_type": "code",
   "execution_count": 16,
   "id": "4d2369ed-cab5-42e1-96ca-537363c8ca1e",
   "metadata": {
    "ExecuteTime": {
     "end_time": "2024-10-07T22:15:34.851052Z",
     "start_time": "2024-10-07T22:15:34.805703Z"
    }
   },
   "outputs": [
    {
     "data": {
      "text/html": [
       "<div>\n",
       "<style scoped>\n",
       "    .dataframe tbody tr th:only-of-type {\n",
       "        vertical-align: middle;\n",
       "    }\n",
       "\n",
       "    .dataframe tbody tr th {\n",
       "        vertical-align: top;\n",
       "    }\n",
       "\n",
       "    .dataframe thead th {\n",
       "        text-align: right;\n",
       "    }\n",
       "</style>\n",
       "<table border=\"1\" class=\"dataframe\">\n",
       "  <thead>\n",
       "    <tr style=\"text-align: right;\">\n",
       "      <th></th>\n",
       "      <th>max_depth</th>\n",
       "      <th>n_estimators</th>\n",
       "      <th>accuracy</th>\n",
       "      <th>precision</th>\n",
       "      <th>recall</th>\n",
       "      <th>f1_score</th>\n",
       "    </tr>\n",
       "  </thead>\n",
       "  <tbody>\n",
       "    <tr>\n",
       "      <th>86</th>\n",
       "      <td>30</td>\n",
       "      <td>1000</td>\n",
       "      <td>0.963191</td>\n",
       "      <td>0.956628</td>\n",
       "      <td>0.979443</td>\n",
       "      <td>0.967901</td>\n",
       "    </tr>\n",
       "  </tbody>\n",
       "</table>\n",
       "</div>"
      ],
      "text/plain": [
       "   max_depth n_estimators  accuracy  precision    recall  f1_score\n",
       "86        30         1000  0.963191   0.956628  0.979443  0.967901"
      ]
     },
     "execution_count": 16,
     "metadata": {},
     "output_type": "execute_result"
    }
   ],
   "source": [
    "metrics_df.sort_values(by='recall', ascending=False).head(1)"
   ]
  },
  {
   "cell_type": "code",
   "execution_count": 11,
   "id": "4f70b1fe-e12e-4d6c-b240-96c31a24d7ca",
   "metadata": {
    "ExecuteTime": {
     "end_time": "2024-10-14T02:41:34.477114Z",
     "start_time": "2024-10-14T02:41:34.463020Z"
    }
   },
   "outputs": [],
   "source": [
    "# Melhores parâmetros: 'max_depth' = 30 e 'n_estimators' = 1000\n",
    "best_max_depth = 30\n",
    "best_n_estimators = 1000"
   ]
  },
  {
   "cell_type": "markdown",
   "id": "f8c05c4c-0462-47f6-8ccc-31a011139cda",
   "metadata": {},
   "source": [
    "## 5.4 - Desempenho do modelo para os dados de teste"
   ]
  },
  {
   "cell_type": "code",
   "execution_count": 12,
   "id": "d84ee3a6-9dc9-4cd2-acb1-3417fcc8dd35",
   "metadata": {
    "ExecuteTime": {
     "end_time": "2024-10-14T02:43:51.267784Z",
     "start_time": "2024-10-14T02:41:35.799946Z"
    }
   },
   "outputs": [
    {
     "data": {
      "text/html": [
       "<div>\n",
       "<style scoped>\n",
       "    .dataframe tbody tr th:only-of-type {\n",
       "        vertical-align: middle;\n",
       "    }\n",
       "\n",
       "    .dataframe tbody tr th {\n",
       "        vertical-align: top;\n",
       "    }\n",
       "\n",
       "    .dataframe thead th {\n",
       "        text-align: right;\n",
       "    }\n",
       "</style>\n",
       "<table border=\"1\" class=\"dataframe\">\n",
       "  <thead>\n",
       "    <tr style=\"text-align: right;\">\n",
       "      <th></th>\n",
       "      <th>Algorithm</th>\n",
       "      <th>Step</th>\n",
       "      <th>Accuracy</th>\n",
       "      <th>Precision</th>\n",
       "      <th>Recall</th>\n",
       "      <th>F1-Score</th>\n",
       "    </tr>\n",
       "  </thead>\n",
       "  <tbody>\n",
       "    <tr>\n",
       "      <th>0</th>\n",
       "      <td>Random Forest</td>\n",
       "      <td>Test</td>\n",
       "      <td>0.9631</td>\n",
       "      <td>0.9567</td>\n",
       "      <td>0.9785</td>\n",
       "      <td>0.9675</td>\n",
       "    </tr>\n",
       "  </tbody>\n",
       "</table>\n",
       "</div>"
      ],
      "text/plain": [
       "       Algorithm  Step  Accuracy  Precision  Recall  F1-Score\n",
       "0  Random Forest  Test    0.9631     0.9567  0.9785    0.9675"
      ]
     },
     "execution_count": 12,
     "metadata": {},
     "output_type": "execute_result"
    }
   ],
   "source": [
    "# Definição do modelo\n",
    "random_forest_test = RandomForestClassifier( \n",
    "                                            max_depth=best_max_depth, \n",
    "                                            n_estimators=best_n_estimators, \n",
    "                                            random_state=0\n",
    ")\n",
    "\n",
    "# Juntar os dados de treino e validação\n",
    "random_forest_test.fit( pd.concat( [X_train, X_val] ),\n",
    "                        pd.concat( [y_train, y_val] ) )\n",
    "\n",
    "# Predições sobre os dados de teste\n",
    "y_pred_test = random_forest_test.predict( X_test )\n",
    "\n",
    "# Métricas\n",
    "df_metrics_test = metrics(y_test, y_pred_test, 'Test', 'Random Forest')\n",
    "df_metrics_test"
   ]
  },
  {
   "cell_type": "markdown",
   "id": "e946afe1",
   "metadata": {},
   "source": [
    "# 6.0 - Gera as planilhas com os resultados"
   ]
  },
  {
   "cell_type": "code",
   "execution_count": 13,
   "id": "20d7cf31-6aa9-4952-8c00-08bab37bbed1",
   "metadata": {
    "ExecuteTime": {
     "end_time": "2024-10-14T02:46:40.936740Z",
     "start_time": "2024-10-14T02:46:40.439478Z"
    }
   },
   "outputs": [],
   "source": [
    "exporta_excel('random_forest')"
   ]
  }
 ],
 "metadata": {
  "kernelspec": {
   "display_name": "Python 3 (ipykernel)",
   "language": "python",
   "name": "python3"
  },
  "language_info": {
   "codemirror_mode": {
    "name": "ipython",
    "version": 3
   },
   "file_extension": ".py",
   "mimetype": "text/x-python",
   "name": "python",
   "nbconvert_exporter": "python",
   "pygments_lexer": "ipython3",
   "version": "3.9.12"
  }
 },
 "nbformat": 4,
 "nbformat_minor": 5
}
