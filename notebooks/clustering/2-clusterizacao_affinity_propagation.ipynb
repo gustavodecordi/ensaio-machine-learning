{
 "cells": [
  {
   "cell_type": "markdown",
   "id": "eb44f8e9",
   "metadata": {},
   "source": [
    "# 0.0 - Affinity Propagation\n",
    "\n",
    "O parâmetro utilizado para treinar o algoritmo **Affinity Propagation** será o `preference` (*float*), `n_clusters`. Para mais detalhes do algoritmo, recomendamos a consulta da documentação oficial na página:\n",
    "\n",
    "https://scikit-learn.org/stable/modules/generated/sklearn.cluster.AffinityPropagation.html\n",
    "\n",
    "O parâmetro `preference` na implementação da biblioteca **sklearn** pode assumir tanto valores negativos quanto positivos. Ele influencia diretamente o número de clusters formados, uma vez que define a propensão de cada ponto a ser escolhido como exemplar (representante do cluster).\n",
    "\n",
    "Em geral:  \n",
    "- Um valor muito **baixo** de `preference` resultará em um grande número de clusters.  \n",
    "- Um valor **alto** pode resultar em poucos ou até um único cluster.\n",
    "\n",
    "Por padrão, se `preference` não for especificado, o *sklearn* define automaticamente os valores com base nos dados fornecidos, geralmente configurando como a **mediana das similaridades**."
   ]
  },
  {
   "cell_type": "markdown",
   "id": "7a2ed776",
   "metadata": {},
   "source": [
    "# 1.0 - Importando bibliotecas "
   ]
  },
  {
   "cell_type": "code",
   "execution_count": 2,
   "id": "102b602f",
   "metadata": {
    "ExecuteTime": {
     "end_time": "2024-10-21T22:03:17.065004Z",
     "start_time": "2024-10-21T22:03:13.538962Z"
    }
   },
   "outputs": [],
   "source": [
    "import warnings\n",
    "warnings.filterwarnings(\"ignore\")\n",
    "\n",
    "import pandas as pd\n",
    "import numpy  as np\n",
    "from sklearn import cluster as c\n",
    "from matplotlib import pyplot as plt\n",
    "from scipy import stats\n",
    "\n",
    "from sklearn.metrics import euclidean_distances\n",
    "from sklearn import metrics as m"
   ]
  },
  {
   "cell_type": "markdown",
   "id": "ffe03a0b",
   "metadata": {},
   "source": [
    "# 2.0 - Funções"
   ]
  },
  {
   "cell_type": "code",
   "execution_count": 9,
   "id": "989e76ef",
   "metadata": {
    "ExecuteTime": {
     "end_time": "2024-10-21T22:04:30.389772Z",
     "start_time": "2024-10-21T22:04:30.363386Z"
    }
   },
   "outputs": [],
   "source": [
    "def treina_modelo(X_data, p_array):\n",
    "    \"\"\"\n",
    "      Treina o algoritmo Affinity Propagation para diferentes valores do parâmetro preference,\n",
    "      e armazena os resultados da Silhouette Score em dataset.\n",
    "      \n",
    "      Args:\n",
    "          X_data (numpy.ndarray): Array NumPy contendo os dados a serem clusterizados.\n",
    "          p_array (numpy.ndarray): Array NumPy contendo os valores de preference utilizados.\n",
    "          \n",
    "      Retorno:\n",
    "      --------\n",
    "      df_metrics : pandas.DataFrame\n",
    "          DataFrame contendo as métricas calculadas:\n",
    "          - 'preference': valor do parâmetro.\n",
    "          - 'silhouette score média (avg SS)': métrica de performance.\n",
    "          - 'número de clusters': quantidade total de clusters formados.\n",
    "    \"\"\"\n",
    "    # Criar DataFrame para armazenar resultados\n",
    "    metrics_df = pd.DataFrame(columns=[\"preference\", \"silhouette score média (avg SS)\", \"número de clusters\"])\n",
    "    for p in p_array:\n",
    "        # model definition\n",
    "        aff_prop = c.AffinityPropagation( preference = p, random_state = 0 )\n",
    "\n",
    "        # model training (calcula as matrizes S, R, D e C)\n",
    "        aff_prop.fit( X_data )\n",
    "\n",
    "        # performance\n",
    "        ss_avg = np.round( m.silhouette_score( X_data, aff_prop.labels_ ), 5 )\n",
    "        \n",
    "        # clusters por amostra\n",
    "        rotulos = aff_prop.labels_\n",
    "\n",
    "        new_row = pd.DataFrame({\"preference\": [p], \n",
    "                                \"silhouette score média (avg SS)\": [ss_avg],\n",
    "                                \"número de clusters\": [len( np.unique(rotulos) )]})\n",
    "\n",
    "        # Concatenar a nova linha ao DataFrame existente\n",
    "        metrics_df = pd.concat([metrics_df, new_row], ignore_index=True)\n",
    "    return metrics_df\n",
    "\n",
    "\n",
    "def plot_silhouette(p_array, silhouette_scores):\n",
    "    \"\"\"\n",
    "      Plota o Silhouette Score para diferentes valores do parâmetro preference.\n",
    "\n",
    "      Esta função recebe os resultados pré-calculados do Affinity Propagation para \n",
    "      diferentes valores do parâmetro preference e plota os gráficos do Silhouette Score, \n",
    "      facilitando a visualização e comparação para a escolha do valor ideal de preference.\n",
    "\n",
    "      Args:\n",
    "          aff_prop (sklearn.cluster.AffinityPropagation): Modelo Affinity Propagation já treinado.\n",
    "          p_array (numpy.ndarray): Array NumPy contendo os valores de preference utilizados.\n",
    "          silhouette_scores (numpy.ndarray): Array NumPy contendo os valores médios do Silhouette Score para preference.\n",
    "      \"\"\"\n",
    "    # Plot Silhouette Score\n",
    "    plt.plot(p_array, silhouette_scores)\n",
    "    plt.xlabel( 'Preference' )\n",
    "    plt.ylabel( 'Silhouette Score' )\n",
    "    plt.title( 'Affinity Propagation')\n",
    "    plt.show()\n",
    "    \n",
    "def visualiza_clusters(X_data, p):\n",
    "    \"\"\"\n",
    "      Visualiza os clusters obtidos através do algoritmo Affinity Propagation.\n",
    "\n",
    "      Esta função recebe um array NumPy contendo os dados e o valor do parâmetro preference desejado,\n",
    "      plota um scatter plot com os pontos coloridos de acordo com o cluster a que pertencem. \n",
    "      Também plota os centróides dos clusters com marcadores 'x' vermelhos.\n",
    "\n",
    "      Args:\n",
    "          X_data (numpy.ndarray): Array NumPy contendo os dados a serem clusterizados.\n",
    "          p (float): valor do parâmetro preference desejado para o Affinity Propagation.\n",
    "      \"\"\"\n",
    "    aff_prop = c.AffinityPropagation( preference = p, random_state = 0 )\n",
    "    labels = aff_prop.fit_predict(X_data)\n",
    "\n",
    "    plt.scatter(X_data[:, 0], X_data[:, 1], c=labels, cmap='viridis')\n",
    "    plt.scatter(aff_prop.cluster_centers_[:, 0], aff_prop.cluster_centers_[:, 1], marker='x', s=200, c='red')\n",
    "    plt.xlabel('alcohol')\n",
    "    plt.ylabel('malic acid')\n",
    "    plt.title(f'Clusters para preference={p}')\n",
    "    plt.show();"
   ]
  },
  {
   "cell_type": "markdown",
   "id": "3e4d2532",
   "metadata": {},
   "source": [
    "# 3.0 - Carregando os dados"
   ]
  },
  {
   "cell_type": "code",
   "execution_count": 4,
   "id": "2ae5b4f1",
   "metadata": {
    "ExecuteTime": {
     "end_time": "2024-10-21T22:03:22.701227Z",
     "start_time": "2024-10-21T22:03:22.620209Z"
    }
   },
   "outputs": [
    {
     "data": {
      "text/html": [
       "<div>\n",
       "<style scoped>\n",
       "    .dataframe tbody tr th:only-of-type {\n",
       "        vertical-align: middle;\n",
       "    }\n",
       "\n",
       "    .dataframe tbody tr th {\n",
       "        vertical-align: top;\n",
       "    }\n",
       "\n",
       "    .dataframe thead th {\n",
       "        text-align: right;\n",
       "    }\n",
       "</style>\n",
       "<table border=\"1\" class=\"dataframe\">\n",
       "  <thead>\n",
       "    <tr style=\"text-align: right;\">\n",
       "      <th></th>\n",
       "      <th>alcohol</th>\n",
       "      <th>malic_acid</th>\n",
       "      <th>ash</th>\n",
       "      <th>ash_alcanity</th>\n",
       "      <th>magnesium</th>\n",
       "      <th>total_phenols</th>\n",
       "      <th>flavanoids</th>\n",
       "      <th>nonflavanoid_phenols</th>\n",
       "      <th>proanthocyanins</th>\n",
       "      <th>color_intensity</th>\n",
       "      <th>hue</th>\n",
       "      <th>od280</th>\n",
       "      <th>proline</th>\n",
       "    </tr>\n",
       "  </thead>\n",
       "  <tbody>\n",
       "    <tr>\n",
       "      <th>0</th>\n",
       "      <td>1.518613</td>\n",
       "      <td>0.191700</td>\n",
       "      <td>0.232053</td>\n",
       "      <td>-1.169593</td>\n",
       "      <td>1.913905</td>\n",
       "      <td>0.627586</td>\n",
       "      <td>0.573840</td>\n",
       "      <td>-0.659563</td>\n",
       "      <td>1.224884</td>\n",
       "      <td>0.251717</td>\n",
       "      <td>0.455285</td>\n",
       "      <td>0.970696</td>\n",
       "      <td>0.561341</td>\n",
       "    </tr>\n",
       "    <tr>\n",
       "      <th>1</th>\n",
       "      <td>0.246290</td>\n",
       "      <td>0.205534</td>\n",
       "      <td>-0.827996</td>\n",
       "      <td>-2.490847</td>\n",
       "      <td>0.018145</td>\n",
       "      <td>0.575862</td>\n",
       "      <td>0.510549</td>\n",
       "      <td>-0.820719</td>\n",
       "      <td>-0.544721</td>\n",
       "      <td>-0.293321</td>\n",
       "      <td>0.463415</td>\n",
       "      <td>0.780220</td>\n",
       "      <td>0.550642</td>\n",
       "    </tr>\n",
       "    <tr>\n",
       "      <th>2</th>\n",
       "      <td>0.196879</td>\n",
       "      <td>0.320158</td>\n",
       "      <td>1.109334</td>\n",
       "      <td>-0.268738</td>\n",
       "      <td>0.088358</td>\n",
       "      <td>0.627586</td>\n",
       "      <td>0.611814</td>\n",
       "      <td>-0.498407</td>\n",
       "      <td>2.135968</td>\n",
       "      <td>0.269020</td>\n",
       "      <td>0.447154</td>\n",
       "      <td>0.695971</td>\n",
       "      <td>0.646933</td>\n",
       "    </tr>\n",
       "    <tr>\n",
       "      <th>3</th>\n",
       "      <td>1.691550</td>\n",
       "      <td>0.239130</td>\n",
       "      <td>0.487926</td>\n",
       "      <td>-0.809251</td>\n",
       "      <td>0.930918</td>\n",
       "      <td>0.989655</td>\n",
       "      <td>0.664557</td>\n",
       "      <td>-0.981875</td>\n",
       "      <td>1.032155</td>\n",
       "      <td>1.186068</td>\n",
       "      <td>0.308943</td>\n",
       "      <td>0.798535</td>\n",
       "      <td>0.857347</td>\n",
       "    </tr>\n",
       "    <tr>\n",
       "      <th>4</th>\n",
       "      <td>0.295700</td>\n",
       "      <td>0.365613</td>\n",
       "      <td>1.840403</td>\n",
       "      <td>0.451946</td>\n",
       "      <td>1.281985</td>\n",
       "      <td>0.627586</td>\n",
       "      <td>0.495781</td>\n",
       "      <td>0.226796</td>\n",
       "      <td>0.401404</td>\n",
       "      <td>-0.319276</td>\n",
       "      <td>0.455285</td>\n",
       "      <td>0.608059</td>\n",
       "      <td>0.325963</td>\n",
       "    </tr>\n",
       "  </tbody>\n",
       "</table>\n",
       "</div>"
      ],
      "text/plain": [
       "    alcohol  malic_acid       ash  ash_alcanity  magnesium  total_phenols   \n",
       "0  1.518613    0.191700  0.232053     -1.169593   1.913905       0.627586  \\\n",
       "1  0.246290    0.205534 -0.827996     -2.490847   0.018145       0.575862   \n",
       "2  0.196879    0.320158  1.109334     -0.268738   0.088358       0.627586   \n",
       "3  1.691550    0.239130  0.487926     -0.809251   0.930918       0.989655   \n",
       "4  0.295700    0.365613  1.840403      0.451946   1.281985       0.627586   \n",
       "\n",
       "   flavanoids  nonflavanoid_phenols  proanthocyanins  color_intensity   \n",
       "0    0.573840             -0.659563         1.224884         0.251717  \\\n",
       "1    0.510549             -0.820719        -0.544721        -0.293321   \n",
       "2    0.611814             -0.498407         2.135968         0.269020   \n",
       "3    0.664557             -0.981875         1.032155         1.186068   \n",
       "4    0.495781              0.226796         0.401404        -0.319276   \n",
       "\n",
       "        hue     od280   proline  \n",
       "0  0.455285  0.970696  0.561341  \n",
       "1  0.463415  0.780220  0.550642  \n",
       "2  0.447154  0.695971  0.646933  \n",
       "3  0.308943  0.798535  0.857347  \n",
       "4  0.455285  0.608059  0.325963  "
      ]
     },
     "execution_count": 4,
     "metadata": {},
     "output_type": "execute_result"
    }
   ],
   "source": [
    "df = pd.read_csv('data/X_dataset.csv')\n",
    "df.head()"
   ]
  },
  {
   "cell_type": "markdown",
   "id": "162da4b2",
   "metadata": {},
   "source": [
    "# 4.0 - Desempenho do modelo"
   ]
  },
  {
   "cell_type": "code",
   "execution_count": 5,
   "id": "94f3d24a",
   "metadata": {
    "ExecuteTime": {
     "end_time": "2024-10-21T22:03:24.392933Z",
     "start_time": "2024-10-21T22:03:24.378978Z"
    }
   },
   "outputs": [],
   "source": [
    "# Como temos apenas dados numéricos, a seleção é mais simples. \n",
    "# X: Array NumPy contendo todas as features numéricas extraídas diretamente do DataFrame Pandas.\n",
    "X = df.values"
   ]
  },
  {
   "cell_type": "code",
   "execution_count": 10,
   "id": "7cb8ca9e",
   "metadata": {
    "ExecuteTime": {
     "end_time": "2024-10-21T22:04:36.311760Z",
     "start_time": "2024-10-21T22:04:34.883617Z"
    }
   },
   "outputs": [
    {
     "data": {
      "text/html": [
       "<div>\n",
       "<style scoped>\n",
       "    .dataframe tbody tr th:only-of-type {\n",
       "        vertical-align: middle;\n",
       "    }\n",
       "\n",
       "    .dataframe tbody tr th {\n",
       "        vertical-align: top;\n",
       "    }\n",
       "\n",
       "    .dataframe thead th {\n",
       "        text-align: right;\n",
       "    }\n",
       "</style>\n",
       "<table border=\"1\" class=\"dataframe\">\n",
       "  <thead>\n",
       "    <tr style=\"text-align: right;\">\n",
       "      <th></th>\n",
       "      <th>preference</th>\n",
       "      <th>silhouette score média (avg SS)</th>\n",
       "      <th>número de clusters</th>\n",
       "    </tr>\n",
       "  </thead>\n",
       "  <tbody>\n",
       "    <tr>\n",
       "      <th>0</th>\n",
       "      <td>-60</td>\n",
       "      <td>0.18318</td>\n",
       "      <td>6</td>\n",
       "    </tr>\n",
       "    <tr>\n",
       "      <th>1</th>\n",
       "      <td>-59</td>\n",
       "      <td>0.18318</td>\n",
       "      <td>6</td>\n",
       "    </tr>\n",
       "    <tr>\n",
       "      <th>2</th>\n",
       "      <td>-58</td>\n",
       "      <td>0.18318</td>\n",
       "      <td>6</td>\n",
       "    </tr>\n",
       "    <tr>\n",
       "      <th>3</th>\n",
       "      <td>-57</td>\n",
       "      <td>0.18318</td>\n",
       "      <td>6</td>\n",
       "    </tr>\n",
       "    <tr>\n",
       "      <th>4</th>\n",
       "      <td>-56</td>\n",
       "      <td>0.20118</td>\n",
       "      <td>7</td>\n",
       "    </tr>\n",
       "    <tr>\n",
       "      <th>5</th>\n",
       "      <td>-55</td>\n",
       "      <td>0.20118</td>\n",
       "      <td>7</td>\n",
       "    </tr>\n",
       "    <tr>\n",
       "      <th>6</th>\n",
       "      <td>-54</td>\n",
       "      <td>0.18423</td>\n",
       "      <td>7</td>\n",
       "    </tr>\n",
       "    <tr>\n",
       "      <th>7</th>\n",
       "      <td>-53</td>\n",
       "      <td>0.19924</td>\n",
       "      <td>7</td>\n",
       "    </tr>\n",
       "    <tr>\n",
       "      <th>8</th>\n",
       "      <td>-52</td>\n",
       "      <td>0.20229</td>\n",
       "      <td>7</td>\n",
       "    </tr>\n",
       "    <tr>\n",
       "      <th>9</th>\n",
       "      <td>-51</td>\n",
       "      <td>0.20229</td>\n",
       "      <td>7</td>\n",
       "    </tr>\n",
       "    <tr>\n",
       "      <th>10</th>\n",
       "      <td>-50</td>\n",
       "      <td>0.20229</td>\n",
       "      <td>7</td>\n",
       "    </tr>\n",
       "    <tr>\n",
       "      <th>11</th>\n",
       "      <td>-49</td>\n",
       "      <td>0.20229</td>\n",
       "      <td>7</td>\n",
       "    </tr>\n",
       "    <tr>\n",
       "      <th>12</th>\n",
       "      <td>-48</td>\n",
       "      <td>0.20229</td>\n",
       "      <td>7</td>\n",
       "    </tr>\n",
       "    <tr>\n",
       "      <th>13</th>\n",
       "      <td>-47</td>\n",
       "      <td>0.20366</td>\n",
       "      <td>7</td>\n",
       "    </tr>\n",
       "    <tr>\n",
       "      <th>14</th>\n",
       "      <td>-46</td>\n",
       "      <td>0.16802</td>\n",
       "      <td>8</td>\n",
       "    </tr>\n",
       "    <tr>\n",
       "      <th>15</th>\n",
       "      <td>-45</td>\n",
       "      <td>0.18962</td>\n",
       "      <td>7</td>\n",
       "    </tr>\n",
       "    <tr>\n",
       "      <th>16</th>\n",
       "      <td>-44</td>\n",
       "      <td>0.18962</td>\n",
       "      <td>7</td>\n",
       "    </tr>\n",
       "    <tr>\n",
       "      <th>17</th>\n",
       "      <td>-43</td>\n",
       "      <td>0.18962</td>\n",
       "      <td>7</td>\n",
       "    </tr>\n",
       "    <tr>\n",
       "      <th>18</th>\n",
       "      <td>-42</td>\n",
       "      <td>0.18962</td>\n",
       "      <td>7</td>\n",
       "    </tr>\n",
       "    <tr>\n",
       "      <th>19</th>\n",
       "      <td>-41</td>\n",
       "      <td>0.18518</td>\n",
       "      <td>8</td>\n",
       "    </tr>\n",
       "    <tr>\n",
       "      <th>20</th>\n",
       "      <td>-40</td>\n",
       "      <td>0.16226</td>\n",
       "      <td>8</td>\n",
       "    </tr>\n",
       "    <tr>\n",
       "      <th>21</th>\n",
       "      <td>-39</td>\n",
       "      <td>0.18822</td>\n",
       "      <td>8</td>\n",
       "    </tr>\n",
       "    <tr>\n",
       "      <th>22</th>\n",
       "      <td>-38</td>\n",
       "      <td>0.18822</td>\n",
       "      <td>8</td>\n",
       "    </tr>\n",
       "    <tr>\n",
       "      <th>23</th>\n",
       "      <td>-37</td>\n",
       "      <td>0.18822</td>\n",
       "      <td>8</td>\n",
       "    </tr>\n",
       "    <tr>\n",
       "      <th>24</th>\n",
       "      <td>-36</td>\n",
       "      <td>0.18587</td>\n",
       "      <td>8</td>\n",
       "    </tr>\n",
       "    <tr>\n",
       "      <th>25</th>\n",
       "      <td>-35</td>\n",
       "      <td>0.18587</td>\n",
       "      <td>8</td>\n",
       "    </tr>\n",
       "    <tr>\n",
       "      <th>26</th>\n",
       "      <td>-34</td>\n",
       "      <td>0.16857</td>\n",
       "      <td>9</td>\n",
       "    </tr>\n",
       "    <tr>\n",
       "      <th>27</th>\n",
       "      <td>-33</td>\n",
       "      <td>0.16857</td>\n",
       "      <td>9</td>\n",
       "    </tr>\n",
       "    <tr>\n",
       "      <th>28</th>\n",
       "      <td>-32</td>\n",
       "      <td>0.15895</td>\n",
       "      <td>11</td>\n",
       "    </tr>\n",
       "    <tr>\n",
       "      <th>29</th>\n",
       "      <td>-31</td>\n",
       "      <td>0.15895</td>\n",
       "      <td>11</td>\n",
       "    </tr>\n",
       "    <tr>\n",
       "      <th>30</th>\n",
       "      <td>-30</td>\n",
       "      <td>0.14675</td>\n",
       "      <td>10</td>\n",
       "    </tr>\n",
       "    <tr>\n",
       "      <th>31</th>\n",
       "      <td>-29</td>\n",
       "      <td>0.15895</td>\n",
       "      <td>11</td>\n",
       "    </tr>\n",
       "    <tr>\n",
       "      <th>32</th>\n",
       "      <td>-28</td>\n",
       "      <td>0.15895</td>\n",
       "      <td>11</td>\n",
       "    </tr>\n",
       "    <tr>\n",
       "      <th>33</th>\n",
       "      <td>-27</td>\n",
       "      <td>0.15895</td>\n",
       "      <td>11</td>\n",
       "    </tr>\n",
       "    <tr>\n",
       "      <th>34</th>\n",
       "      <td>-26</td>\n",
       "      <td>0.15895</td>\n",
       "      <td>11</td>\n",
       "    </tr>\n",
       "    <tr>\n",
       "      <th>35</th>\n",
       "      <td>-25</td>\n",
       "      <td>0.15895</td>\n",
       "      <td>11</td>\n",
       "    </tr>\n",
       "    <tr>\n",
       "      <th>36</th>\n",
       "      <td>-24</td>\n",
       "      <td>0.15895</td>\n",
       "      <td>11</td>\n",
       "    </tr>\n",
       "    <tr>\n",
       "      <th>37</th>\n",
       "      <td>-23</td>\n",
       "      <td>0.15895</td>\n",
       "      <td>11</td>\n",
       "    </tr>\n",
       "    <tr>\n",
       "      <th>38</th>\n",
       "      <td>-22</td>\n",
       "      <td>0.15895</td>\n",
       "      <td>11</td>\n",
       "    </tr>\n",
       "    <tr>\n",
       "      <th>39</th>\n",
       "      <td>-21</td>\n",
       "      <td>0.15895</td>\n",
       "      <td>11</td>\n",
       "    </tr>\n",
       "    <tr>\n",
       "      <th>40</th>\n",
       "      <td>-20</td>\n",
       "      <td>0.15895</td>\n",
       "      <td>11</td>\n",
       "    </tr>\n",
       "    <tr>\n",
       "      <th>41</th>\n",
       "      <td>-19</td>\n",
       "      <td>0.15549</td>\n",
       "      <td>12</td>\n",
       "    </tr>\n",
       "    <tr>\n",
       "      <th>42</th>\n",
       "      <td>-18</td>\n",
       "      <td>0.15549</td>\n",
       "      <td>12</td>\n",
       "    </tr>\n",
       "    <tr>\n",
       "      <th>43</th>\n",
       "      <td>-17</td>\n",
       "      <td>0.15990</td>\n",
       "      <td>12</td>\n",
       "    </tr>\n",
       "    <tr>\n",
       "      <th>44</th>\n",
       "      <td>-16</td>\n",
       "      <td>0.15990</td>\n",
       "      <td>12</td>\n",
       "    </tr>\n",
       "    <tr>\n",
       "      <th>45</th>\n",
       "      <td>-15</td>\n",
       "      <td>0.16100</td>\n",
       "      <td>13</td>\n",
       "    </tr>\n",
       "    <tr>\n",
       "      <th>46</th>\n",
       "      <td>-14</td>\n",
       "      <td>0.16893</td>\n",
       "      <td>16</td>\n",
       "    </tr>\n",
       "    <tr>\n",
       "      <th>47</th>\n",
       "      <td>-13</td>\n",
       "      <td>0.16939</td>\n",
       "      <td>17</td>\n",
       "    </tr>\n",
       "    <tr>\n",
       "      <th>48</th>\n",
       "      <td>-12</td>\n",
       "      <td>0.16896</td>\n",
       "      <td>18</td>\n",
       "    </tr>\n",
       "    <tr>\n",
       "      <th>49</th>\n",
       "      <td>-11</td>\n",
       "      <td>0.17179</td>\n",
       "      <td>21</td>\n",
       "    </tr>\n",
       "    <tr>\n",
       "      <th>50</th>\n",
       "      <td>-10</td>\n",
       "      <td>0.17127</td>\n",
       "      <td>25</td>\n",
       "    </tr>\n",
       "    <tr>\n",
       "      <th>51</th>\n",
       "      <td>-9</td>\n",
       "      <td>0.17090</td>\n",
       "      <td>27</td>\n",
       "    </tr>\n",
       "    <tr>\n",
       "      <th>52</th>\n",
       "      <td>-8</td>\n",
       "      <td>0.16815</td>\n",
       "      <td>29</td>\n",
       "    </tr>\n",
       "    <tr>\n",
       "      <th>53</th>\n",
       "      <td>-7</td>\n",
       "      <td>0.17358</td>\n",
       "      <td>31</td>\n",
       "    </tr>\n",
       "    <tr>\n",
       "      <th>54</th>\n",
       "      <td>-6</td>\n",
       "      <td>0.16484</td>\n",
       "      <td>35</td>\n",
       "    </tr>\n",
       "    <tr>\n",
       "      <th>55</th>\n",
       "      <td>-5</td>\n",
       "      <td>0.16449</td>\n",
       "      <td>41</td>\n",
       "    </tr>\n",
       "    <tr>\n",
       "      <th>56</th>\n",
       "      <td>-4</td>\n",
       "      <td>0.15294</td>\n",
       "      <td>46</td>\n",
       "    </tr>\n",
       "    <tr>\n",
       "      <th>57</th>\n",
       "      <td>-3</td>\n",
       "      <td>0.14804</td>\n",
       "      <td>62</td>\n",
       "    </tr>\n",
       "    <tr>\n",
       "      <th>58</th>\n",
       "      <td>-2</td>\n",
       "      <td>0.12147</td>\n",
       "      <td>86</td>\n",
       "    </tr>\n",
       "  </tbody>\n",
       "</table>\n",
       "</div>"
      ],
      "text/plain": [
       "   preference  silhouette score média (avg SS) número de clusters\n",
       "0         -60                          0.18318                  6\n",
       "1         -59                          0.18318                  6\n",
       "2         -58                          0.18318                  6\n",
       "3         -57                          0.18318                  6\n",
       "4         -56                          0.20118                  7\n",
       "5         -55                          0.20118                  7\n",
       "6         -54                          0.18423                  7\n",
       "7         -53                          0.19924                  7\n",
       "8         -52                          0.20229                  7\n",
       "9         -51                          0.20229                  7\n",
       "10        -50                          0.20229                  7\n",
       "11        -49                          0.20229                  7\n",
       "12        -48                          0.20229                  7\n",
       "13        -47                          0.20366                  7\n",
       "14        -46                          0.16802                  8\n",
       "15        -45                          0.18962                  7\n",
       "16        -44                          0.18962                  7\n",
       "17        -43                          0.18962                  7\n",
       "18        -42                          0.18962                  7\n",
       "19        -41                          0.18518                  8\n",
       "20        -40                          0.16226                  8\n",
       "21        -39                          0.18822                  8\n",
       "22        -38                          0.18822                  8\n",
       "23        -37                          0.18822                  8\n",
       "24        -36                          0.18587                  8\n",
       "25        -35                          0.18587                  8\n",
       "26        -34                          0.16857                  9\n",
       "27        -33                          0.16857                  9\n",
       "28        -32                          0.15895                 11\n",
       "29        -31                          0.15895                 11\n",
       "30        -30                          0.14675                 10\n",
       "31        -29                          0.15895                 11\n",
       "32        -28                          0.15895                 11\n",
       "33        -27                          0.15895                 11\n",
       "34        -26                          0.15895                 11\n",
       "35        -25                          0.15895                 11\n",
       "36        -24                          0.15895                 11\n",
       "37        -23                          0.15895                 11\n",
       "38        -22                          0.15895                 11\n",
       "39        -21                          0.15895                 11\n",
       "40        -20                          0.15895                 11\n",
       "41        -19                          0.15549                 12\n",
       "42        -18                          0.15549                 12\n",
       "43        -17                          0.15990                 12\n",
       "44        -16                          0.15990                 12\n",
       "45        -15                          0.16100                 13\n",
       "46        -14                          0.16893                 16\n",
       "47        -13                          0.16939                 17\n",
       "48        -12                          0.16896                 18\n",
       "49        -11                          0.17179                 21\n",
       "50        -10                          0.17127                 25\n",
       "51         -9                          0.17090                 27\n",
       "52         -8                          0.16815                 29\n",
       "53         -7                          0.17358                 31\n",
       "54         -6                          0.16484                 35\n",
       "55         -5                          0.16449                 41\n",
       "56         -4                          0.15294                 46\n",
       "57         -3                          0.14804                 62\n",
       "58         -2                          0.12147                 86"
      ]
     },
     "execution_count": 10,
     "metadata": {},
     "output_type": "execute_result"
    }
   ],
   "source": [
    "# Array com os valores do hiper-parâmetro 'preference'\n",
    "p_array = np.arange(-60, -1, 1)\n",
    "\n",
    "metrics_df = treina_modelo(X, p_array)\n",
    "metrics_df"
   ]
  },
  {
   "cell_type": "markdown",
   "id": "3cc47c9a",
   "metadata": {},
   "source": [
    "## 4.1 - Melhor p segundo a métrica de *Silhouette Score*"
   ]
  },
  {
   "cell_type": "code",
   "execution_count": 11,
   "id": "c173461d",
   "metadata": {
    "ExecuteTime": {
     "end_time": "2024-10-21T22:04:53.327359Z",
     "start_time": "2024-10-21T22:04:53.026099Z"
    }
   },
   "outputs": [
    {
     "data": {
      "image/png": "[encoded data removed]",
      "text/plain": [
       "<Figure size 640x480 with 1 Axes>"
      ]
     },
     "metadata": {},
     "output_type": "display_data"
    }
   ],
   "source": [
    "# Gráfico da 'silhouette score média (avg SS)' em função do 'preference'\n",
    "plot_silhouette(p_array, metrics_df['silhouette score média (avg SS)'].values)"
   ]
  },
  {
   "cell_type": "code",
   "execution_count": 12,
   "id": "1cb538ee",
   "metadata": {
    "ExecuteTime": {
     "end_time": "2024-10-21T22:04:58.304876Z",
     "start_time": "2024-10-21T22:04:58.282903Z"
    }
   },
   "outputs": [
    {
     "data": {
      "text/html": [
       "<div>\n",
       "<style scoped>\n",
       "    .dataframe tbody tr th:only-of-type {\n",
       "        vertical-align: middle;\n",
       "    }\n",
       "\n",
       "    .dataframe tbody tr th {\n",
       "        vertical-align: top;\n",
       "    }\n",
       "\n",
       "    .dataframe thead th {\n",
       "        text-align: right;\n",
       "    }\n",
       "</style>\n",
       "<table border=\"1\" class=\"dataframe\">\n",
       "  <thead>\n",
       "    <tr style=\"text-align: right;\">\n",
       "      <th></th>\n",
       "      <th>preference</th>\n",
       "      <th>silhouette score média (avg SS)</th>\n",
       "      <th>número de clusters</th>\n",
       "    </tr>\n",
       "  </thead>\n",
       "  <tbody>\n",
       "    <tr>\n",
       "      <th>13</th>\n",
       "      <td>-47</td>\n",
       "      <td>0.20366</td>\n",
       "      <td>7</td>\n",
       "    </tr>\n",
       "  </tbody>\n",
       "</table>\n",
       "</div>"
      ],
      "text/plain": [
       "   preference  silhouette score média (avg SS) número de clusters\n",
       "13        -47                          0.20366                  7"
      ]
     },
     "execution_count": 12,
     "metadata": {},
     "output_type": "execute_result"
    }
   ],
   "source": [
    "# Melhor valor de 'preference'\n",
    "metrics_df.sort_values(by='silhouette score média (avg SS)', ascending=False).head(1)"
   ]
  },
  {
   "cell_type": "markdown",
   "id": "117e6e1f",
   "metadata": {},
   "source": [
    "## 4.2 - Treinando o algoritmo com o melhor valor de `preference`"
   ]
  },
  {
   "cell_type": "code",
   "execution_count": 13,
   "id": "89898ad9",
   "metadata": {
    "ExecuteTime": {
     "end_time": "2024-10-21T22:05:13.531754Z",
     "start_time": "2024-10-21T22:05:13.497833Z"
    }
   },
   "outputs": [],
   "source": [
    "best_p = -47\n",
    "\n",
    "# model definition\n",
    "best_model = c.AffinityPropagation( preference = best_p, random_state = 0 )\n",
    "\n",
    "# model training (calcula S, R, D e C)\n",
    "best_model.fit( X )\n",
    "\n",
    "# rotulos dos clusters\n",
    "rotulos = best_model.labels_"
   ]
  },
  {
   "cell_type": "code",
   "execution_count": 37,
   "id": "fdbce977",
   "metadata": {
    "ExecuteTime": {
     "end_time": "2024-10-22T01:03:16.704490Z",
     "start_time": "2024-10-22T01:03:16.683578Z"
    }
   },
   "outputs": [
    {
     "name": "stdout",
     "output_type": "stream",
     "text": [
      "Número de clusters devido a aplicação do Affinity Propagation com preference = -47:\n",
      "7 clusters\n"
     ]
    }
   ],
   "source": [
    "# Qtde de clusters gerados com o melhor parâmetro\n",
    "print(f\"Número de clusters devido a aplicação do Affinity Propagation com preference = {best_p}:\\n{len( np.unique(rotulos))} clusters\")"
   ]
  },
  {
   "cell_type": "code",
   "execution_count": 15,
   "id": "cb722827",
   "metadata": {
    "ExecuteTime": {
     "end_time": "2024-10-21T22:05:58.852166Z",
     "start_time": "2024-10-21T22:05:58.606925Z"
    }
   },
   "outputs": [
    {
     "data": {
      "image/png": "[encoded data removed]",
      "text/plain": [
       "<Figure size 640x480 with 1 Axes>"
      ]
     },
     "metadata": {},
     "output_type": "display_data"
    }
   ],
   "source": [
    "# Visualização dos clusters com o melhor p\n",
    "visualiza_clusters(X, -47)"
   ]
  },
  {
   "cell_type": "markdown",
   "id": "a5232a54",
   "metadata": {},
   "source": [
    "A exemplo do que foi observado no ensaio do *K-Means*, um valor de **0.20366** para a **Silhouette Score Média** indica que os **7** clusters identificados pelo algoritmo *Affinity Propagation* não estão muito bem definidos. \n",
    "\n",
    "# 5.0 - Refinamento do pré-processamento\n",
    "\n",
    "Novamente, iremos aplicar a mesma análise que fizemos no outro ensaio com o objetivo de melhorar o desempenho do modelo, a saber: **Análise de Correlação entre as features** e **Remoção de Outliers**.\n",
    "\n",
    "\n",
    "Relembrando o que foi feito no último ensaio, extraímos as variáveis `total_phenols` e `od280` devido à alta correlação observada na **Matriz de Correlações** e eliminamos os poucos *outliers* presentes no conjunto de dados (Para maiores detalhes, consultar o ensaio do *K-Means*).  \n",
    "Vamos replicar esse mesmo processo aqui:"
   ]
  },
  {
   "cell_type": "code",
   "execution_count": 16,
   "id": "5e4f5bc2",
   "metadata": {
    "ExecuteTime": {
     "end_time": "2024-10-21T22:07:07.925079Z",
     "start_time": "2024-10-21T22:07:07.914672Z"
    }
   },
   "outputs": [],
   "source": [
    "# Extração das colunas 'total_phenols' e 'od280'\n",
    "df1 = df.drop(columns=['total_phenols', 'od280'])"
   ]
  },
  {
   "cell_type": "code",
   "execution_count": 17,
   "id": "ea6d8bd6",
   "metadata": {
    "ExecuteTime": {
     "end_time": "2024-10-21T22:07:09.445422Z",
     "start_time": "2024-10-21T22:07:09.426687Z"
    }
   },
   "outputs": [],
   "source": [
    "# Definindo um limiar de 3 desvios-padrão (remoção dos outliers)\n",
    "z_scores = np.abs(stats.zscore(df1))\n",
    "df1_cleaned = df1[(z_scores < 3).all(axis=1)]"
   ]
  },
  {
   "cell_type": "markdown",
   "id": "bc367f4d",
   "metadata": {},
   "source": [
    "# 6.0 - Desempenho do modelo refinado"
   ]
  },
  {
   "cell_type": "code",
   "execution_count": 18,
   "id": "7cb36ba0",
   "metadata": {
    "ExecuteTime": {
     "end_time": "2024-10-21T22:07:16.983617Z",
     "start_time": "2024-10-21T22:07:15.874656Z"
    }
   },
   "outputs": [],
   "source": [
    "df1_cleaned = df1_cleaned.reset_index(drop=True)\n",
    "X_ = df1_cleaned.values\n",
    "\n",
    "# Array com os valores do hiper-parâmetro 'preference'\n",
    "p_array = np.arange(-60, -1, 1)\n",
    "\n",
    "metrics_df_ = treina_modelo(X_, p_array)"
   ]
  },
  {
   "cell_type": "code",
   "execution_count": 19,
   "id": "e4cc1fe0",
   "metadata": {
    "ExecuteTime": {
     "end_time": "2024-10-21T22:07:20.779571Z",
     "start_time": "2024-10-21T22:07:20.754609Z"
    }
   },
   "outputs": [
    {
     "data": {
      "text/html": [
       "<div>\n",
       "<style scoped>\n",
       "    .dataframe tbody tr th:only-of-type {\n",
       "        vertical-align: middle;\n",
       "    }\n",
       "\n",
       "    .dataframe tbody tr th {\n",
       "        vertical-align: top;\n",
       "    }\n",
       "\n",
       "    .dataframe thead th {\n",
       "        text-align: right;\n",
       "    }\n",
       "</style>\n",
       "<table border=\"1\" class=\"dataframe\">\n",
       "  <thead>\n",
       "    <tr style=\"text-align: right;\">\n",
       "      <th></th>\n",
       "      <th>preference</th>\n",
       "      <th>silhouette score média (avg SS)</th>\n",
       "      <th>número de clusters</th>\n",
       "    </tr>\n",
       "  </thead>\n",
       "  <tbody>\n",
       "    <tr>\n",
       "      <th>8</th>\n",
       "      <td>-52</td>\n",
       "      <td>0.19128</td>\n",
       "      <td>5</td>\n",
       "    </tr>\n",
       "  </tbody>\n",
       "</table>\n",
       "</div>"
      ],
      "text/plain": [
       "  preference  silhouette score média (avg SS) número de clusters\n",
       "8        -52                          0.19128                  5"
      ]
     },
     "execution_count": 19,
     "metadata": {},
     "output_type": "execute_result"
    }
   ],
   "source": [
    "metrics_df_.sort_values(by='silhouette score média (avg SS)', ascending=False).head(1)"
   ]
  },
  {
   "cell_type": "markdown",
   "id": "96b83625",
   "metadata": {},
   "source": [
    "## 6.1 - Treinando com o melhor valor de `preference` pós refinamento do modelo"
   ]
  },
  {
   "cell_type": "code",
   "execution_count": 20,
   "id": "1f6f0ddc",
   "metadata": {
    "ExecuteTime": {
     "end_time": "2024-10-21T22:07:33.728705Z",
     "start_time": "2024-10-21T22:07:33.697602Z"
    }
   },
   "outputs": [],
   "source": [
    "best_p_ = -52\n",
    "\n",
    "# model definition\n",
    "best_model_ = c.AffinityPropagation( preference = best_p_, random_state = 0 )\n",
    "\n",
    "# model training (calcula S, R, D e C)\n",
    "best_model_.fit( X_ )\n",
    "\n",
    "# rotulos dos clusters\n",
    "rotulos_ = best_model_.labels_"
   ]
  },
  {
   "cell_type": "code",
   "execution_count": 36,
   "id": "1d90f7d5",
   "metadata": {
    "ExecuteTime": {
     "end_time": "2024-10-22T01:03:02.282306Z",
     "start_time": "2024-10-22T01:03:02.276006Z"
    }
   },
   "outputs": [
    {
     "name": "stdout",
     "output_type": "stream",
     "text": [
      "Número de clusters devido a aplicação do Affinity Propagation com preference = -52:\n",
      "5 clusters\n"
     ]
    }
   ],
   "source": [
    "# Qtde de clusters gerados com o melhor parâmetro (pós refinamento)\n",
    "print(f\"Número de clusters devido a aplicação do Affinity Propagation com preference = {best_p_}:\\n{len( np.unique(rotulos_))} clusters\")"
   ]
  },
  {
   "cell_type": "code",
   "execution_count": 22,
   "id": "619856f6",
   "metadata": {
    "ExecuteTime": {
     "end_time": "2024-10-21T22:07:52.945049Z",
     "start_time": "2024-10-21T22:07:52.690574Z"
    }
   },
   "outputs": [
    {
     "data": {
      "image/png": "[encoded data removed]",
      "text/plain": [
       "<Figure size 640x480 with 1 Axes>"
      ]
     },
     "metadata": {},
     "output_type": "display_data"
    }
   ],
   "source": [
    "# Visualização dos clusters com o melhor p\n",
    "visualiza_clusters(X_, -52)"
   ]
  },
  {
   "cell_type": "markdown",
   "id": "44473b96",
   "metadata": {
    "ExecuteTime": {
     "end_time": "2024-08-24T21:13:25.201618Z",
     "start_time": "2024-08-24T21:13:25.177978Z"
    }
   },
   "source": [
    "# 7.0 - Conclusão\n",
    "\n",
    "Mesmo após a etapa de refinamento dos dados, envolvendo a exclusão de variáveis altamente correlacionadas e a remoção dos *outliers*, não foi possível elevar o desempenho do modelo no que diz respeito à **Silhouette Score Média**. O gráfico de dispersão acima é um reflexo disso: os clusters ainda estão sobrepostos. Além do mais, o número de agrupamentos encontrado (**5**) não representa com fidelidade os **3** tipos de vinhos analisados.\n",
    "\n",
    "Observando o gráfico abaixo, que ilustra o número de *clusters* formados para cada valor de *preference*, entendemos que:\n",
    "\n",
    "- valores maiores de `preference` incentivam a formação de muitos clusters pequenos, enquanto que valores baixos favorecem a formação de poucos e grandes clusters;\n",
    "\n",
    "A grosso modo, percebemos que ajustar **apenas** este hiper-parâmetro não foi suficiente para obter resultados ideais. Poderíamos também explorar o impacto de outros hiper-parâmetros como **damping**, **max_iter** e **convergence_iter** na performance, bem como treinar outros algoritmos de clusterização.\n",
    "\n",
    "No próximo ciclo de aprendizado, é recomendável lançar mão de técnicas mais avançadas de **Redução de Dimensionalidade** como **PCA**. Enfatizamos que na versão atual do curso, ferramentas deste tipo não foram abordadas."
   ]
  },
  {
   "cell_type": "code",
   "execution_count": 26,
   "id": "4abb704f",
   "metadata": {
    "ExecuteTime": {
     "end_time": "2024-10-21T22:26:23.211794Z",
     "start_time": "2024-10-21T22:26:22.993762Z"
    }
   },
   "outputs": [
    {
     "data": {
      "image/png": "[encoded data removed]",
      "text/plain": [
       "<Figure size 640x480 with 1 Axes>"
      ]
     },
     "metadata": {},
     "output_type": "display_data"
    }
   ],
   "source": [
    "# Plot Clusters formados x Preference\n",
    "plt.plot(p_array, metrics_df_['número de clusters'].values, marker = '.')\n",
    "plt.xlabel( 'Preference' )\n",
    "plt.ylabel( 'Clusters formados' )\n",
    "plt.title( 'Clusters formados x Preference')\n",
    "plt.show()"
   ]
  }
 ],
 "metadata": {
  "kernelspec": {
   "display_name": "Python 3 (ipykernel)",
   "language": "python",
   "name": "python3"
  },
  "language_info": {
   "codemirror_mode": {
    "name": "ipython",
    "version": 3
   },
   "file_extension": ".py",
   "mimetype": "text/x-python",
   "name": "python",
   "nbconvert_exporter": "python",
   "pygments_lexer": "ipython3",
   "version": "3.9.12"
  }
 },
 "nbformat": 4,
 "nbformat_minor": 5
}
